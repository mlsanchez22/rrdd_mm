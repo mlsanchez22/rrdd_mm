{
 "cells": [
  {
   "cell_type": "markdown",
   "id": "2ab571a7-299f-4968-9146-c7406fc0319f",
   "metadata": {
    "collapsed": true,
    "jupyter": {
     "outputs_hidden": true
    }
   },
   "source": [
    "library(hipathia)\n",
    "library(AnnotationDbi)\n",
    "library(org.Hs.eg.db)\n",
    "library(ComplexHeatmap)\n",
    "library(circlize)\n",
    "library(ggplot2)\n",
    "library(jsonlite)\n",
    "library(networkD3)\n",
    "library(webshot)\n",
    "library(dplyr)"
   ]
  },
  {
   "cell_type": "code",
   "execution_count": 2,
   "id": "647cd251-f2ad-4c48-9a94-f88e3d62b16e",
   "metadata": {},
   "outputs": [],
   "source": [
    "library(hipathia)\n",
    "library(AnnotationDbi)\n",
    "library(org.Hs.eg.db)\n",
    "library(ComplexHeatmap)\n",
    "library(circlize)\n",
    "library(ggplot2)\n",
    "library(jsonlite)\n",
    "library(networkD3)\n",
    "library(webshot)\n",
    "library(dplyr)\n",
    "library(ggsci)\n",
    "library(htmlwidgets)"
   ]
  },
  {
   "cell_type": "code",
   "execution_count": 3,
   "id": "e502ba5f-474d-49e0-8566-eaf5ac8154f3",
   "metadata": {},
   "outputs": [],
   "source": [
    "files_male <- list.files(\"/mnt/lustre/scratch/CBRA/research/projects/rrdd_mm/results/05_clasi_result_kstest/05_2_clasi_result_kstest_sign_only_male/\")"
   ]
  },
  {
   "cell_type": "code",
   "execution_count": 4,
   "id": "45c8d897-dbd7-4131-9cd0-d42ce0c852fa",
   "metadata": {},
   "outputs": [],
   "source": [
    "read_files <- function(x){\n",
    "    file <- paste(\"/mnt/lustre/scratch/CBRA/research/projects/rrdd_mm/results/05_clasi_result_kstest/05_2_clasi_result_kstest_sign_only_male/\", x,sep=\"\")\n",
    "    kstest_pv_adj_kovsctrl_sign <- readRDS(file)\n",
    "    kstest_pv_adj_kovsctrl_sign$ko <- rep(gsub(\".rds\",\"\",gsub(\"kstest_pvadj_logfc_kovsctrl_sign_only_male_\",\"\", x)), length(kstest_pv_adj_kovsctrl_sign$circ))\n",
    "    return(kstest_pv_adj_kovsctrl_sign)\n",
    "}"
   ]
  },
  {
   "cell_type": "code",
   "execution_count": 5,
   "id": "2dd19677-d810-422d-ab5d-443585697311",
   "metadata": {},
   "outputs": [],
   "source": [
    "ko_sign_male <- do.call(rbind,lapply(files_male, FUN=function(x) read_files(x)))"
   ]
  },
  {
   "cell_type": "code",
   "execution_count": 6,
   "id": "d513f152-cfdc-4207-9565-e11ea4f6d7ff",
   "metadata": {},
   "outputs": [
    {
     "name": "stderr",
     "output_type": "stream",
     "text": [
      "Loaded 146 pathways\n",
      "\n"
     ]
    }
   ],
   "source": [
    "pathways <- load_pathways(\"hsa\")\n",
    "ko_sign_male$hip_name <- get_path_names(pathways, ko_sign_male$circ)"
   ]
  },
  {
   "cell_type": "code",
   "execution_count": 7,
   "id": "4aff1a4f-fa24-4364-b580-3a6b10876e7f",
   "metadata": {},
   "outputs": [
    {
     "name": "stderr",
     "output_type": "stream",
     "text": [
      "'select()' returned many:1 mapping between keys and columns\n",
      "\n"
     ]
    }
   ],
   "source": [
    "name_enfermerdad_symbol <- readRDS(\"/mnt/lustre/scratch/CBRA/research/projects/rrdd_mm/results/00_parser_orphanet/gen_enfermedad/name_enfermerdad_symbol.rds\")\n",
    "colnames(name_enfermerdad_symbol) <- c(\"name_enf\",\"gene\")\n",
    "symbol_entreid <- AnnotationDbi::select(org.Hs.eg.db, keys=paste(name_enfermerdad_symbol$gene), columns=c(\"ENTREZID\"),keytype=\"SYMBOL\")\n",
    "\n",
    "gen_enf <- unique(merge(name_enfermerdad_symbol, symbol_entreid, by.x=\"gene\",by.y=\"SYMBOL\"))\n",
    "rd_gen_class <- readRDS(\"/mnt/lustre/scratch/CBRA/research/projects/rrdd_mm/results/00_parser_orphanet/rd_gen_class.rds\")"
   ]
  },
  {
   "cell_type": "code",
   "execution_count": 8,
   "id": "4a246a8f-d78d-4af5-b3a7-72957a287787",
   "metadata": {},
   "outputs": [],
   "source": [
    "ko_sign_male_graph <- unique(merge(ko_sign_male, gen_enf, by.x=\"ko\",by.y=\"ENTREZID\")[,c(\"sex\",\"logFC\",\"tissue\",\"hip_name\",\"gene\")])"
   ]
  },
  {
   "cell_type": "code",
   "execution_count": 9,
   "id": "3f9bb64f-9d6b-4ddc-b467-b0f25f1885cd",
   "metadata": {},
   "outputs": [],
   "source": [
    "ko_sign_male_graph$path <-  unlist(lapply(ko_sign_male_graph$hip_name, FUN=function(x) unlist(strsplit(x,\":\"))[1]))\n",
    "ko_sign_male_graph_path <- unique(ko_sign_male_graph[,c(\"sex\",\"tissue\",\"path\",\"gene\")])\n",
    "ko_sign_male_graph_class <- unique(merge(ko_sign_male_graph, rd_gen_class,by.x=\"gene\",by.y=\"V1\")[,c(\"gene\",\"tissue\",\"path\",\"clasificacion\")])                                          \n",
    "ko_sign_male_graph_class$clasificacion <- paste(ko_sign_male_graph_class$clasificacion)                                          \n",
    "ko_sign_male_graph_class$path <- paste(ko_sign_male_graph_class$path)                                                                                    "
   ]
  },
  {
   "cell_type": "code",
   "execution_count": 10,
   "id": "89b6323d-4c0d-4370-8aab-6cde8ef60542",
   "metadata": {},
   "outputs": [],
   "source": [
    "ko_sign_male_graph_class$clas[which(ko_sign_male_graph_class$clasificacion == \"Rare neurologic disease\")] <- \"RNEUD\"\n",
    "ko_sign_male_graph_class$clas[which(ko_sign_male_graph_class$clasificacion == \"Rare ophthalmic disorder\")] <- \"ROPHD\" \n",
    "ko_sign_male_graph_class$clas[which(ko_sign_male_graph_class$clasificacion == \"non_rare_in_europe\")] <- \"NRIE\" \n",
    "ko_sign_male_graph_class$clas[which(ko_sign_male_graph_class$clasificacion == \"Rare developmental defect during embryogenesis\")] <- \"RDDDE\"\n",
    "ko_sign_male_graph_class$clas[which(ko_sign_male_graph_class$clasificacion == \"Rare bone disease\")] <- \"RBD\"\n",
    "ko_sign_male_graph_class$clas[which(ko_sign_male_graph_class$clasificacion == \"Rare endocrine disease\")] <- \"RENDD\" \n",
    "ko_sign_male_graph_class$clas[which(ko_sign_male_graph_class$clasificacion == \"Rare immune disease\")] <- \"RID\"\n",
    "ko_sign_male_graph_class$clas[which(ko_sign_male_graph_class$clasificacion == \"Rare skin disease\")] <- \"RSD\"\n",
    "ko_sign_male_graph_class$clas[which(ko_sign_male_graph_class$clasificacion == \"Rare odontologic disease\")] <- \"RODOND\""
   ]
  },
  {
   "cell_type": "code",
   "execution_count": 11,
   "id": "b8a9f317-1f8f-4f4b-a662-d58fdecd7bf2",
   "metadata": {},
   "outputs": [],
   "source": [
    "clas_colors <- c('RNEUD' = \"#ff7f00\",\n",
    "'ROPHD' = \"#e31a1c\",\n",
    "'NRIE' = \"#45aeff\",\n",
    "'RDDDE' = \"#b2df8a\",\n",
    "'RBD' = \"#66c2a5\",\n",
    "'RENDD' = \"#8c564b\",\n",
    "'RID' =  \"#a6cee3\",\n",
    "'RSD' =  \"#b15928\", \n",
    "'RODOND' =  \"#cab2d6\")"
   ]
  },
  {
   "cell_type": "code",
   "execution_count": 18,
   "id": "edb860b0-387f-4a21-9b67-7df72342138a",
   "metadata": {},
   "outputs": [
    {
     "data": {
      "text/html": [
       "<strong>png:</strong> 2"
      ],
      "text/latex": [
       "\\textbf{png:} 2"
      ],
      "text/markdown": [
       "**png:** 2"
      ],
      "text/plain": [
       "png \n",
       "  2 "
      ]
     },
     "metadata": {},
     "output_type": "display_data"
    }
   ],
   "source": [
    "jpeg(\"/mnt/lustre/scratch/CBRA/research/projects/rrdd_mm/results/07_graph_results/07_1_ko_sign_only_male/heatmap_ko_sign_only_male.jpeg\", quality = 100, width = 800, height = 600)\n",
    "ko_sign_male_graph_class %>% ggplot(aes(x= tissue, y = gene, fill = clas)) + \n",
    "  scale_fill_manual(values = clas_colors) +\n",
    "  geom_tile(color=\"white\")  + facet_grid(path ~ ., scales = \"free_y\", space = \"free_y\") +\n",
    "  labs(title = \"\", x = \"Tissues\", y = \"Genes RRDD\", fill=\"Clas of RRDD\" ,color = \"Legend Title\\n\") + \n",
    "    theme_minimal() + \n",
    "    theme(strip.text.y = element_text(size=9, angle=360), \n",
    "        strip.background = element_rect(colour=\"grey\", fill=c(\"#66B9B9\")),\n",
    "        legend.position=\"right\", legend.direction=\"vertical\",\n",
    "        legend.text=element_text(size=11),\n",
    "        axis.text.x=element_text(size=11,vjust=0.5, angle = 90),\n",
    "        axis.text.y=element_text(size=8,vjust=0.5),\n",
    "        plot.title=element_text(hjust=0, size=14)) \n",
    "dev.off()"
   ]
  },
  {
   "cell_type": "code",
   "execution_count": 19,
   "id": "f62523c8-391a-4050-9fb0-1c53ba966579",
   "metadata": {},
   "outputs": [],
   "source": [
    "sankey_diag <- unique(merge(rd_gen_class, merge(ko_sign_male, gen_enf, by.x=\"ko\",by.y=\"ENTREZID\")[,c(\"tissue\",\"gene\",\"hip_name\")], by.x=\"V1\",by.y=\"gene\")[,c(\"tissue\",\"clasificacion\",\"hip_name\")])"
   ]
  },
  {
   "cell_type": "code",
   "execution_count": 20,
   "id": "f64de682-a55f-408f-a595-7ce8a63415b8",
   "metadata": {},
   "outputs": [],
   "source": [
    "sankey_diag$path <- unlist(lapply(sankey_diag$hip_name, FUN=function(x) unlist(strsplit(x,\":\"))[1]))\n",
    "\n",
    "sankey_diag$clasificacion <- paste(sankey_diag$clasificacion)                                  \n",
    "sankey_diag$clasificacion[sankey_diag$clasificacion == 'Rare developmental defect during embryogenesis'] <- 'Rare develop. defect during embryogenesis' "
   ]
  },
  {
   "cell_type": "code",
   "execution_count": 36,
   "id": "05fa9467-022d-471e-94b6-1ba443e2608b",
   "metadata": {},
   "outputs": [],
   "source": [
    "links <- data.frame(\"source\"=c(paste(sankey_diag$clasificacion),paste(sankey_diag$tissue)),\n",
    "                    \"target\"=c(paste(sankey_diag$tissue),paste(sankey_diag$path)),\n",
    "                    \"value\"=rep(1, length(paste(sankey_diag$clasificacion))))\n",
    "\n",
    "nodes <- data.frame(\n",
    "  \"name\"=c(as.character(links$source), \n",
    "         as.character(links$target)) %>% unique()\n",
    ")\n",
    "\n",
    "links$IDsource <- match(links$source, nodes$name)-1 \n",
    "links$IDtarget <- match(links$target, nodes$name)-1\n",
    "\n",
    "num_colors <- length(unique(c(links$source, links$target)))\n",
    "#colors <- pal_aaas(\"default\")(num_colors)\n",
    "colors <- c(\n",
    "      # Lightest Colors (Lighter shades)\n",
    "  \"#FFDAC7\", \"#F7B09A\", \"#FFCE66\", \"#E0E0E0\", \"#B37BBC\", \n",
    "  \"#D98282\", \"#FFA74C\", \"#F39B7F\", \"#F04C52\", \"#D68A72\", \n",
    "  \n",
    "  \n",
    "  # Base Colors (Original shades)\n",
    "  \"#3B4992\", \"#008280\", \"#E01E26\", \"#E69F00\", \"#3C5488\", \n",
    "  \"#F39B7F\", \"#B2B2B2\", \"#844288\", \"#A73030\", \"#D16103\", \n",
    "  \n",
    "  # Medium-Dark Colors\n",
    "  \"#555FAA\", \"#354A7A\", \"#CC8B00\", \"#A67000\", \"#7F3F02\", \n",
    "  \"#592A5F\", \"#A5151A\", \"#818181\", \"#6F3673\", \"#B55402\", \n",
    "  \n",
    "  # Darkest Colors (Darker shades)\n",
    "  \"#2A306C\", \"#005F5A\", \"#C81A21\", \"#B55402\", \"#741F1F\", \n",
    "  \"#2B3A61\", \"#323E82\", \"#007072\", \"#A67000\", \"#902828\"\n",
    ")\n",
    "\n",
    "# Create color scale in JS format\n",
    "color_scale <- sprintf(\"d3.scaleOrdinal().domain(%s).range(%s)\", \n",
    "                       jsonlite::toJSON(nodes$name), \n",
    "                       jsonlite::toJSON(colors))\n",
    "\n",
    "# Create Sankey diagram with custom color scale\n",
    "p <- sankeyNetwork(Links = links, Nodes = nodes,\n",
    "                   Source = \"IDsource\", Target = \"IDtarget\",\n",
    "                   Value = \"value\", NodeID = \"name\", \n",
    "                   sinksRight = FALSE, nodeWidth = 50, fontSize = 10,\n",
    "                   colourScale = color_scale)\n",
    "\n",
    "# Save the network as HTML and PNG\n",
    "saveNetwork(p, \"/mnt/lustre/scratch/CBRA/research/projects/rrdd_mm/results/07_graph_results/07_1_ko_sign_only_male/sankey_ko_sign_only_male.html\")\n",
    "webshot::webshot(\"/mnt/lustre/scratch/CBRA/research/projects/rrdd_mm/results/07_graph_results/07_1_ko_sign_only_male/sankey_ko_sign_only_male.html\",\"/mnt/lustre/scratch/CBRA/research/projects/rrdd_mm/results/07_graph_results/07_1_ko_sign_only_male/sankey_ko_sign_only_male.png\", vwidth = 1000, vheight = 900)"
   ]
  },
  {
   "cell_type": "code",
   "execution_count": 45,
   "id": "d7e79719-3b13-4fe8-a33b-9c395e94a1f5",
   "metadata": {},
   "outputs": [
    {
     "name": "stderr",
     "output_type": "stream",
     "text": [
      "Warning message in rbind(...):\n",
      "“number of columns of result is not a multiple of vector length (arg 477)”\n"
     ]
    }
   ],
   "source": [
    "x <- org.Hs.egCHR\n",
    "mapped_genes <- mappedkeys(x)\n",
    "xx <- as.list(x[mapped_genes])\n",
    "df_gen_cromosoma <- as.data.frame(do.call(rbind, xx))"
   ]
  },
  {
   "cell_type": "code",
   "execution_count": 56,
   "id": "accdd7b2-887f-4239-be91-e0adb743f41c",
   "metadata": {},
   "outputs": [
    {
     "data": {
      "text/html": [
       "<style>\n",
       ".list-inline {list-style: none; margin:0; padding: 0}\n",
       ".list-inline>li {display: inline-block}\n",
       ".list-inline>li:not(:last-child)::after {content: \"\\00b7\"; padding: 0 .5ex}\n",
       "</style>\n",
       "<ol class=list-inline><li>'6197'</li><li>'778'</li></ol>\n"
      ],
      "text/latex": [
       "\\begin{enumerate*}\n",
       "\\item '6197'\n",
       "\\item '778'\n",
       "\\end{enumerate*}\n"
      ],
      "text/markdown": [
       "1. '6197'\n",
       "2. '778'\n",
       "\n",
       "\n"
      ],
      "text/plain": [
       "[1] \"6197\" \"778\" "
      ]
     },
     "metadata": {},
     "output_type": "display_data"
    },
    {
     "data": {
      "text/html": [
       "<table class=\"dataframe\">\n",
       "<caption>A data.frame: 3 × 3</caption>\n",
       "<thead>\n",
       "\t<tr><th></th><th scope=col>gene</th><th scope=col>name_enf</th><th scope=col>ENTREZID</th></tr>\n",
       "\t<tr><th></th><th scope=col>&lt;fct&gt;</th><th scope=col>&lt;fct&gt;</th><th scope=col>&lt;chr&gt;</th></tr>\n",
       "</thead>\n",
       "<tbody>\n",
       "\t<tr><th scope=row>1048</th><td>CACNA1F</td><td>Åland Islands eye disease                                   </td><td>778 </td></tr>\n",
       "\t<tr><th scope=row>7895</th><td>RPS6KA3</td><td>Coffin-Lowry syndrome                                       </td><td>6197</td></tr>\n",
       "\t<tr><th scope=row>7897</th><td>RPS6KA3</td><td>Symptomatic form of Coffin-Lowry syndrome in female carriers</td><td>6197</td></tr>\n",
       "</tbody>\n",
       "</table>\n"
      ],
      "text/latex": [
       "A data.frame: 3 × 3\n",
       "\\begin{tabular}{r|lll}\n",
       "  & gene & name\\_enf & ENTREZID\\\\\n",
       "  & <fct> & <fct> & <chr>\\\\\n",
       "\\hline\n",
       "\t1048 & CACNA1F & Åland Islands eye disease                                    & 778 \\\\\n",
       "\t7895 & RPS6KA3 & Coffin-Lowry syndrome                                        & 6197\\\\\n",
       "\t7897 & RPS6KA3 & Symptomatic form of Coffin-Lowry syndrome in female carriers & 6197\\\\\n",
       "\\end{tabular}\n"
      ],
      "text/markdown": [
       "\n",
       "A data.frame: 3 × 3\n",
       "\n",
       "| <!--/--> | gene &lt;fct&gt; | name_enf &lt;fct&gt; | ENTREZID &lt;chr&gt; |\n",
       "|---|---|---|---|\n",
       "| 1048 | CACNA1F | Åland Islands eye disease                                    | 778  |\n",
       "| 7895 | RPS6KA3 | Coffin-Lowry syndrome                                        | 6197 |\n",
       "| 7897 | RPS6KA3 | Symptomatic form of Coffin-Lowry syndrome in female carriers | 6197 |\n",
       "\n"
      ],
      "text/plain": [
       "     gene    name_enf                                                    \n",
       "1048 CACNA1F Åland Islands eye disease                                   \n",
       "7895 RPS6KA3 Coffin-Lowry syndrome                                       \n",
       "7897 RPS6KA3 Symptomatic form of Coffin-Lowry syndrome in female carriers\n",
       "     ENTREZID\n",
       "1048 778     \n",
       "7895 6197    \n",
       "7897 6197    "
      ]
     },
     "metadata": {},
     "output_type": "display_data"
    },
    {
     "data": {
      "text/html": [
       "<table class=\"dataframe\">\n",
       "<caption>A data.frame: 3 × 7</caption>\n",
       "<thead>\n",
       "\t<tr><th></th><th scope=col>kspvadj</th><th scope=col>logFC</th><th scope=col>ko</th><th scope=col>circ</th><th scope=col>sex</th><th scope=col>tissue</th><th scope=col>hip_name</th></tr>\n",
       "\t<tr><th></th><th scope=col>&lt;dbl&gt;</th><th scope=col>&lt;dbl&gt;</th><th scope=col>&lt;chr&gt;</th><th scope=col>&lt;chr&gt;</th><th scope=col>&lt;chr&gt;</th><th scope=col>&lt;chr&gt;</th><th scope=col>&lt;chr&gt;</th></tr>\n",
       "</thead>\n",
       "<tbody>\n",
       "\t<tr><th scope=row>243</th><td>8.239519e-07</td><td>-0.1400537</td><td>6197</td><td>P-hsa04010-134</td><td>male</td><td>Muscle</td><td>MAPK signaling pathway: ATF4*       </td></tr>\n",
       "\t<tr><th scope=row>247</th><td>1.022184e-02</td><td>-0.1856368</td><td>6197</td><td>P-hsa04722-38 </td><td>male</td><td>Muscle</td><td>Neurotrophin signaling pathway: ATF4</td></tr>\n",
       "\t<tr><th scope=row>355</th><td>3.364623e-04</td><td>-0.3052648</td><td>778 </td><td>P-hsa04022-23 </td><td>male</td><td>Blood </td><td>cGMP-PKG signaling pathway: CACNA1C </td></tr>\n",
       "</tbody>\n",
       "</table>\n"
      ],
      "text/latex": [
       "A data.frame: 3 × 7\n",
       "\\begin{tabular}{r|lllllll}\n",
       "  & kspvadj & logFC & ko & circ & sex & tissue & hip\\_name\\\\\n",
       "  & <dbl> & <dbl> & <chr> & <chr> & <chr> & <chr> & <chr>\\\\\n",
       "\\hline\n",
       "\t243 & 8.239519e-07 & -0.1400537 & 6197 & P-hsa04010-134 & male & Muscle & MAPK signaling pathway: ATF4*       \\\\\n",
       "\t247 & 1.022184e-02 & -0.1856368 & 6197 & P-hsa04722-38  & male & Muscle & Neurotrophin signaling pathway: ATF4\\\\\n",
       "\t355 & 3.364623e-04 & -0.3052648 & 778  & P-hsa04022-23  & male & Blood  & cGMP-PKG signaling pathway: CACNA1C \\\\\n",
       "\\end{tabular}\n"
      ],
      "text/markdown": [
       "\n",
       "A data.frame: 3 × 7\n",
       "\n",
       "| <!--/--> | kspvadj &lt;dbl&gt; | logFC &lt;dbl&gt; | ko &lt;chr&gt; | circ &lt;chr&gt; | sex &lt;chr&gt; | tissue &lt;chr&gt; | hip_name &lt;chr&gt; |\n",
       "|---|---|---|---|---|---|---|---|\n",
       "| 243 | 8.239519e-07 | -0.1400537 | 6197 | P-hsa04010-134 | male | Muscle | MAPK signaling pathway: ATF4*        |\n",
       "| 247 | 1.022184e-02 | -0.1856368 | 6197 | P-hsa04722-38  | male | Muscle | Neurotrophin signaling pathway: ATF4 |\n",
       "| 355 | 3.364623e-04 | -0.3052648 | 778  | P-hsa04022-23  | male | Blood  | cGMP-PKG signaling pathway: CACNA1C  |\n",
       "\n"
      ],
      "text/plain": [
       "    kspvadj      logFC      ko   circ           sex  tissue\n",
       "243 8.239519e-07 -0.1400537 6197 P-hsa04010-134 male Muscle\n",
       "247 1.022184e-02 -0.1856368 6197 P-hsa04722-38  male Muscle\n",
       "355 3.364623e-04 -0.3052648 778  P-hsa04022-23  male Blood \n",
       "    hip_name                            \n",
       "243 MAPK signaling pathway: ATF4*       \n",
       "247 Neurotrophin signaling pathway: ATF4\n",
       "355 cGMP-PKG signaling pathway: CACNA1C "
      ]
     },
     "metadata": {},
     "output_type": "display_data"
    }
   ],
   "source": [
    "ko_sign_male_cromo <- df_gen_cromosoma[unique(ko_sign_male$ko),]\n",
    "rownames(ko_sign_male_cromo[ko_sign_male_cromo$V1 == \"X\" |\n",
    "ko_sign_male_cromo$V2 == \"X\" |\n",
    "ko_sign_male_cromo$V3 == \"X\",]) \n",
    "gen_enf[gen_enf$ENTREZID %in% rownames(ko_sign_male_cromo[ko_sign_male_cromo$V1 == \"X\" |\n",
    "ko_sign_male_cromo$V2 == \"X\" |\n",
    "ko_sign_male_cromo$V3 == \"X\",]),]\n",
    "ko_sign_male[ko_sign_male$ko %in% rownames(ko_sign_male_cromo[ko_sign_male_cromo$V1 == \"X\" |\n",
    "ko_sign_male_cromo$V2 == \"X\" |\n",
    "ko_sign_male_cromo$V3 == \"X\",]),] "
   ]
  },
  {
   "cell_type": "code",
   "execution_count": 57,
   "id": "76ad878b-f8a4-4d5e-8ab6-1c4d688596a4",
   "metadata": {},
   "outputs": [
    {
     "name": "stderr",
     "output_type": "stream",
     "text": [
      "'select()' returned 1:1 mapping between keys and columns\n",
      "\n"
     ]
    },
    {
     "data": {
      "text/html": [
       "19"
      ],
      "text/latex": [
       "19"
      ],
      "text/markdown": [
       "19"
      ],
      "text/plain": [
       "[1] 19"
      ]
     },
     "metadata": {},
     "output_type": "display_data"
    },
    {
     "data": {
      "text/html": [
       "58"
      ],
      "text/latex": [
       "58"
      ],
      "text/markdown": [
       "58"
      ],
      "text/plain": [
       "[1] 58"
      ]
     },
     "metadata": {},
     "output_type": "display_data"
    },
    {
     "data": {
      "text/html": [
       "11"
      ],
      "text/latex": [
       "11"
      ],
      "text/markdown": [
       "11"
      ],
      "text/plain": [
       "[1] 11"
      ]
     },
     "metadata": {},
     "output_type": "display_data"
    },
    {
     "data": {
      "text/html": [
       "39"
      ],
      "text/latex": [
       "39"
      ],
      "text/markdown": [
       "39"
      ],
      "text/plain": [
       "[1] 39"
      ]
     },
     "metadata": {},
     "output_type": "display_data"
    },
    {
     "data": {
      "text/html": [
       "9"
      ],
      "text/latex": [
       "9"
      ],
      "text/markdown": [
       "9"
      ],
      "text/plain": [
       "[1] 9"
      ]
     },
     "metadata": {},
     "output_type": "display_data"
    }
   ],
   "source": [
    "ko_sign_male_annot <- unique(merge(merge(AnnotationDbi::select(org.Hs.eg.db, keys=unique(ko_sign_male$ko), columns=c(\"SYMBOL\"),keytype=\"ENTREZID\"), ko_sign_male, by.x=\"ENTREZID\",by.y=\"ko\"), rd_gen_class, by.x=\"SYMBOL\",by.y=\"V1\")[,c(\"SYMBOL\",\"enfermedad\",\"tissue\",\"hip_name\", \"clasificacion\",\"sex\")])\n",
    "colnames(ko_sign_male_annot) <- c(\"gene_rd\",\"rare_disease\",\"tissue\",\"circ\",\"clasification_rd\",\"sex\")\n",
    "length(unique(ko_sign_male_annot$gene_rd))\n",
    "length(unique(ko_sign_male_annot$rare_disease))\n",
    "length(unique(ko_sign_male_annot$tissue))\n",
    "length(unique(ko_sign_male_annot$circ))\n",
    "length(unique(ko_sign_male_annot$clasification_rd))"
   ]
  },
  {
   "cell_type": "code",
   "execution_count": 72,
   "id": "26956ec1-1782-4112-9091-85d4aefc388c",
   "metadata": {},
   "outputs": [
    {
     "data": {
      "text/html": [
       "<table class=\"dataframe\">\n",
       "<caption>A data.frame: 3 × 2</caption>\n",
       "<thead>\n",
       "\t<tr><th scope=col>Var1</th><th scope=col>Freq</th></tr>\n",
       "\t<tr><th scope=col>&lt;fct&gt;</th><th scope=col>&lt;int&gt;</th></tr>\n",
       "</thead>\n",
       "<tbody>\n",
       "\t<tr><td>Hippo signaling pathway                                 </td><td>24</td></tr>\n",
       "\t<tr><td>Signaling pathways regulating pluripotency of stem cells</td><td>30</td></tr>\n",
       "\t<tr><td>Wnt signaling pathway                                   </td><td>23</td></tr>\n",
       "</tbody>\n",
       "</table>\n"
      ],
      "text/latex": [
       "A data.frame: 3 × 2\n",
       "\\begin{tabular}{ll}\n",
       " Var1 & Freq\\\\\n",
       " <fct> & <int>\\\\\n",
       "\\hline\n",
       "\t Hippo signaling pathway                                  & 24\\\\\n",
       "\t Signaling pathways regulating pluripotency of stem cells & 30\\\\\n",
       "\t Wnt signaling pathway                                    & 23\\\\\n",
       "\\end{tabular}\n"
      ],
      "text/markdown": [
       "\n",
       "A data.frame: 3 × 2\n",
       "\n",
       "| Var1 &lt;fct&gt; | Freq &lt;int&gt; |\n",
       "|---|---|\n",
       "| Hippo signaling pathway                                  | 24 |\n",
       "| Signaling pathways regulating pluripotency of stem cells | 30 |\n",
       "| Wnt signaling pathway                                    | 23 |\n",
       "\n"
      ],
      "text/plain": [
       "  Var1                                                     Freq\n",
       "1 Hippo signaling pathway                                  24  \n",
       "2 Signaling pathways regulating pluripotency of stem cells 30  \n",
       "3 Wnt signaling pathway                                    23  "
      ]
     },
     "metadata": {},
     "output_type": "display_data"
    },
    {
     "data": {
      "text/html": [
       "<table class=\"dataframe\">\n",
       "<caption>A tibble: 9 × 2</caption>\n",
       "<thead>\n",
       "\t<tr><th scope=col>clasification_rd</th><th scope=col>n</th></tr>\n",
       "\t<tr><th scope=col>&lt;fct&gt;</th><th scope=col>&lt;int&gt;</th></tr>\n",
       "</thead>\n",
       "<tbody>\n",
       "\t<tr><td>Rare bone disease                             </td><td> 7</td></tr>\n",
       "\t<tr><td>Rare developmental defect during embryogenesis</td><td>90</td></tr>\n",
       "\t<tr><td>Rare endocrine disease                        </td><td> 8</td></tr>\n",
       "\t<tr><td>Rare immune disease                           </td><td> 1</td></tr>\n",
       "\t<tr><td>Rare neurologic disease                       </td><td>26</td></tr>\n",
       "\t<tr><td>Rare odontologic disease                      </td><td> 1</td></tr>\n",
       "\t<tr><td>Rare ophthalmic disorder                      </td><td> 1</td></tr>\n",
       "\t<tr><td>Rare skin disease                             </td><td> 3</td></tr>\n",
       "\t<tr><td>non_rare_in_europe                            </td><td> 1</td></tr>\n",
       "</tbody>\n",
       "</table>\n"
      ],
      "text/latex": [
       "A tibble: 9 × 2\n",
       "\\begin{tabular}{ll}\n",
       " clasification\\_rd & n\\\\\n",
       " <fct> & <int>\\\\\n",
       "\\hline\n",
       "\t Rare bone disease                              &  7\\\\\n",
       "\t Rare developmental defect during embryogenesis & 90\\\\\n",
       "\t Rare endocrine disease                         &  8\\\\\n",
       "\t Rare immune disease                            &  1\\\\\n",
       "\t Rare neurologic disease                        & 26\\\\\n",
       "\t Rare odontologic disease                       &  1\\\\\n",
       "\t Rare ophthalmic disorder                       &  1\\\\\n",
       "\t Rare skin disease                              &  3\\\\\n",
       "\t non\\_rare\\_in\\_europe                             &  1\\\\\n",
       "\\end{tabular}\n"
      ],
      "text/markdown": [
       "\n",
       "A tibble: 9 × 2\n",
       "\n",
       "| clasification_rd &lt;fct&gt; | n &lt;int&gt; |\n",
       "|---|---|\n",
       "| Rare bone disease                              |  7 |\n",
       "| Rare developmental defect during embryogenesis | 90 |\n",
       "| Rare endocrine disease                         |  8 |\n",
       "| Rare immune disease                            |  1 |\n",
       "| Rare neurologic disease                        | 26 |\n",
       "| Rare odontologic disease                       |  1 |\n",
       "| Rare ophthalmic disorder                       |  1 |\n",
       "| Rare skin disease                              |  3 |\n",
       "| non_rare_in_europe                             |  1 |\n",
       "\n"
      ],
      "text/plain": [
       "  clasification_rd                               n \n",
       "1 Rare bone disease                               7\n",
       "2 Rare developmental defect during embryogenesis 90\n",
       "3 Rare endocrine disease                          8\n",
       "4 Rare immune disease                             1\n",
       "5 Rare neurologic disease                        26\n",
       "6 Rare odontologic disease                        1\n",
       "7 Rare ophthalmic disorder                        1\n",
       "8 Rare skin disease                               3\n",
       "9 non_rare_in_europe                              1"
      ]
     },
     "metadata": {},
     "output_type": "display_data"
    },
    {
     "data": {
      "text/html": [
       "<table class=\"dataframe\">\n",
       "<caption>A data.frame: 6 × 6</caption>\n",
       "<thead>\n",
       "\t<tr><th></th><th scope=col>gene_rd</th><th scope=col>rare_disease</th><th scope=col>tissue</th><th scope=col>circ</th><th scope=col>clasification_rd</th><th scope=col>sex</th></tr>\n",
       "\t<tr><th></th><th scope=col>&lt;chr&gt;</th><th scope=col>&lt;fct&gt;</th><th scope=col>&lt;chr&gt;</th><th scope=col>&lt;chr&gt;</th><th scope=col>&lt;fct&gt;</th><th scope=col>&lt;chr&gt;</th></tr>\n",
       "</thead>\n",
       "<tbody>\n",
       "\t<tr><th scope=row>1</th><td>ADORA2A</td><td>Acute encephalopathy with biphasic seizures and late reduced diffusion</td><td>Adipose Tissue</td><td>Vascular smooth muscle contraction: ITPR1*</td><td>Rare neurologic disease </td><td>male</td></tr>\n",
       "\t<tr><th scope=row>2</th><td>ADORA2A</td><td>Acute encephalopathy with biphasic seizures and late reduced diffusion</td><td>Skin          </td><td>Vascular smooth muscle contraction: ACTA2 </td><td>Rare neurologic disease </td><td>male</td></tr>\n",
       "\t<tr><th scope=row>3</th><td>ADORA2A</td><td>Acute encephalopathy with biphasic seizures and late reduced diffusion</td><td>Skin          </td><td>Vascular smooth muscle contraction: ITPR1*</td><td>Rare neurologic disease </td><td>male</td></tr>\n",
       "\t<tr><th scope=row>4</th><td>ADORA2A</td><td>Acute encephalopathy with biphasic seizures and late reduced diffusion</td><td>Brain         </td><td>Vascular smooth muscle contraction: ITPR1*</td><td>Rare neurologic disease </td><td>male</td></tr>\n",
       "\t<tr><th scope=row>5</th><td>CACNA1F</td><td>Åland Islands eye disease                                             </td><td>Blood         </td><td>cGMP-PKG signaling pathway: CACNA1C       </td><td>Rare ophthalmic disorder</td><td>male</td></tr>\n",
       "\t<tr><th scope=row>6</th><td>CTSF   </td><td>CLN13 disease                                                         </td><td>Skin          </td><td>Apoptosis: BAX*                           </td><td>Rare neurologic disease </td><td>male</td></tr>\n",
       "</tbody>\n",
       "</table>\n"
      ],
      "text/latex": [
       "A data.frame: 6 × 6\n",
       "\\begin{tabular}{r|llllll}\n",
       "  & gene\\_rd & rare\\_disease & tissue & circ & clasification\\_rd & sex\\\\\n",
       "  & <chr> & <fct> & <chr> & <chr> & <fct> & <chr>\\\\\n",
       "\\hline\n",
       "\t1 & ADORA2A & Acute encephalopathy with biphasic seizures and late reduced diffusion & Adipose Tissue & Vascular smooth muscle contraction: ITPR1* & Rare neurologic disease  & male\\\\\n",
       "\t2 & ADORA2A & Acute encephalopathy with biphasic seizures and late reduced diffusion & Skin           & Vascular smooth muscle contraction: ACTA2  & Rare neurologic disease  & male\\\\\n",
       "\t3 & ADORA2A & Acute encephalopathy with biphasic seizures and late reduced diffusion & Skin           & Vascular smooth muscle contraction: ITPR1* & Rare neurologic disease  & male\\\\\n",
       "\t4 & ADORA2A & Acute encephalopathy with biphasic seizures and late reduced diffusion & Brain          & Vascular smooth muscle contraction: ITPR1* & Rare neurologic disease  & male\\\\\n",
       "\t5 & CACNA1F & Åland Islands eye disease                                              & Blood          & cGMP-PKG signaling pathway: CACNA1C        & Rare ophthalmic disorder & male\\\\\n",
       "\t6 & CTSF    & CLN13 disease                                                          & Skin           & Apoptosis: BAX*                            & Rare neurologic disease  & male\\\\\n",
       "\\end{tabular}\n"
      ],
      "text/markdown": [
       "\n",
       "A data.frame: 6 × 6\n",
       "\n",
       "| <!--/--> | gene_rd &lt;chr&gt; | rare_disease &lt;fct&gt; | tissue &lt;chr&gt; | circ &lt;chr&gt; | clasification_rd &lt;fct&gt; | sex &lt;chr&gt; |\n",
       "|---|---|---|---|---|---|---|\n",
       "| 1 | ADORA2A | Acute encephalopathy with biphasic seizures and late reduced diffusion | Adipose Tissue | Vascular smooth muscle contraction: ITPR1* | Rare neurologic disease  | male |\n",
       "| 2 | ADORA2A | Acute encephalopathy with biphasic seizures and late reduced diffusion | Skin           | Vascular smooth muscle contraction: ACTA2  | Rare neurologic disease  | male |\n",
       "| 3 | ADORA2A | Acute encephalopathy with biphasic seizures and late reduced diffusion | Skin           | Vascular smooth muscle contraction: ITPR1* | Rare neurologic disease  | male |\n",
       "| 4 | ADORA2A | Acute encephalopathy with biphasic seizures and late reduced diffusion | Brain          | Vascular smooth muscle contraction: ITPR1* | Rare neurologic disease  | male |\n",
       "| 5 | CACNA1F | Åland Islands eye disease                                              | Blood          | cGMP-PKG signaling pathway: CACNA1C        | Rare ophthalmic disorder | male |\n",
       "| 6 | CTSF    | CLN13 disease                                                          | Skin           | Apoptosis: BAX*                            | Rare neurologic disease  | male |\n",
       "\n"
      ],
      "text/plain": [
       "  gene_rd\n",
       "1 ADORA2A\n",
       "2 ADORA2A\n",
       "3 ADORA2A\n",
       "4 ADORA2A\n",
       "5 CACNA1F\n",
       "6 CTSF   \n",
       "  rare_disease                                                          \n",
       "1 Acute encephalopathy with biphasic seizures and late reduced diffusion\n",
       "2 Acute encephalopathy with biphasic seizures and late reduced diffusion\n",
       "3 Acute encephalopathy with biphasic seizures and late reduced diffusion\n",
       "4 Acute encephalopathy with biphasic seizures and late reduced diffusion\n",
       "5 Åland Islands eye disease                                             \n",
       "6 CLN13 disease                                                         \n",
       "  tissue         circ                                      \n",
       "1 Adipose Tissue Vascular smooth muscle contraction: ITPR1*\n",
       "2 Skin           Vascular smooth muscle contraction: ACTA2 \n",
       "3 Skin           Vascular smooth muscle contraction: ITPR1*\n",
       "4 Brain          Vascular smooth muscle contraction: ITPR1*\n",
       "5 Blood          cGMP-PKG signaling pathway: CACNA1C       \n",
       "6 Skin           Apoptosis: BAX*                           \n",
       "  clasification_rd         sex \n",
       "1 Rare neurologic disease  male\n",
       "2 Rare neurologic disease  male\n",
       "3 Rare neurologic disease  male\n",
       "4 Rare neurologic disease  male\n",
       "5 Rare ophthalmic disorder male\n",
       "6 Rare neurologic disease  male"
      ]
     },
     "metadata": {},
     "output_type": "display_data"
    }
   ],
   "source": [
    "data.frame(table(unlist(lapply(ko_sign_male_annot$circ, FUN=function(x) unlist(strsplit(x,\":\"))[1]))))  %>% filter(Freq > 9)\n",
    "ko_sign_male_annot %>% group_by(clasification_rd) %>% summarise(n=n())\n",
    "head(ko_sign_male_annot)"
   ]
  },
  {
   "cell_type": "code",
   "execution_count": 22,
   "id": "8147a8be-0443-477a-9ea1-f0ecfa6eb948",
   "metadata": {
    "collapsed": true,
    "jupyter": {
     "outputs_hidden": true
    }
   },
   "outputs": [
    {
     "name": "stderr",
     "output_type": "stream",
     "text": [
      "Warning message in install.packages(\"networkD3\"):\n",
      "“installation of package ‘networkD3’ had non-zero exit status”\n",
      "\n",
      "Attaching package: ‘htmlwidgets’\n",
      "\n",
      "\n",
      "The following object is masked from ‘package:networkD3’:\n",
      "\n",
      "    JS\n",
      "\n",
      "\n"
     ]
    },
    {
     "ename": "ERROR",
     "evalue": "Error in eval(expr, p): object 'ko_sign_male_annot' not found\n",
     "output_type": "error",
     "traceback": [
      "Error in eval(expr, p): object 'ko_sign_male_annot' not found\nTraceback:\n",
      "1. write.csv(ko_sign_male_annot, file = \"/mnt/lustre/scratch/CBRA/research/projects/rrdd_mm/results/07_graph_results/07_1_ko_sign_only_male/ko_sign_only_male.csv\", \n .     row.names = F)",
      "2. eval.parent(Call)",
      "3. eval(expr, p)",
      "4. eval(expr, p)",
      "5. utils::write.table(ko_sign_male_annot, file = \"/mnt/lustre/scratch/CBRA/research/projects/rrdd_mm/results/07_graph_results/07_1_ko_sign_only_male/ko_sign_only_male.csv\", \n .     row.names = F, col.names = TRUE, sep = \",\", dec = \".\", qmethod = \"double\")",
      "6. is.data.frame(x)"
     ]
    }
   ],
   "source": [
    "write.csv(ko_sign_male_annot, file=\"/mnt/lustre/scratch/CBRA/research/projects/rrdd_mm/results/07_graph_results/07_1_ko_sign_only_male/ko_sign_only_male.csv\", row.names=F) "
   ]
  },
  {
   "cell_type": "code",
   "execution_count": 33,
   "id": "0f3e7e89-b8a8-4ddc-bc39-1fd7aa3f05f4",
   "metadata": {},
   "outputs": [],
   "source": []
  },
  {
   "cell_type": "code",
   "execution_count": 35,
   "id": "96b10a27-8797-4624-9152-9f0bbba42776",
   "metadata": {},
   "outputs": [],
   "source": []
  },
  {
   "cell_type": "code",
   "execution_count": null,
   "id": "3d42cb0a-5752-4893-8d6c-9495d8625435",
   "metadata": {},
   "outputs": [],
   "source": []
  }
 ],
 "metadata": {
  "kernelspec": {
   "display_name": "R",
   "language": "R",
   "name": "ir"
  },
  "language_info": {
   "codemirror_mode": "r",
   "file_extension": ".r",
   "mimetype": "text/x-r-source",
   "name": "R",
   "pygments_lexer": "r",
   "version": "4.3.2"
  }
 },
 "nbformat": 4,
 "nbformat_minor": 5
}
