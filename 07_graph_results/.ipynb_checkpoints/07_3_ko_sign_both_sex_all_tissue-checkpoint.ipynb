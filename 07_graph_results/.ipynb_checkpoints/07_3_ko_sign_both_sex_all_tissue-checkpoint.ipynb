{
 "cells": [
  {
   "cell_type": "code",
   "execution_count": 44,
   "id": "b796be84-197e-4a09-a3c1-31f2c693f3db",
   "metadata": {},
   "outputs": [],
   "source": [
    "library(AnnotationDbi)\n",
    "library(org.Hs.eg.db)\n",
    "library(dplyr)\n",
    "library(ggplot2)\n",
    "library(hipathia)\n",
    "library(jsonlite)\n",
    "library(networkD3)\n",
    "library(webshot)\n",
    "library(htmlwidgets)"
   ]
  },
  {
   "cell_type": "code",
   "execution_count": 45,
   "id": "d725b0aa-e658-46b5-9774-cf296d1e167b",
   "metadata": {},
   "outputs": [],
   "source": [
    "## description of results"
   ]
  },
  {
   "cell_type": "code",
   "execution_count": 46,
   "id": "83e52337-4d7b-4f9e-8f6a-d49230caf4ef",
   "metadata": {},
   "outputs": [],
   "source": [
    "ko_affect_all_tissue_both_sex <- gsub(\"kstest_pvadj_logfc_kovsctrl_sign_both_sex_all_tissue_\",\"\",gsub(\".rds\",\"\",list.files(\"/mnt/lustre/scratch/CBRA/research/projects/rrdd_mm/results/05_clasi_result_kstest/05_3_clasi_result_kstest_sign_both_sex_all_tissue/\")))"
   ]
  },
  {
   "cell_type": "code",
   "execution_count": 47,
   "id": "a081ccc1-0e8b-4cdc-9107-f6742b1e4ab6",
   "metadata": {},
   "outputs": [
    {
     "name": "stderr",
     "output_type": "stream",
     "text": [
      "'select()' returned many:1 mapping between keys and columns\n",
      "\n"
     ]
    }
   ],
   "source": [
    "name_enfermerdad_symbol <- readRDS(\"/mnt/lustre/scratch/CBRA/research/projects/rrdd_mm/results/00_parser_orphanet/gen_enfermedad/name_enfermerdad_symbol.rds\")\n",
    "colnames(name_enfermerdad_symbol) <- c(\"name_enf\",\"gene\")\n",
    "symbol_entreid <- AnnotationDbi::select(org.Hs.eg.db, keys=paste(name_enfermerdad_symbol$gene), columns=c(\"ENTREZID\"),keytype=\"SYMBOL\")\n",
    "\n",
    "gen_enf <- unique(merge(name_enfermerdad_symbol, symbol_entreid, by.x=\"gene\",by.y=\"SYMBOL\"))\n",
    "rd_gen_class <- readRDS(\"/mnt/lustre/scratch/CBRA/research/projects/rrdd_mm/results/00_parser_orphanet/rd_gen_class.rds\")\n",
    "rd_gen_class$clasificacion <- paste(rd_gen_class$clasificacion)\n",
    "rd_gen_class$enfermedad <- paste(rd_gen_class$enfermedad)\n",
    "rd_gen_class$V1 <- paste(rd_gen_class$V1)"
   ]
  },
  {
   "cell_type": "code",
   "execution_count": 48,
   "id": "8497208f-0f54-496b-b339-c68be16e75b8",
   "metadata": {},
   "outputs": [],
   "source": [
    "graph_barr <- rd_gen_class[rd_gen_class$enfermedad %in% gen_enf[gen_enf$ENTREZID %in% ko_affect_all_tissue_both_sex,\"name_enf\"],]"
   ]
  },
  {
   "cell_type": "code",
   "execution_count": 49,
   "id": "93c0ca53-f325-42ef-8d08-879e5d471a2a",
   "metadata": {},
   "outputs": [
    {
     "data": {
      "text/html": [
       "<strong>png:</strong> 2"
      ],
      "text/latex": [
       "\\textbf{png:} 2"
      ],
      "text/markdown": [
       "**png:** 2"
      ],
      "text/plain": [
       "png \n",
       "  2 "
      ]
     },
     "metadata": {},
     "output_type": "display_data"
    }
   ],
   "source": [
    "jpeg(\"/mnt/lustre/scratch/CBRA/research/projects/rrdd_mm/results/07_graph_results/07_3_ko_sign_both_sex_all_tissue/barr_recount_ko_sign_both_sex_all_tissue.jpeg\", quality = 100, width = 800, height = 600)\n",
    "rd_gen_class[rd_gen_class$enfermedad %in% gen_enf[gen_enf$ENTREZID %in% ko_affect_all_tissue_both_sex,\"name_enf\"],] %>%  \n",
    "group_by(clasificacion) %>% summarise(n=n()) %>% ggplot( aes(x=clasificacion, y=n)) +\n",
    "    geom_bar(stat=\"identity\", fill=\"darkblue\", alpha=.6, width=.4) +    theme_bw(base_size = 15) +     coord_flip() +\n",
    "    ylab(\"Number of genes related to RRDD\")+\n",
    "    xlab(\"Clasification of RRDD\") \n",
    "dev.off()"
   ]
  },
  {
   "cell_type": "code",
   "execution_count": 54,
   "id": "59bca08e-8ea4-41f1-acd6-ef06258bfe89",
   "metadata": {},
   "outputs": [
    {
     "name": "stderr",
     "output_type": "stream",
     "text": [
      "\u001b[1m\u001b[22m`summarise()` has grouped output by 'ko'. You can override using the `.groups`\n",
      "argument.\n",
      "Loaded 146 pathways\n",
      "\n"
     ]
    }
   ],
   "source": [
    "results_kstest_sign_2_sex_tissue <- do.call(rbind, lapply(list.files(\"/mnt/lustre/scratch/CBRA/research/projects/rrdd_mm/results/05_clasi_result_kstest/05_3_clasi_result_kstest_sign_both_sex_all_tissue/\"),\n",
    "       FUN=function(x)\n",
    "           readRDS(paste(\"/mnt/lustre/scratch/CBRA/research/projects/rrdd_mm/results/05_clasi_result_kstest/05_3_clasi_result_kstest_sign_both_sex_all_tissue/\", x, sep=\"\"))))\n",
    "\n",
    "results_kstest_sign_2_sex_tissue_annot <- merge(merge(data.frame(results_kstest_sign_2_sex_tissue %>% group_by(ko,circ) %>% summarise(n=n()) %>% filter(n==42))[,c(\"ko\",\"circ\")], gen_enf, by.x=\"ko\",by.y=\"ENTREZID\"), rd_gen_class, by.x=\"gene\", by.y=\"V1\")                                                          \n",
    "pathways <- load_pathways(\"hsa\")\n",
    "results_kstest_sign_2_sex_tissue_annot$circ_name <- get_path_names(pathways, results_kstest_sign_2_sex_tissue_annot$circ)"
   ]
  },
  {
   "cell_type": "code",
   "execution_count": 55,
   "id": "a8c6aaf1-19f7-4329-afc7-4f4d82f504fb",
   "metadata": {},
   "outputs": [
    {
     "data": {
      "text/html": [
       "71"
      ],
      "text/latex": [
       "71"
      ],
      "text/markdown": [
       "71"
      ],
      "text/plain": [
       "[1] 71"
      ]
     },
     "metadata": {},
     "output_type": "display_data"
    },
    {
     "data": {
      "text/html": [
       "130"
      ],
      "text/latex": [
       "130"
      ],
      "text/markdown": [
       "130"
      ],
      "text/plain": [
       "[1] 130"
      ]
     },
     "metadata": {},
     "output_type": "display_data"
    },
    {
     "data": {
      "text/html": [
       "17"
      ],
      "text/latex": [
       "17"
      ],
      "text/markdown": [
       "17"
      ],
      "text/plain": [
       "[1] 17"
      ]
     },
     "metadata": {},
     "output_type": "display_data"
    },
    {
     "data": {
      "text/html": [
       "158"
      ],
      "text/latex": [
       "158"
      ],
      "text/markdown": [
       "158"
      ],
      "text/plain": [
       "[1] 158"
      ]
     },
     "metadata": {},
     "output_type": "display_data"
    }
   ],
   "source": [
    "results_kstest_sign_2_sex_tissue_annot_save_csv <- unique(results_kstest_sign_2_sex_tissue_annot[,c(\"gene\",\"name_enf\",\"clasificacion\",\"circ_name\")])\n",
    "colnames(results_kstest_sign_2_sex_tissue_annot_save_csv) <- c(\"gene_rd\",\"name_rd\",\"clasification_rd\",\"circ_belong_gene_rd\")\n",
    "\n",
    "length(unique(results_kstest_sign_2_sex_tissue_annot_save_csv$gene_rd))\n",
    "length(unique(results_kstest_sign_2_sex_tissue_annot_save_csv$name_rd))\n",
    "length(unique(results_kstest_sign_2_sex_tissue_annot_save_csv$clasification_rd))\n",
    "length(unique(results_kstest_sign_2_sex_tissue_annot_save_csv$circ_belong_gene_rd))"
   ]
  },
  {
   "cell_type": "code",
   "execution_count": 56,
   "id": "6c298151-a906-4035-86d7-bb5241b6e8be",
   "metadata": {},
   "outputs": [],
   "source": [
    "write.csv(results_kstest_sign_2_sex_tissue_annot_save_csv, file=\"/mnt/lustre/scratch/CBRA/research/projects/rrdd_mm/results/07_graph_results/07_3_ko_sign_both_sex_all_tissue/ko_sign_both_sex_all_tissue.csv\", row.names=F)"
   ]
  },
  {
   "cell_type": "code",
   "execution_count": 57,
   "id": "ab8bf843-5a9d-4b46-96c6-e631b12ee26e",
   "metadata": {},
   "outputs": [],
   "source": [
    "### comparation of direction of logFC"
   ]
  },
  {
   "cell_type": "code",
   "execution_count": 58,
   "id": "9ea27931-8508-4ae4-8433-e6b15312e157",
   "metadata": {},
   "outputs": [],
   "source": [
    "comp_signo_logFC_both_sex_no_all_logfc_same_sign <- list.files(\"/mnt/lustre/scratch/CBRA/research/projects/rrdd_mm/results/06_comp_signo_logFC_both_sex/06_1_comp_signo_logFC_both_sex_no_all_logfc_same_sign/\")\n",
    "ko_comp_signo_logFC_both_sex_no_all_logfc_same_sign <- gsub(\".rds\",\"\",gsub(\"kstest_pvadj_logfc_kovsctrl_sign_both_sex_no_all_logfc_same_sign_\",\"\",comp_signo_logFC_both_sex_no_all_logfc_same_sign))"
   ]
  },
  {
   "cell_type": "code",
   "execution_count": 59,
   "id": "04fb23e7-9e03-40c9-80a3-4ca166b45803",
   "metadata": {},
   "outputs": [],
   "source": [
    "results_kstest_sign_2_sex_tissue_diflogFC <- results_kstest_sign_2_sex_tissue[results_kstest_sign_2_sex_tissue$ko %in% \n",
    "intersect(ko_comp_signo_logFC_both_sex_no_all_logfc_same_sign,unique(results_kstest_sign_2_sex_tissue$ko)),] \n",
    "\n",
    "results_kstest_sign_2_sex_tissue_diflogFC_fna <- results_kstest_sign_2_sex_tissue_diflogFC[!is.na(results_kstest_sign_2_sex_tissue_diflogFC$logFC),]"
   ]
  },
  {
   "cell_type": "code",
   "execution_count": 60,
   "id": "bf55ac17-7fce-49d5-9d47-75eb3df1adb6",
   "metadata": {},
   "outputs": [
    {
     "name": "stderr",
     "output_type": "stream",
     "text": [
      "\u001b[1m\u001b[22m`summarise()` has grouped output by 'ko'. You can override using the `.groups`\n",
      "argument.\n"
     ]
    }
   ],
   "source": [
    "circs_all_tissue_logfc <- data.frame(results_kstest_sign_2_sex_tissue_diflogFC_fna %>% group_by(ko,circ) %>% summarise(n=n()) %>% filter(n==42))$circ"
   ]
  },
  {
   "cell_type": "code",
   "execution_count": 61,
   "id": "7c5018f5-b2d3-4865-984d-5fd7d6dcb73f",
   "metadata": {},
   "outputs": [],
   "source": [
    "results_kstest_sign_2_sex_tissue_diflogFC_fnafcirc <- results_kstest_sign_2_sex_tissue_diflogFC_fna[results_kstest_sign_2_sex_tissue_diflogFC_fna$circ %in% circs_all_tissue_logfc,]"
   ]
  },
  {
   "cell_type": "code",
   "execution_count": 62,
   "id": "0b46c68c-7c34-4eff-a5ed-300b2c1e7cff",
   "metadata": {},
   "outputs": [],
   "source": [
    "results_kstest_sign_2_sex_tissue_diflogFC_fnafcirc$logFC_sig <- rep(\".\", length(results_kstest_sign_2_sex_tissue_diflogFC_fnafcirc$logFC))\n",
    "results_kstest_sign_2_sex_tissue_diflogFC_fnafcirc$logFC_sig[results_kstest_sign_2_sex_tissue_diflogFC_fnafcirc$logFC > 0] <- \"+\"\n",
    "results_kstest_sign_2_sex_tissue_diflogFC_fnafcirc$logFC_sig[results_kstest_sign_2_sex_tissue_diflogFC_fnafcirc$logFC < 0] <- \"-\""
   ]
  },
  {
   "cell_type": "code",
   "execution_count": 63,
   "id": "b8da9e82-fbfb-48cb-bad8-8324e1d4361c",
   "metadata": {},
   "outputs": [
    {
     "name": "stderr",
     "output_type": "stream",
     "text": [
      "\u001b[1m\u001b[22m`summarise()` has grouped output by 'circ'. You can override using the\n",
      "`.groups` argument.\n"
     ]
    }
   ],
   "source": [
    "circ_diflogFC <- unique(data.frame(results_kstest_sign_2_sex_tissue_diflogFC_fnafcirc %>% group_by(circ,logFC_sig) %>% summarise(n=n()) %>% filter(n!=42))$circ)"
   ]
  },
  {
   "cell_type": "code",
   "execution_count": 64,
   "id": "2a028d6c-94a0-426e-aace-390876c121ff",
   "metadata": {},
   "outputs": [],
   "source": [
    "results_kstest_sign_2_sex_tissue_diflogFC_fnafcirc_def <- results_kstest_sign_2_sex_tissue_diflogFC_fnafcirc[results_kstest_sign_2_sex_tissue_diflogFC_fnafcirc$circ %in% circ_diflogFC,] "
   ]
  },
  {
   "cell_type": "code",
   "execution_count": 65,
   "id": "93a637a5-5d11-453c-b0f8-ba3b247b6283",
   "metadata": {},
   "outputs": [
    {
     "name": "stderr",
     "output_type": "stream",
     "text": [
      "\u001b[1m\u001b[22m`summarise()` has grouped output by 'ko', 'circ', 'tissue'. You can override\n",
      "using the `.groups` argument.\n"
     ]
    }
   ],
   "source": [
    "ko_circ_tissue_diflogfc <- results_kstest_sign_2_sex_tissue_diflogFC_fnafcirc_def %>% group_by(ko,circ,tissue, logFC_sig) %>% summarise(n=n()) %>%\n",
    "filter(n!=2)"
   ]
  },
  {
   "cell_type": "code",
   "execution_count": 66,
   "id": "e7cc5da5-f10c-4502-95a7-a272c8508993",
   "metadata": {},
   "outputs": [],
   "source": [
    "ko_circ_tissue_diflogfc$name_circ <- get_path_names(pathways, paste(ko_circ_tissue_diflogfc$circ))\n",
    "ko_circ_tissue_diflogfc <- unique(merge(ko_circ_tissue_diflogfc, unique(gen_enf[,c(\"gene\",\"ENTREZID\")]), by.x=\"ko\", by.y=\"ENTREZID\"))\n",
    "ko_circ_tissue_diflogfc <- merge(ko_circ_tissue_diflogfc, rd_gen_class, by.x=\"gene\",by.y=\"V1\")"
   ]
  },
  {
   "cell_type": "code",
   "execution_count": 67,
   "id": "4559dcbc-36c9-40c6-99c9-29b6ce07e094",
   "metadata": {
    "collapsed": true,
    "jupyter": {
     "outputs_hidden": true
    }
   },
   "outputs": [
    {
     "data": {
      "text/html": [
       "<table class=\"dataframe\">\n",
       "<caption>A data.frame: 2 × 7</caption>\n",
       "<thead>\n",
       "\t<tr><th></th><th scope=col>kspvadj</th><th scope=col>logFC</th><th scope=col>ko</th><th scope=col>circ</th><th scope=col>sex</th><th scope=col>tissue</th><th scope=col>logFC_sig</th></tr>\n",
       "\t<tr><th></th><th scope=col>&lt;dbl&gt;</th><th scope=col>&lt;dbl&gt;</th><th scope=col>&lt;chr&gt;</th><th scope=col>&lt;chr&gt;</th><th scope=col>&lt;chr&gt;</th><th scope=col>&lt;chr&gt;</th><th scope=col>&lt;chr&gt;</th></tr>\n",
       "</thead>\n",
       "<tbody>\n",
       "\t<tr><th scope=row>1136</th><td>1.604764e-20</td><td>Inf</td><td>1029</td><td>P-hsa04115-43 57</td><td>male</td><td>Blood    </td><td>+</td></tr>\n",
       "\t<tr><th scope=row>1253</th><td>0.000000e+00</td><td>Inf</td><td>1029</td><td>P-hsa04115-43 57</td><td>male</td><td>Esophagus</td><td>+</td></tr>\n",
       "</tbody>\n",
       "</table>\n"
      ],
      "text/latex": [
       "A data.frame: 2 × 7\n",
       "\\begin{tabular}{r|lllllll}\n",
       "  & kspvadj & logFC & ko & circ & sex & tissue & logFC\\_sig\\\\\n",
       "  & <dbl> & <dbl> & <chr> & <chr> & <chr> & <chr> & <chr>\\\\\n",
       "\\hline\n",
       "\t1136 & 1.604764e-20 & Inf & 1029 & P-hsa04115-43 57 & male & Blood     & +\\\\\n",
       "\t1253 & 0.000000e+00 & Inf & 1029 & P-hsa04115-43 57 & male & Esophagus & +\\\\\n",
       "\\end{tabular}\n"
      ],
      "text/markdown": [
       "\n",
       "A data.frame: 2 × 7\n",
       "\n",
       "| <!--/--> | kspvadj &lt;dbl&gt; | logFC &lt;dbl&gt; | ko &lt;chr&gt; | circ &lt;chr&gt; | sex &lt;chr&gt; | tissue &lt;chr&gt; | logFC_sig &lt;chr&gt; |\n",
       "|---|---|---|---|---|---|---|---|\n",
       "| 1136 | 1.604764e-20 | Inf | 1029 | P-hsa04115-43 57 | male | Blood     | + |\n",
       "| 1253 | 0.000000e+00 | Inf | 1029 | P-hsa04115-43 57 | male | Esophagus | + |\n",
       "\n"
      ],
      "text/plain": [
       "     kspvadj      logFC ko   circ             sex  tissue    logFC_sig\n",
       "1136 1.604764e-20 Inf   1029 P-hsa04115-43 57 male Blood     +        \n",
       "1253 0.000000e+00 Inf   1029 P-hsa04115-43 57 male Esophagus +        "
      ]
     },
     "metadata": {},
     "output_type": "display_data"
    },
    {
     "data": {
      "text/html": [
       "<table class=\"dataframe\">\n",
       "<caption>A data.frame: 6 × 10</caption>\n",
       "<thead>\n",
       "\t<tr><th></th><th scope=col>gene</th><th scope=col>ko</th><th scope=col>circ</th><th scope=col>tissue</th><th scope=col>logFC_sig</th><th scope=col>n</th><th scope=col>name_circ</th><th scope=col>enfermedad</th><th scope=col>clasificacion</th><th scope=col>sex</th></tr>\n",
       "\t<tr><th></th><th scope=col>&lt;fct&gt;</th><th scope=col>&lt;chr&gt;</th><th scope=col>&lt;chr&gt;</th><th scope=col>&lt;chr&gt;</th><th scope=col>&lt;chr&gt;</th><th scope=col>&lt;int&gt;</th><th scope=col>&lt;chr&gt;</th><th scope=col>&lt;chr&gt;</th><th scope=col>&lt;chr&gt;</th><th scope=col>&lt;chr&gt;</th></tr>\n",
       "</thead>\n",
       "<tbody>\n",
       "\t<tr><th scope=row>1</th><td>CDKN2A</td><td>1029</td><td>P-hsa04115-43 57</td><td>Blood</td><td>+</td><td>1</td><td>p53 signaling pathway: CDK1 CCNB3</td><td>Li-Fraumeni syndrome                             </td><td>Rare neoplastic disease</td><td>Male  </td></tr>\n",
       "\t<tr><th scope=row>2</th><td>CDKN2A</td><td>1029</td><td>P-hsa04115-43 57</td><td>Blood</td><td>+</td><td>1</td><td>p53 signaling pathway: CDK1 CCNB3</td><td>Melanoma and neural system tumor syndrome        </td><td>Rare neurologic disease</td><td>Male  </td></tr>\n",
       "\t<tr><th scope=row>3</th><td>CDKN2A</td><td>1029</td><td>P-hsa04115-43 57</td><td>Blood</td><td>+</td><td>1</td><td>p53 signaling pathway: CDK1 CCNB3</td><td>Familial atypical multiple mole melanoma syndrome</td><td>Rare neoplastic disease</td><td>Male  </td></tr>\n",
       "\t<tr><th scope=row>4</th><td>CDKN2A</td><td>1029</td><td>P-hsa04115-43 57</td><td>Blood</td><td>-</td><td>1</td><td>p53 signaling pathway: CDK1 CCNB3</td><td>Li-Fraumeni syndrome                             </td><td>Rare neoplastic disease</td><td>Female</td></tr>\n",
       "\t<tr><th scope=row>5</th><td>CDKN2A</td><td>1029</td><td>P-hsa04115-43 57</td><td>Blood</td><td>-</td><td>1</td><td>p53 signaling pathway: CDK1 CCNB3</td><td>Melanoma and neural system tumor syndrome        </td><td>Rare neurologic disease</td><td>Female</td></tr>\n",
       "\t<tr><th scope=row>6</th><td>CDKN2A</td><td>1029</td><td>P-hsa04115-43 57</td><td>Blood</td><td>-</td><td>1</td><td>p53 signaling pathway: CDK1 CCNB3</td><td>Familial atypical multiple mole melanoma syndrome</td><td>Rare neoplastic disease</td><td>Female</td></tr>\n",
       "</tbody>\n",
       "</table>\n"
      ],
      "text/latex": [
       "A data.frame: 6 × 10\n",
       "\\begin{tabular}{r|llllllllll}\n",
       "  & gene & ko & circ & tissue & logFC\\_sig & n & name\\_circ & enfermedad & clasificacion & sex\\\\\n",
       "  & <fct> & <chr> & <chr> & <chr> & <chr> & <int> & <chr> & <chr> & <chr> & <chr>\\\\\n",
       "\\hline\n",
       "\t1 & CDKN2A & 1029 & P-hsa04115-43 57 & Blood & + & 1 & p53 signaling pathway: CDK1 CCNB3 & Li-Fraumeni syndrome                              & Rare neoplastic disease & Male  \\\\\n",
       "\t2 & CDKN2A & 1029 & P-hsa04115-43 57 & Blood & + & 1 & p53 signaling pathway: CDK1 CCNB3 & Melanoma and neural system tumor syndrome         & Rare neurologic disease & Male  \\\\\n",
       "\t3 & CDKN2A & 1029 & P-hsa04115-43 57 & Blood & + & 1 & p53 signaling pathway: CDK1 CCNB3 & Familial atypical multiple mole melanoma syndrome & Rare neoplastic disease & Male  \\\\\n",
       "\t4 & CDKN2A & 1029 & P-hsa04115-43 57 & Blood & - & 1 & p53 signaling pathway: CDK1 CCNB3 & Li-Fraumeni syndrome                              & Rare neoplastic disease & Female\\\\\n",
       "\t5 & CDKN2A & 1029 & P-hsa04115-43 57 & Blood & - & 1 & p53 signaling pathway: CDK1 CCNB3 & Melanoma and neural system tumor syndrome         & Rare neurologic disease & Female\\\\\n",
       "\t6 & CDKN2A & 1029 & P-hsa04115-43 57 & Blood & - & 1 & p53 signaling pathway: CDK1 CCNB3 & Familial atypical multiple mole melanoma syndrome & Rare neoplastic disease & Female\\\\\n",
       "\\end{tabular}\n"
      ],
      "text/markdown": [
       "\n",
       "A data.frame: 6 × 10\n",
       "\n",
       "| <!--/--> | gene &lt;fct&gt; | ko &lt;chr&gt; | circ &lt;chr&gt; | tissue &lt;chr&gt; | logFC_sig &lt;chr&gt; | n &lt;int&gt; | name_circ &lt;chr&gt; | enfermedad &lt;chr&gt; | clasificacion &lt;chr&gt; | sex &lt;chr&gt; |\n",
       "|---|---|---|---|---|---|---|---|---|---|---|\n",
       "| 1 | CDKN2A | 1029 | P-hsa04115-43 57 | Blood | + | 1 | p53 signaling pathway: CDK1 CCNB3 | Li-Fraumeni syndrome                              | Rare neoplastic disease | Male   |\n",
       "| 2 | CDKN2A | 1029 | P-hsa04115-43 57 | Blood | + | 1 | p53 signaling pathway: CDK1 CCNB3 | Melanoma and neural system tumor syndrome         | Rare neurologic disease | Male   |\n",
       "| 3 | CDKN2A | 1029 | P-hsa04115-43 57 | Blood | + | 1 | p53 signaling pathway: CDK1 CCNB3 | Familial atypical multiple mole melanoma syndrome | Rare neoplastic disease | Male   |\n",
       "| 4 | CDKN2A | 1029 | P-hsa04115-43 57 | Blood | - | 1 | p53 signaling pathway: CDK1 CCNB3 | Li-Fraumeni syndrome                              | Rare neoplastic disease | Female |\n",
       "| 5 | CDKN2A | 1029 | P-hsa04115-43 57 | Blood | - | 1 | p53 signaling pathway: CDK1 CCNB3 | Melanoma and neural system tumor syndrome         | Rare neurologic disease | Female |\n",
       "| 6 | CDKN2A | 1029 | P-hsa04115-43 57 | Blood | - | 1 | p53 signaling pathway: CDK1 CCNB3 | Familial atypical multiple mole melanoma syndrome | Rare neoplastic disease | Female |\n",
       "\n"
      ],
      "text/plain": [
       "  gene   ko   circ             tissue logFC_sig n\n",
       "1 CDKN2A 1029 P-hsa04115-43 57 Blood  +         1\n",
       "2 CDKN2A 1029 P-hsa04115-43 57 Blood  +         1\n",
       "3 CDKN2A 1029 P-hsa04115-43 57 Blood  +         1\n",
       "4 CDKN2A 1029 P-hsa04115-43 57 Blood  -         1\n",
       "5 CDKN2A 1029 P-hsa04115-43 57 Blood  -         1\n",
       "6 CDKN2A 1029 P-hsa04115-43 57 Blood  -         1\n",
       "  name_circ                        \n",
       "1 p53 signaling pathway: CDK1 CCNB3\n",
       "2 p53 signaling pathway: CDK1 CCNB3\n",
       "3 p53 signaling pathway: CDK1 CCNB3\n",
       "4 p53 signaling pathway: CDK1 CCNB3\n",
       "5 p53 signaling pathway: CDK1 CCNB3\n",
       "6 p53 signaling pathway: CDK1 CCNB3\n",
       "  enfermedad                                        clasificacion          \n",
       "1 Li-Fraumeni syndrome                              Rare neoplastic disease\n",
       "2 Melanoma and neural system tumor syndrome         Rare neurologic disease\n",
       "3 Familial atypical multiple mole melanoma syndrome Rare neoplastic disease\n",
       "4 Li-Fraumeni syndrome                              Rare neoplastic disease\n",
       "5 Melanoma and neural system tumor syndrome         Rare neurologic disease\n",
       "6 Familial atypical multiple mole melanoma syndrome Rare neoplastic disease\n",
       "  sex   \n",
       "1 Male  \n",
       "2 Male  \n",
       "3 Male  \n",
       "4 Female\n",
       "5 Female\n",
       "6 Female"
      ]
     },
     "metadata": {},
     "output_type": "display_data"
    }
   ],
   "source": [
    "results_kstest_sign_2_sex_tissue_diflogFC_fnafcirc_def[results_kstest_sign_2_sex_tissue_diflogFC_fnafcirc_def$ko == unique(ko_circ_tissue_diflogfc$ko) \n",
    "                                                       & results_kstest_sign_2_sex_tissue_diflogFC_fnafcirc_def$circ == unique(ko_circ_tissue_diflogfc$circ) \n",
    "                                                       & results_kstest_sign_2_sex_tissue_diflogFC_fnafcirc_def$logFC_sig == \"+\",]\n",
    "ko_circ_tissue_diflogfc$sex <- rep(\"-\", length(ko_circ_tissue_diflogfc$circ))\n",
    "ko_circ_tissue_diflogfc$sex[ko_circ_tissue_diflogfc$logFC_sig == \"+\"] <- \"Male\"\n",
    "ko_circ_tissue_diflogfc$sex[ko_circ_tissue_diflogfc$logFC_sig == \"-\"] <- \"Female\"\n",
    "head(ko_circ_tissue_diflogfc)"
   ]
  },
  {
   "cell_type": "code",
   "execution_count": 82,
   "id": "087c1105-3037-45d7-92a5-2ed9f2de1aff",
   "metadata": {},
   "outputs": [
    {
     "data": {
      "text/html": [
       "<strong>png:</strong> 2"
      ],
      "text/latex": [
       "\\textbf{png:} 2"
      ],
      "text/markdown": [
       "**png:** 2"
      ],
      "text/plain": [
       "png \n",
       "  2 "
      ]
     },
     "metadata": {},
     "output_type": "display_data"
    }
   ],
   "source": [
    "jpeg(\"/mnt/lustre/scratch/CBRA/research/projects/rrdd_mm/results/07_graph_results/07_3_ko_sign_both_sex_all_tissue/heatmap_ko_sign_both_sex_all_tissue_diflogFC.jpeg\", quality = 100, width = 200, height = 300)\n",
    "\n",
    "ko_circ_tissue_diflogfc %>% ggplot(aes(x= tissue, y = name_circ, fill = logFC_sig)) + \n",
    "  scale_fill_manual(values = c(\"#844288\",\"#E69F00\")) +\n",
    "  geom_tile(color=\"white\")  + facet_grid(sex ~ ., scales = \"free_y\", space = \"free_y\") +\n",
    "  labs(title = \"    CDKN2A\", x = \"Tissues\", y =  paste(\"Circuits with dif. direct. logFC\",\"p53 signaling pathway: CDK1 CCNB3\", sep=\"\\n\"), fill=\"Direction\" ,color = \"Legend Title\\n\") + \n",
    "    theme_minimal() + \n",
    "    theme(strip.text.y = element_text(size=8, angle=360), \n",
    "        strip.background = element_rect(colour=\"grey\", fill=c(\"#66B9B9\")),\n",
    "        legend.position=\"right\", legend.direction=\"vertical\",\n",
    "        legend.text=element_text(size=12),\n",
    "        axis.text.x=element_text(size=12,vjust=0.5, angle = 90),\n",
    "        axis.text.y=element_text(size=12,vjust=0.5),\n",
    "        plot.title=element_text(hjust=0, size=14)) + guides(y=\"none\")\n",
    "dev.off()"
   ]
  },
  {
   "cell_type": "code",
   "execution_count": 22,
   "id": "cc49dfcc-2694-4ee3-849e-0d8c1a37b45c",
   "metadata": {},
   "outputs": [],
   "source": [
    "### sankey diagram"
   ]
  },
  {
   "cell_type": "code",
   "execution_count": 23,
   "id": "527807aa-405a-41ca-ae2c-0740f047f9d6",
   "metadata": {},
   "outputs": [
    {
     "data": {
      "text/html": [
       "58"
      ],
      "text/latex": [
       "58"
      ],
      "text/markdown": [
       "58"
      ],
      "text/plain": [
       "[1] 58"
      ]
     },
     "metadata": {},
     "output_type": "display_data"
    }
   ],
   "source": [
    "num_colors <- length(unique(c(links$source, links$target)))\n",
    "num_colors"
   ]
  },
  {
   "cell_type": "code",
   "execution_count": 26,
   "id": "96afdaa8-8f8d-4559-ba80-06ed0a744248",
   "metadata": {},
   "outputs": [],
   "source": [
    "# Generating the paths\n",
    "results_kstest_sign_2_sex_tissue_annot_save_csv$path <- unlist(lapply(results_kstest_sign_2_sex_tissue_annot_save_csv$circ_belong_gene_rd, FUN=function(x) unlist(strsplit(x,\":\"))[1]))\n",
    "\n",
    "# Simplifying classifications\n",
    "results_kstest_sign_2_sex_tissue_annot_save_csv$clasification_rd[results_kstest_sign_2_sex_tissue_annot_save_csv$clasification_rd == 'Rare systemic or rheumatologic disease'] <- 'Rare syst. or rheumat. disease'\n",
    "results_kstest_sign_2_sex_tissue_annot_save_csv$clasification_rd[results_kstest_sign_2_sex_tissue_annot_save_csv$clasification_rd == 'Rare developmental defect during embryogenesis'] <- 'Rare develop. embryogenesis'\n",
    "\n",
    "# Creating links and nodes\n",
    "links <- data.frame(\"source\"=results_kstest_sign_2_sex_tissue_annot_save_csv$clasification_rd,\n",
    "                    \"target\"=results_kstest_sign_2_sex_tissue_annot_save_csv$path,\n",
    "                    \"value\"=rep(1, length(results_kstest_sign_2_sex_tissue_annot_save_csv$path)))\n",
    "\n",
    "nodes <- data.frame(\n",
    "  \"name\"=c(as.character(links$source), \n",
    "           as.character(links$target)) %>% unique()\n",
    ")\n",
    "\n",
    "links$IDsource <- match(links$source, nodes$name) - 1 \n",
    "links$IDtarget <- match(links$target, nodes$name) - 1\n",
    "\n",
    "# Define the color scale\n",
    "colors_list <- c(\n",
    "  # Lightest Colors\n",
    "  \"#FFDAC7\", \"#F7B09A\", \"#FFCE66\", \"#E0E0E0\", \"#B37BBC\", \n",
    "  \"#D98282\", \"#FFA74C\", \"#F39B7F\", \"#F04C52\", \"#D68A72\", \n",
    "  # Additional Light Shades\n",
    "  \"#E69F00\", \"#FFCE66\", \"#CCCCCC\", \"#F7B09A\", \"#FFDAC7\", \n",
    "  \"#FFB733\", \"#B37BBC\", \"#FFCE66\", \"#CCCCCC\", \"#9D9D9D\", \n",
    "  # Medium-Light Colors\n",
    "  \"#33A0A3\", \"#4C669F\", \"#FFB733\", \"#F39B7F\", \"#E87D27\", \n",
    "  \"#FFB733\", \"#9D5CA1\", \"#BD4A4A\", \"#818181\", \"#844288\", \n",
    "  # Base Colors\n",
    "  \"#3B4992\", \"#008280\", \"#E01E26\", \"#E69F00\", \"#3C5488\", \n",
    "  \"#F39B7F\", \"#B2B2B2\", \"#844288\", \"#A73030\", \"#D16103\", \n",
    "  # Medium-Dark Colors\n",
    "  \"#555FAA\", \"#354A7A\", \"#CC8B00\", \"#A67000\", \"#7F3F02\", \n",
    "  \"#592A5F\", \"#A5151A\", \"#818181\", \"#6F3673\", \"#B55402\", \n",
    "  # Darkest Colors\n",
    "  \"#2A306C\", \"#005F5A\", \"#C81A21\", \"#B55402\", \"#741F1F\", \n",
    "  \"#2B3A61\", \"#323E82\", \"#007072\", \"#A67000\", \"#902828\", \n",
    "  \"#323E82\", \"#4A5BA3\", \"#2A306C\", \"#555FAA\", \"#4C669F\"\n",
    ")\n",
    "\n",
    "color_scale <- sprintf(\"d3.scaleOrdinal().domain(%s).range(%s)\", \n",
    "                       jsonlite::toJSON(nodes$name), \n",
    "                       jsonlite::toJSON(colors_list))\n",
    "\n",
    "# Creating the Sankey plot\n",
    "p <- sankeyNetwork(Links = links, Nodes = nodes,\n",
    "                   Source = \"IDsource\", Target = \"IDtarget\",\n",
    "                   Value = \"value\", NodeID = \"name\", \n",
    "                   sinksRight=FALSE, nodeWidth = 10, fontSize = 12,\n",
    "                   colourScale = color_scale)\n",
    "\n",
    "# Adjusting node text alignment (placing text inside the first column nodes)\n",
    "p$x$nodes <- p$x$nodes %>% mutate(is_source_node = name %in% links$source)\n",
    "\n",
    "o <- htmlwidgets::onRender(\n",
    "  p,\n",
    "  '\n",
    "  function(el,x) {\n",
    "  d3.select(el)\n",
    "    .selectAll(\".node text\")\n",
    "    .filter(function(d) { return d.is_source_node; })\n",
    "    .attr(\"x\", -10)  // Move text inside the node for source nodes\n",
    "    .attr(\"text-anchor\", \"start\");\n",
    "  \n",
    "  d3.select(el)\n",
    "    .selectAll(\".node text\")\n",
    "    .filter(function(d) { return !d.is_source_node; })\n",
    "    .attr(\"x\", x.options.nodeWidth)\n",
    "    .attr(\"text-anchor\", \"start\");\n",
    "  }\n",
    "  '\n",
    ")\n",
    "\n",
    "# Save as HTML and PNG\n",
    "saveNetwork(o, \"/mnt/lustre/scratch/CBRA/research/projects/rrdd_mm/results/07_graph_results/07_3_ko_sign_both_sex_all_tissue/sankey_ko_sign_both_sex_all_tissue.html\")\n",
    "webshot::webshot(\"/mnt/lustre/scratch/CBRA/research/projects/rrdd_mm/results/07_graph_results/07_3_ko_sign_both_sex_all_tissue/sankey_ko_sign_both_sex_all_tissue.html\",\n",
    "                 \"/mnt/lustre/scratch/CBRA/research/projects/rrdd_mm/results/07_graph_results/07_3_ko_sign_both_sex_all_tissue/sankey_ko_sign_both_sex_all_tissue.png\", \n",
    "                 vwidth = 1000, vheight = 900)\n"
   ]
  },
  {
   "cell_type": "code",
   "execution_count": 25,
   "id": "5ee6e766-1247-4d1a-9914-572201d01b76",
   "metadata": {},
   "outputs": [
    {
     "name": "stderr",
     "output_type": "stream",
     "text": [
      "\n",
      "Attaching package: ‘htmlwidgets’\n",
      "\n",
      "\n",
      "The following object is masked from ‘package:networkD3’:\n",
      "\n",
      "    JS\n",
      "\n",
      "\n"
     ]
    }
   ],
   "source": [
    "\n",
    "\n",
    "# Generating the paths\n",
    "results_kstest_sign_2_sex_tissue_annot_save_csv$path <- unlist(lapply(results_kstest_sign_2_sex_tissue_annot_save_csv$circ_belong_gene_rd, FUN=function(x) unlist(strsplit(x,\":\"))[1]))\n",
    "\n",
    "# Simplifying classifications\n",
    "results_kstest_sign_2_sex_tissue_annot_save_csv$clasification_rd[results_kstest_sign_2_sex_tissue_annot_save_csv$clasification_rd == 'Rare systemic or rheumatologic disease'] <- 'Rare syst. or rheumat. disease'\n",
    "results_kstest_sign_2_sex_tissue_annot_save_csv$clasification_rd[results_kstest_sign_2_sex_tissue_annot_save_csv$clasification_rd == 'Rare developmental defect during embryogenesis'] <- 'Rare develop. embryogenesis'\n",
    "\n",
    "# Creating links and nodes\n",
    "links <- data.frame(\"source\"=results_kstest_sign_2_sex_tissue_annot_save_csv$clasification_rd,\n",
    "                    \"target\"=results_kstest_sign_2_sex_tissue_annot_save_csv$path,\n",
    "                    \"value\"=rep(1, length(results_kstest_sign_2_sex_tissue_annot_save_csv$path)))\n",
    "\n",
    "nodes <- data.frame(\n",
    "  \"name\"=c(as.character(links$source), \n",
    "           as.character(links$target)) %>% unique()\n",
    ")\n",
    "\n",
    "links$IDsource <- match(links$source, nodes$name) - 1 \n",
    "links$IDtarget <- match(links$target, nodes$name) - 1\n",
    "\n",
    "# Define the color scale\n",
    "colors_list <- c(\n",
    "  # Lightest Colors\n",
    "  \"#FFDAC7\", \"#F7B09A\", \"#FFCE66\", \"#E0E0E0\", \"#B37BBC\", \n",
    "  \"#D98282\", \"#FFA74C\", \"#F39B7F\", \"#F04C52\", \"#D68A72\", \n",
    "  # Additional Light Shades\n",
    "  \"#E69F00\", \"#FFCE66\", \"#CCCCCC\", \"#F7B09A\", \"#FFDAC7\", \n",
    "  \"#FFB733\", \"#B37BBC\", \"#FFCE66\", \"#CCCCCC\", \"#9D9D9D\", \n",
    "  # Medium-Light Colors\n",
    "  \"#33A0A3\", \"#4C669F\", \"#FFB733\", \"#F39B7F\", \"#E87D27\", \n",
    "  \"#FFB733\", \"#9D5CA1\", \"#BD4A4A\", \"#818181\", \"#844288\", \n",
    "  # Base Colors\n",
    "  \"#3B4992\", \"#008280\", \"#E01E26\", \"#E69F00\", \"#3C5488\", \n",
    "  \"#F39B7F\", \"#B2B2B2\", \"#844288\", \"#A73030\", \"#D16103\", \n",
    "  # Medium-Dark Colors\n",
    "  \"#555FAA\", \"#354A7A\", \"#CC8B00\", \"#A67000\", \"#7F3F02\", \n",
    "  \"#592A5F\", \"#A5151A\", \"#818181\", \"#6F3673\", \"#B55402\", \n",
    "  # Darkest Colors\n",
    "  \"#2A306C\", \"#005F5A\", \"#C81A21\", \"#B55402\", \"#741F1F\", \n",
    "  \"#2B3A61\", \"#323E82\", \"#007072\", \"#A67000\", \"#902828\", \n",
    "  \"#323E82\", \"#4A5BA3\", \"#2A306C\", \"#555FAA\", \"#4C669F\"\n",
    ")\n",
    "\n",
    "color_scale <- sprintf(\"d3.scaleOrdinal().domain(%s).range(%s)\", \n",
    "                       jsonlite::toJSON(nodes$name), \n",
    "                       jsonlite::toJSON(colors_list))\n",
    "\n",
    "# Creating the Sankey plot\n",
    "p <- sankeyNetwork(Links = links, Nodes = nodes,\n",
    "                   Source = \"IDsource\", Target = \"IDtarget\",\n",
    "                   Value = \"value\", NodeID = \"name\", \n",
    "                   sinksRight=FALSE, nodeWidth = 10, fontSize = 12,\n",
    "                   colourScale = color_scale)\n",
    "\n",
    "# Adjusting node text alignment\n",
    "p$x$nodes <- p$x$nodes %>% mutate(is_source_node = name %in% links$source)\n",
    "\n",
    "o <- htmlwidgets::onRender(\n",
    "  p,\n",
    "  '\n",
    "  function(el,x) {\n",
    "  d3.select(el)\n",
    "    .selectAll(\".node text\")\n",
    "    .filter(function(d) { return d.is_source_node; })\n",
    "    .attr(\"x\", x.options.nodeWidth - 12)\n",
    "    .attr(\"text-anchor\", \"end\");\n",
    "  \n",
    "  d3.select(el)\n",
    "    .selectAll(\".node text\")\n",
    "    .filter(function(d) { return !d.is_source_node; })\n",
    "    .attr(\"x\", x.options.nodeWidth)\n",
    "    .attr(\"text-anchor\", \"start\");\n",
    "  }\n",
    "  '\n",
    ")\n",
    "\n",
    "# Save as HTML and PNG\n",
    "saveNetwork(o, \"/mnt/lustre/scratch/CBRA/research/projects/rrdd_mm/results/07_graph_results/07_3_ko_sign_both_sex_all_tissue/sankey_ko_sign_both_sex_all_tissue.html\")\n",
    "webshot::webshot(\"/mnt/lustre/scratch/CBRA/research/projects/rrdd_mm/results/07_graph_results/07_3_ko_sign_both_sex_all_tissue/sankey_ko_sign_both_sex_all_tissue.html\",\n",
    "                 \"/mnt/lustre/scratch/CBRA/research/projects/rrdd_mm/results/07_graph_results/07_3_ko_sign_both_sex_all_tissue/sankey_ko_sign_both_sex_all_tissue.png\", \n",
    "                 vwidth = 1000, vheight = 900)\n"
   ]
  },
  {
   "cell_type": "code",
   "execution_count": 24,
   "id": "0dbdfd57-f0e2-4261-9f44-2f0efbb7a158",
   "metadata": {},
   "outputs": [],
   "source": [
    "### sexual chromosomes"
   ]
  },
  {
   "cell_type": "code",
   "execution_count": 25,
   "id": "7f3b01f6-a57f-4de9-9b93-7ec5ebf63d9c",
   "metadata": {},
   "outputs": [
    {
     "name": "stderr",
     "output_type": "stream",
     "text": [
      "Warning message in rbind(...):\n",
      "“number of columns of result is not a multiple of vector length (arg 477)”\n"
     ]
    },
    {
     "data": {
      "text/html": [
       "<table class=\"dataframe\">\n",
       "<caption>A data.frame: 13 × 3</caption>\n",
       "<thead>\n",
       "\t<tr><th></th><th scope=col>gene</th><th scope=col>name_enf</th><th scope=col>clasificacion</th></tr>\n",
       "\t<tr><th></th><th scope=col>&lt;fct&gt;</th><th scope=col>&lt;fct&gt;</th><th scope=col>&lt;chr&gt;</th></tr>\n",
       "</thead>\n",
       "<tbody>\n",
       "\t<tr><th scope=row>1</th><td>DDX3X</td><td>X-linked intellectual disability-hypotonia-movement disorder syndrome</td><td>Rare developmental defect during embryogenesis</td></tr>\n",
       "\t<tr><th scope=row>2</th><td>DDX3X</td><td>X-linked intellectual disability-hypotonia-movement disorder syndrome</td><td>Rare neurologic disease                       </td></tr>\n",
       "\t<tr><th scope=row>3</th><td>DDX3X</td><td>Toriello-Carey syndrome                                              </td><td>Rare developmental defect during embryogenesis</td></tr>\n",
       "\t<tr><th scope=row>4</th><td>DDX3X</td><td>Toriello-Carey syndrome                                              </td><td>Rare neurologic disease                       </td></tr>\n",
       "\t<tr><th scope=row>5</th><td>FHL1 </td><td>X-linked myopathy with postural muscle atrophy                       </td><td>Rare neurologic disease                       </td></tr>\n",
       "\t<tr><th scope=row>8</th><td>FHL1 </td><td>Reducing body myopathy                                               </td><td>Rare neurologic disease                       </td></tr>\n",
       "\t<tr><th scope=row>11</th><td>FHL1 </td><td>X-linked scapuloperoneal muscular dystrophy                          </td><td>Rare neurologic disease                       </td></tr>\n",
       "\t<tr><th scope=row>14</th><td>GK   </td><td>Glycerol kinase deficiency, juvenile form                            </td><td>Rare inborn errors of metabolism              </td></tr>\n",
       "\t<tr><th scope=row>17</th><td>GK   </td><td>Glycerol kinase deficiency, infantile form                           </td><td>Rare inborn errors of metabolism              </td></tr>\n",
       "\t<tr><th scope=row>20</th><td>GK   </td><td>Glycerol kinase deficiency, adult form                               </td><td>Rare inborn errors of metabolism              </td></tr>\n",
       "\t<tr><th scope=row>23</th><td>PGK1 </td><td>Glycogen storage disease due to phosphoglycerate kinase 1 deficiency </td><td>Rare inborn errors of metabolism              </td></tr>\n",
       "\t<tr><th scope=row>24</th><td>SMC1A</td><td>Cornelia de Lange syndrome                                           </td><td>Rare developmental defect during embryogenesis</td></tr>\n",
       "\t<tr><th scope=row>26</th><td>SMC1A</td><td>Wiedemann-Steiner syndrome                                           </td><td>Rare developmental defect during embryogenesis</td></tr>\n",
       "</tbody>\n",
       "</table>\n"
      ],
      "text/latex": [
       "A data.frame: 13 × 3\n",
       "\\begin{tabular}{r|lll}\n",
       "  & gene & name\\_enf & clasificacion\\\\\n",
       "  & <fct> & <fct> & <chr>\\\\\n",
       "\\hline\n",
       "\t1 & DDX3X & X-linked intellectual disability-hypotonia-movement disorder syndrome & Rare developmental defect during embryogenesis\\\\\n",
       "\t2 & DDX3X & X-linked intellectual disability-hypotonia-movement disorder syndrome & Rare neurologic disease                       \\\\\n",
       "\t3 & DDX3X & Toriello-Carey syndrome                                               & Rare developmental defect during embryogenesis\\\\\n",
       "\t4 & DDX3X & Toriello-Carey syndrome                                               & Rare neurologic disease                       \\\\\n",
       "\t5 & FHL1  & X-linked myopathy with postural muscle atrophy                        & Rare neurologic disease                       \\\\\n",
       "\t8 & FHL1  & Reducing body myopathy                                                & Rare neurologic disease                       \\\\\n",
       "\t11 & FHL1  & X-linked scapuloperoneal muscular dystrophy                           & Rare neurologic disease                       \\\\\n",
       "\t14 & GK    & Glycerol kinase deficiency, juvenile form                             & Rare inborn errors of metabolism              \\\\\n",
       "\t17 & GK    & Glycerol kinase deficiency, infantile form                            & Rare inborn errors of metabolism              \\\\\n",
       "\t20 & GK    & Glycerol kinase deficiency, adult form                                & Rare inborn errors of metabolism              \\\\\n",
       "\t23 & PGK1  & Glycogen storage disease due to phosphoglycerate kinase 1 deficiency  & Rare inborn errors of metabolism              \\\\\n",
       "\t24 & SMC1A & Cornelia de Lange syndrome                                            & Rare developmental defect during embryogenesis\\\\\n",
       "\t26 & SMC1A & Wiedemann-Steiner syndrome                                            & Rare developmental defect during embryogenesis\\\\\n",
       "\\end{tabular}\n"
      ],
      "text/markdown": [
       "\n",
       "A data.frame: 13 × 3\n",
       "\n",
       "| <!--/--> | gene &lt;fct&gt; | name_enf &lt;fct&gt; | clasificacion &lt;chr&gt; |\n",
       "|---|---|---|---|\n",
       "| 1 | DDX3X | X-linked intellectual disability-hypotonia-movement disorder syndrome | Rare developmental defect during embryogenesis |\n",
       "| 2 | DDX3X | X-linked intellectual disability-hypotonia-movement disorder syndrome | Rare neurologic disease                        |\n",
       "| 3 | DDX3X | Toriello-Carey syndrome                                               | Rare developmental defect during embryogenesis |\n",
       "| 4 | DDX3X | Toriello-Carey syndrome                                               | Rare neurologic disease                        |\n",
       "| 5 | FHL1  | X-linked myopathy with postural muscle atrophy                        | Rare neurologic disease                        |\n",
       "| 8 | FHL1  | Reducing body myopathy                                                | Rare neurologic disease                        |\n",
       "| 11 | FHL1  | X-linked scapuloperoneal muscular dystrophy                           | Rare neurologic disease                        |\n",
       "| 14 | GK    | Glycerol kinase deficiency, juvenile form                             | Rare inborn errors of metabolism               |\n",
       "| 17 | GK    | Glycerol kinase deficiency, infantile form                            | Rare inborn errors of metabolism               |\n",
       "| 20 | GK    | Glycerol kinase deficiency, adult form                                | Rare inborn errors of metabolism               |\n",
       "| 23 | PGK1  | Glycogen storage disease due to phosphoglycerate kinase 1 deficiency  | Rare inborn errors of metabolism               |\n",
       "| 24 | SMC1A | Cornelia de Lange syndrome                                            | Rare developmental defect during embryogenesis |\n",
       "| 26 | SMC1A | Wiedemann-Steiner syndrome                                            | Rare developmental defect during embryogenesis |\n",
       "\n"
      ],
      "text/plain": [
       "   gene  name_enf                                                             \n",
       "1  DDX3X X-linked intellectual disability-hypotonia-movement disorder syndrome\n",
       "2  DDX3X X-linked intellectual disability-hypotonia-movement disorder syndrome\n",
       "3  DDX3X Toriello-Carey syndrome                                              \n",
       "4  DDX3X Toriello-Carey syndrome                                              \n",
       "5  FHL1  X-linked myopathy with postural muscle atrophy                       \n",
       "8  FHL1  Reducing body myopathy                                               \n",
       "11 FHL1  X-linked scapuloperoneal muscular dystrophy                          \n",
       "14 GK    Glycerol kinase deficiency, juvenile form                            \n",
       "17 GK    Glycerol kinase deficiency, infantile form                           \n",
       "20 GK    Glycerol kinase deficiency, adult form                               \n",
       "23 PGK1  Glycogen storage disease due to phosphoglycerate kinase 1 deficiency \n",
       "24 SMC1A Cornelia de Lange syndrome                                           \n",
       "26 SMC1A Wiedemann-Steiner syndrome                                           \n",
       "   clasificacion                                 \n",
       "1  Rare developmental defect during embryogenesis\n",
       "2  Rare neurologic disease                       \n",
       "3  Rare developmental defect during embryogenesis\n",
       "4  Rare neurologic disease                       \n",
       "5  Rare neurologic disease                       \n",
       "8  Rare neurologic disease                       \n",
       "11 Rare neurologic disease                       \n",
       "14 Rare inborn errors of metabolism              \n",
       "17 Rare inborn errors of metabolism              \n",
       "20 Rare inborn errors of metabolism              \n",
       "23 Rare inborn errors of metabolism              \n",
       "24 Rare developmental defect during embryogenesis\n",
       "26 Rare developmental defect during embryogenesis"
      ]
     },
     "metadata": {},
     "output_type": "display_data"
    }
   ],
   "source": [
    "x <- org.Hs.egCHR\n",
    "mapped_genes <- mappedkeys(x)\n",
    "xx <- as.list(x[mapped_genes])\n",
    "df_gen_cromosoma <- as.data.frame(do.call(rbind, xx))\n",
    "\n",
    "p <- df_gen_cromosoma[ko_affect_all_tissue_both_sex,]\n",
    "\n",
    "unique(merge(gen_enf[gen_enf$ENTREZ %in% rownames(p[p$V1 == \"X\" | p$V2 == \"X\" | p$V3 == \"X\",]),],\n",
    "rd_gen_class, by.x=\"gene\", by.y=\"V1\")[,c(\"gene\",\"name_enf\",\"clasificacion\")])"
   ]
  },
  {
   "cell_type": "code",
   "execution_count": null,
   "id": "5cf01207-410b-4251-8555-9772ff1101dd",
   "metadata": {},
   "outputs": [],
   "source": []
  },
  {
   "cell_type": "code",
   "execution_count": null,
   "id": "0dd82717-25c4-479e-8dbf-dddd02b6a746",
   "metadata": {},
   "outputs": [],
   "source": []
  }
 ],
 "metadata": {
  "kernelspec": {
   "display_name": "R",
   "language": "R",
   "name": "ir"
  },
  "language_info": {
   "codemirror_mode": "r",
   "file_extension": ".r",
   "mimetype": "text/x-r-source",
   "name": "R",
   "pygments_lexer": "r",
   "version": "4.3.2"
  }
 },
 "nbformat": 4,
 "nbformat_minor": 5
}
