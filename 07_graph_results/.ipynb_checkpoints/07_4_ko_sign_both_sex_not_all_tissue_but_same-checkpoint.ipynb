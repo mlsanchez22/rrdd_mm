{
 "cells": [
  {
   "cell_type": "code",
   "execution_count": 2,
   "id": "e914065b-e189-475c-8c33-da4ea49a3731",
   "metadata": {
    "collapsed": true,
    "jupyter": {
     "outputs_hidden": true
    }
   },
   "outputs": [
    {
     "name": "stderr",
     "output_type": "stream",
     "text": [
      "Loading required package: igraph\n",
      "\n",
      "\n",
      "Attaching package: ‘igraph’\n",
      "\n",
      "\n",
      "The following objects are masked from ‘package:stats’:\n",
      "\n",
      "    decompose, spectrum\n",
      "\n",
      "\n",
      "The following object is masked from ‘package:base’:\n",
      "\n",
      "    union\n",
      "\n",
      "\n",
      "Loading required package: AnnotationHub\n",
      "\n",
      "Loading required package: BiocGenerics\n",
      "\n",
      "\n",
      "Attaching package: ‘BiocGenerics’\n",
      "\n",
      "\n",
      "The following objects are masked from ‘package:igraph’:\n",
      "\n",
      "    normalize, path, union\n",
      "\n",
      "\n",
      "The following objects are masked from ‘package:stats’:\n",
      "\n",
      "    IQR, mad, sd, var, xtabs\n",
      "\n",
      "\n",
      "The following objects are masked from ‘package:base’:\n",
      "\n",
      "    anyDuplicated, aperm, append, as.data.frame, basename, cbind,\n",
      "    colnames, dirname, do.call, duplicated, eval, evalq, Filter, Find,\n",
      "    get, grep, grepl, intersect, is.unsorted, lapply, Map, mapply,\n",
      "    match, mget, order, paste, pmax, pmax.int, pmin, pmin.int,\n",
      "    Position, rank, rbind, Reduce, rownames, sapply, setdiff, sort,\n",
      "    table, tapply, union, unique, unsplit, which.max, which.min\n",
      "\n",
      "\n",
      "Loading required package: BiocFileCache\n",
      "\n",
      "Loading required package: dbplyr\n",
      "\n",
      "Loading required package: MultiAssayExperiment\n",
      "\n",
      "Loading required package: SummarizedExperiment\n",
      "\n",
      "Loading required package: MatrixGenerics\n",
      "\n",
      "Loading required package: matrixStats\n",
      "\n",
      "\n",
      "Attaching package: ‘MatrixGenerics’\n",
      "\n",
      "\n",
      "The following objects are masked from ‘package:matrixStats’:\n",
      "\n",
      "    colAlls, colAnyNAs, colAnys, colAvgsPerRowSet, colCollapse,\n",
      "    colCounts, colCummaxs, colCummins, colCumprods, colCumsums,\n",
      "    colDiffs, colIQRDiffs, colIQRs, colLogSumExps, colMadDiffs,\n",
      "    colMads, colMaxs, colMeans2, colMedians, colMins, colOrderStats,\n",
      "    colProds, colQuantiles, colRanges, colRanks, colSdDiffs, colSds,\n",
      "    colSums2, colTabulates, colVarDiffs, colVars, colWeightedMads,\n",
      "    colWeightedMeans, colWeightedMedians, colWeightedSds,\n",
      "    colWeightedVars, rowAlls, rowAnyNAs, rowAnys, rowAvgsPerColSet,\n",
      "    rowCollapse, rowCounts, rowCummaxs, rowCummins, rowCumprods,\n",
      "    rowCumsums, rowDiffs, rowIQRDiffs, rowIQRs, rowLogSumExps,\n",
      "    rowMadDiffs, rowMads, rowMaxs, rowMeans2, rowMedians, rowMins,\n",
      "    rowOrderStats, rowProds, rowQuantiles, rowRanges, rowRanks,\n",
      "    rowSdDiffs, rowSds, rowSums2, rowTabulates, rowVarDiffs, rowVars,\n",
      "    rowWeightedMads, rowWeightedMeans, rowWeightedMedians,\n",
      "    rowWeightedSds, rowWeightedVars\n",
      "\n",
      "\n",
      "Loading required package: GenomicRanges\n",
      "\n",
      "Loading required package: stats4\n",
      "\n",
      "Loading required package: S4Vectors\n",
      "\n",
      "\n",
      "Attaching package: ‘S4Vectors’\n",
      "\n",
      "\n",
      "The following object is masked from ‘package:utils’:\n",
      "\n",
      "    findMatches\n",
      "\n",
      "\n",
      "The following objects are masked from ‘package:base’:\n",
      "\n",
      "    expand.grid, I, unname\n",
      "\n",
      "\n",
      "Loading required package: IRanges\n",
      "\n",
      "Loading required package: GenomeInfoDb\n",
      "\n",
      "Loading required package: Biobase\n",
      "\n",
      "Welcome to Bioconductor\n",
      "\n",
      "    Vignettes contain introductory material; view with\n",
      "    'browseVignettes()'. To cite Bioconductor, see\n",
      "    'citation(\"Biobase\")', and for packages 'citation(\"pkgname\")'.\n",
      "\n",
      "\n",
      "\n",
      "Attaching package: ‘Biobase’\n",
      "\n",
      "\n",
      "The following object is masked from ‘package:MatrixGenerics’:\n",
      "\n",
      "    rowMedians\n",
      "\n",
      "\n",
      "The following objects are masked from ‘package:matrixStats’:\n",
      "\n",
      "    anyMissing, rowMedians\n",
      "\n",
      "\n",
      "The following object is masked from ‘package:AnnotationHub’:\n",
      "\n",
      "    cache\n",
      "\n",
      "\n",
      "\n",
      "\n",
      "\n",
      "Attaching package: ‘dplyr’\n",
      "\n",
      "\n",
      "The following object is masked from ‘package:AnnotationDbi’:\n",
      "\n",
      "    select\n",
      "\n",
      "\n",
      "The following object is masked from ‘package:Biobase’:\n",
      "\n",
      "    combine\n",
      "\n",
      "\n",
      "The following objects are masked from ‘package:GenomicRanges’:\n",
      "\n",
      "    intersect, setdiff, union\n",
      "\n",
      "\n",
      "The following object is masked from ‘package:GenomeInfoDb’:\n",
      "\n",
      "    intersect\n",
      "\n",
      "\n",
      "The following objects are masked from ‘package:IRanges’:\n",
      "\n",
      "    collapse, desc, intersect, setdiff, slice, union\n",
      "\n",
      "\n",
      "The following objects are masked from ‘package:S4Vectors’:\n",
      "\n",
      "    first, intersect, rename, setdiff, setequal, union\n",
      "\n",
      "\n",
      "The following object is masked from ‘package:matrixStats’:\n",
      "\n",
      "    count\n",
      "\n",
      "\n",
      "The following objects are masked from ‘package:dbplyr’:\n",
      "\n",
      "    ident, sql\n",
      "\n",
      "\n",
      "The following objects are masked from ‘package:BiocGenerics’:\n",
      "\n",
      "    combine, intersect, setdiff, union\n",
      "\n",
      "\n",
      "The following objects are masked from ‘package:igraph’:\n",
      "\n",
      "    as_data_frame, groups, union\n",
      "\n",
      "\n",
      "The following objects are masked from ‘package:stats’:\n",
      "\n",
      "    filter, lag\n",
      "\n",
      "\n",
      "The following objects are masked from ‘package:base’:\n",
      "\n",
      "    intersect, setdiff, setequal, union\n",
      "\n",
      "\n"
     ]
    }
   ],
   "source": [
    "library(hipathia)\n",
    "library(AnnotationDbi)\n",
    "library(org.Hs.eg.db)\n",
    "library(dplyr)\n",
    "library(ggplot2)"
   ]
  },
  {
   "cell_type": "code",
   "execution_count": null,
   "id": "13cd4a63-68e5-44ea-a7f7-402ec2000f4e",
   "metadata": {},
   "outputs": [],
   "source": [
    "#### recounts results"
   ]
  },
  {
   "cell_type": "code",
   "execution_count": 3,
   "id": "fe504c19-2dbb-4ebe-860c-035fd6e42712",
   "metadata": {},
   "outputs": [
    {
     "name": "stderr",
     "output_type": "stream",
     "text": [
      "'select()' returned many:1 mapping between keys and columns\n",
      "\n"
     ]
    }
   ],
   "source": [
    "name_enfermerdad_symbol <- readRDS(\"/mnt/lustre/scratch/CBRA/research/projects/rrdd_mm/results/00_parser_orphanet/gen_enfermedad/name_enfermerdad_symbol.rds\")\n",
    "colnames(name_enfermerdad_symbol) <- c(\"name_enf\",\"gene\")\n",
    "symbol_entreid <- AnnotationDbi::select(org.Hs.eg.db, keys=paste(name_enfermerdad_symbol$gene), columns=c(\"ENTREZID\"),keytype=\"SYMBOL\")\n",
    "\n",
    "gen_enf <- unique(merge(name_enfermerdad_symbol, symbol_entreid, by.x=\"gene\",by.y=\"SYMBOL\"))\n",
    "rd_gen_class <- readRDS(\"/mnt/lustre/scratch/CBRA/research/projects/rrdd_mm/results/00_parser_orphanet/rd_gen_class.rds\")\n",
    "rd_gen_class$clasificacion <- paste(rd_gen_class$clasificacion)\n",
    "rd_gen_class$enfermedad <- paste(rd_gen_class$enfermedad)\n",
    "rd_gen_class$V1 <- paste(rd_gen_class$V1)"
   ]
  },
  {
   "cell_type": "code",
   "execution_count": 4,
   "id": "bd83264d-a9d9-429d-9445-6797b44f98e0",
   "metadata": {},
   "outputs": [],
   "source": [
    "files <- list.files(\"/mnt/lustre/scratch/CBRA/research/projects/rrdd_mm/results/05_clasi_result_kstest/05_4_clasi_result_kstest_sign_both_sex_no_all_tissue_but_same/\")\n",
    "\n",
    "ko_sign_2_sex_no_all_tissue_same <- do.call(rbind,lapply(files, FUN=function(x) readRDS(paste(\"/mnt/lustre/scratch/CBRA/research/projects/rrdd_mm/results/05_clasi_result_kstest/05_4_clasi_result_kstest_sign_both_sex_no_all_tissue_but_same/\",x, sep=\"\"))))\n",
    "ko_sign_2_sex_no_all_tissue_same_graph <- ko_sign_2_sex_no_all_tissue_same[,c(\"ko\",\"circ\",\"tissue\")]     "
   ]
  },
  {
   "cell_type": "code",
   "execution_count": 5,
   "id": "a9df6478-4614-4899-8264-c6a4e16d986f",
   "metadata": {},
   "outputs": [
    {
     "name": "stderr",
     "output_type": "stream",
     "text": [
      "Loaded 146 pathways\n",
      "\n"
     ]
    }
   ],
   "source": [
    "pathways <- load_pathways(\"hsa\")"
   ]
  },
  {
   "cell_type": "code",
   "execution_count": 6,
   "id": "e6657d87-1954-4b19-a7e5-3764f011d085",
   "metadata": {},
   "outputs": [],
   "source": [
    "ko_sign_2_sex_no_all_tissue_same_graph$name_path <- get_path_names(pathways, ko_sign_2_sex_no_all_tissue_same_graph$circ)\n",
    "ko_sign_2_sex_no_all_tissue_same_graph_heatmap <- unique(merge(merge(gen_enf, ko_sign_2_sex_no_all_tissue_same_graph,by.x=\"ENTREZID\",by.y=\"ko\"), rd_gen_class, by.x=\"name_enf\",by.y=\"enfermedad\")[,c(\"gene\",\"name_path\",\"tissue\",\"clasificacion\")])"
   ]
  },
  {
   "cell_type": "code",
   "execution_count": 9,
   "id": "0480a898-77ca-46e0-9680-2a65894d131c",
   "metadata": {},
   "outputs": [],
   "source": [
    "ko_sign_2_sex_no_all_tissue_same_graph_heatmap$clas <- rep(\"-\", length(ko_sign_2_sex_no_all_tissue_same_graph_heatmap$clasificacion))\n",
    "ko_sign_2_sex_no_all_tissue_same_graph_heatmap$clas[which(ko_sign_2_sex_no_all_tissue_same_graph_heatmap$clasificacion == \"Rare bone disease\")] <- \"RBD\"\n",
    "ko_sign_2_sex_no_all_tissue_same_graph_heatmap$clas[which(ko_sign_2_sex_no_all_tissue_same_graph_heatmap$clasificacion == \"Rare developmental defect during embryogenesis\")] <- \"RDDDE\"\n",
    "ko_sign_2_sex_no_all_tissue_same_graph_heatmap$clas[which(ko_sign_2_sex_no_all_tissue_same_graph_heatmap$clasificacion == \"Rare neurologic disease\")] <- \"RNEUD\"\n",
    "ko_sign_2_sex_no_all_tissue_same_graph_heatmap$clas[which(ko_sign_2_sex_no_all_tissue_same_graph_heatmap$clasificacion == \"Rare renal disease\")] <- \"RRD\"\n",
    "ko_sign_2_sex_no_all_tissue_same_graph_heatmap$clas[which(ko_sign_2_sex_no_all_tissue_same_graph_heatmap$clasificacion == \"Rare inborn errors of metabolism\")] <- \"RIEM\"\n",
    "ko_sign_2_sex_no_all_tissue_same_graph_heatmap$clas[which(ko_sign_2_sex_no_all_tissue_same_graph_heatmap$clasificacion == \"Rare endocrine disease\")] <- \"RENDD\"\n",
    "ko_sign_2_sex_no_all_tissue_same_graph_heatmap$clas[which(ko_sign_2_sex_no_all_tissue_same_graph_heatmap$clasificacion == \"Rare skin disease\")] <- \"RSD\""
   ]
  },
  {
   "cell_type": "code",
   "execution_count": 30,
   "id": "c11a7b59-b248-45e1-9e1c-b28dc782b641",
   "metadata": {},
   "outputs": [],
   "source": [
    "clas_colors <- c('RBD' = \"#1f78b4\",\n",
    "'RDDDE' = \"#b2df8a\",\n",
    "'RSD' =  \"#b15928\", \n",
    "'RRD' = \"#66c2a5\",\n",
    "'RIEM' = \"#ffff99\",\n",
    "'RENDD' = \"#8c564b\",\n",
    "'RNEUD' = \"#ff7f00\")\n",
    "\n",
    "ko_sign_2_sex_no_all_tissue_same_graph_heatmap$path <- unlist(lapply(ko_sign_2_sex_no_all_tissue_same_graph_heatmap$name_path, FUN=function(x) unlist(strsplit(x,\":\"))[1])) \n",
    "ko_sign_2_sex_no_all_tissue_same_graph_heatmap <- ko_sign_2_sex_no_all_tissue_same_graph_heatmap[-intersect(which(ko_sign_2_sex_no_all_tissue_same_graph_heatmap$gene == \"FBP1\"),\n",
    "which(ko_sign_2_sex_no_all_tissue_same_graph_heatmap$path == \"Glucagon signaling pathway\")),]                                                                     "
   ]
  },
  {
   "cell_type": "code",
   "execution_count": 31,
   "id": "f6b5c727-63b8-4871-981b-a4e35d2abb76",
   "metadata": {},
   "outputs": [
    {
     "data": {
      "text/html": [
       "<strong>png:</strong> 2"
      ],
      "text/latex": [
       "\\textbf{png:} 2"
      ],
      "text/markdown": [
       "**png:** 2"
      ],
      "text/plain": [
       "png \n",
       "  2 "
      ]
     },
     "metadata": {},
     "output_type": "display_data"
    }
   ],
   "source": [
    "jpeg(\"/mnt/lustre/scratch/CBRA/research/projects/rrdd_mm/results/07_graph_results/07_4_ko_sign_both_sex_not_all_tissue_but_same/heatmap_ko_sign_both_sex_not_all_tissue_but_same.jpeg\", quality = 100, width = 800, height = 600)\n",
    "ko_sign_2_sex_no_all_tissue_same_graph_heatmap %>% \n",
    "ggplot(aes(x= tissue, y = gene, fill = clas)) + \n",
    "  scale_fill_manual(values = clas_colors) +\n",
    "  geom_tile(color=\"white\")  + facet_grid(path ~ ., scales = \"free_y\", space = \"free_y\") +\n",
    "  labs(title = \"\", x = \"Tissues\", y = \"Genes belong to RRDD\", fill=\"Clas of RRDD\" ,color = \"Legend Title\\n\") + \n",
    "    theme_minimal() + \n",
    "    theme(strip.text.y = element_text(size=9, angle=360), \n",
    "        strip.background = element_rect(colour=\"grey\", fill=c(\"#CCCCFF\")),\n",
    "        legend.position=\"right\", legend.direction=\"vertical\",\n",
    "        legend.text=element_text(size=11),\n",
    "        axis.text.x=element_text(size=11,vjust=0.5, angle = 90),\n",
    "        axis.text.y=element_text(size=8,vjust=0.5),\n",
    "        plot.title=element_text(hjust=0, size=14)) \n",
    "dev.off()"
   ]
  },
  {
   "cell_type": "code",
   "execution_count": 41,
   "id": "a04d0517-80db-4f64-869e-029bd14c7ae3",
   "metadata": {},
   "outputs": [],
   "source": [
    "ko_sign_2_sex_no_all_tissue_save_csv <- unique(merge(rd_gen_class, ko_sign_2_sex_no_all_tissue_same_graph_heatmap, by.x=\"V1\", by.y=\"gene\")[,c(\"V1\",\"enfermedad\",\"clasificacion.x\", \"name_path\",\"tissue\")])\n",
    "colnames(ko_sign_2_sex_no_all_tissue_save_csv) <- c(\"gene_rd\",\"name_rd\",\"clasification_rd\",\"circ_belong_gene_rd\",\"tissue\")\n",
    "\n",
    "write.csv(ko_sign_2_sex_no_all_tissue_save_csv, file=\"/mnt/lustre/scratch/CBRA/research/projects/rrdd_mm/results/07_graph_results/07_4_ko_sign_both_sex_not_all_tissue_but_same/ko_sign_both_sex_not_all_tissue_but_same.csv\", row.names=F)"
   ]
  },
  {
   "cell_type": "code",
   "execution_count": null,
   "id": "62573295-5245-43f9-af28-3175d95e8328",
   "metadata": {},
   "outputs": [],
   "source": [
    "### comparation dif logFC"
   ]
  },
  {
   "cell_type": "code",
   "execution_count": 58,
   "id": "eed795be-a7b9-4148-8624-2e6c181c63a8",
   "metadata": {},
   "outputs": [
    {
     "data": {
      "text/html": [
       "'8323'"
      ],
      "text/latex": [
       "'8323'"
      ],
      "text/markdown": [
       "'8323'"
      ],
      "text/plain": [
       "[1] \"8323\""
      ]
     },
     "metadata": {},
     "output_type": "display_data"
    }
   ],
   "source": [
    "comp_signo_logFC_both_sex_no_all_logfc_same_sign_same_tissue <- list.files(\"/mnt/lustre/scratch/CBRA/research/projects/rrdd_mm/results/06_comp_signo_logFC_both_sex/06_2_comp_signo_logFC_both_sex_no_all_logfc_same_sign_same_tissue/\")\n",
    "ko_comp_signo_logFC_both_sex_no_all_logfc_same_sign_same_tissue <- gsub(\".rds\",\"\",gsub(\"kstest_pvadj_logfc_kovsctrl_sign_both_sex_no_all_logfc_same_sign_same_tissue_\",\"\",comp_signo_logFC_both_sex_no_all_logfc_same_sign_same_tissue))\n",
    "intersect(ko_comp_signo_logFC_both_sex_no_all_logfc_same_sign_same_tissue, unique(ko_sign_2_sex_no_all_tissue_same$ko))\n"
   ]
  },
  {
   "cell_type": "code",
   "execution_count": 61,
   "id": "3e00d7ba-9323-4ff7-be7d-8b42eb28ee91",
   "metadata": {},
   "outputs": [
    {
     "data": {
      "text/html": [
       "<table class=\"dataframe\">\n",
       "<caption>A data.frame: 2 × 6</caption>\n",
       "<thead>\n",
       "\t<tr><th></th><th scope=col>kspvadj</th><th scope=col>logFC</th><th scope=col>ko</th><th scope=col>circ</th><th scope=col>sex</th><th scope=col>tissue</th></tr>\n",
       "\t<tr><th></th><th scope=col>&lt;dbl&gt;</th><th scope=col>&lt;dbl&gt;</th><th scope=col>&lt;chr&gt;</th><th scope=col>&lt;chr&gt;</th><th scope=col>&lt;chr&gt;</th><th scope=col>&lt;chr&gt;</th></tr>\n",
       "</thead>\n",
       "<tbody>\n",
       "\t<tr><th scope=row>196</th><td>2.022198e-02</td><td>0.1390368</td><td>8323</td><td>P-hsa04550-101</td><td>female</td><td>Brain</td></tr>\n",
       "\t<tr><th scope=row>721</th><td>6.665855e-05</td><td>       NA</td><td>8323</td><td>P-hsa04550-101</td><td>male  </td><td>Brain</td></tr>\n",
       "</tbody>\n",
       "</table>\n"
      ],
      "text/latex": [
       "A data.frame: 2 × 6\n",
       "\\begin{tabular}{r|llllll}\n",
       "  & kspvadj & logFC & ko & circ & sex & tissue\\\\\n",
       "  & <dbl> & <dbl> & <chr> & <chr> & <chr> & <chr>\\\\\n",
       "\\hline\n",
       "\t196 & 2.022198e-02 & 0.1390368 & 8323 & P-hsa04550-101 & female & Brain\\\\\n",
       "\t721 & 6.665855e-05 &        NA & 8323 & P-hsa04550-101 & male   & Brain\\\\\n",
       "\\end{tabular}\n"
      ],
      "text/markdown": [
       "\n",
       "A data.frame: 2 × 6\n",
       "\n",
       "| <!--/--> | kspvadj &lt;dbl&gt; | logFC &lt;dbl&gt; | ko &lt;chr&gt; | circ &lt;chr&gt; | sex &lt;chr&gt; | tissue &lt;chr&gt; |\n",
       "|---|---|---|---|---|---|---|\n",
       "| 196 | 2.022198e-02 | 0.1390368 | 8323 | P-hsa04550-101 | female | Brain |\n",
       "| 721 | 6.665855e-05 |        NA | 8323 | P-hsa04550-101 | male   | Brain |\n",
       "\n"
      ],
      "text/plain": [
       "    kspvadj      logFC     ko   circ           sex    tissue\n",
       "196 2.022198e-02 0.1390368 8323 P-hsa04550-101 female Brain \n",
       "721 6.665855e-05        NA 8323 P-hsa04550-101 male   Brain "
      ]
     },
     "metadata": {},
     "output_type": "display_data"
    },
    {
     "data": {
      "text/html": [
       "<table class=\"dataframe\">\n",
       "<caption>A data.frame: 2 × 6</caption>\n",
       "<thead>\n",
       "\t<tr><th></th><th scope=col>kspvadj</th><th scope=col>logFC</th><th scope=col>ko</th><th scope=col>circ</th><th scope=col>sex</th><th scope=col>tissue</th></tr>\n",
       "\t<tr><th></th><th scope=col>&lt;dbl&gt;</th><th scope=col>&lt;dbl&gt;</th><th scope=col>&lt;chr&gt;</th><th scope=col>&lt;chr&gt;</th><th scope=col>&lt;chr&gt;</th><th scope=col>&lt;chr&gt;</th></tr>\n",
       "</thead>\n",
       "<tbody>\n",
       "\t<tr><th scope=row>196</th><td>2.022198e-02</td><td>0.1390368</td><td>8323</td><td>P-hsa04550-101</td><td>female</td><td>Brain</td></tr>\n",
       "\t<tr><th scope=row>721</th><td>6.665855e-05</td><td>       NA</td><td>8323</td><td>P-hsa04550-101</td><td>male  </td><td>Brain</td></tr>\n",
       "</tbody>\n",
       "</table>\n"
      ],
      "text/latex": [
       "A data.frame: 2 × 6\n",
       "\\begin{tabular}{r|llllll}\n",
       "  & kspvadj & logFC & ko & circ & sex & tissue\\\\\n",
       "  & <dbl> & <dbl> & <chr> & <chr> & <chr> & <chr>\\\\\n",
       "\\hline\n",
       "\t196 & 2.022198e-02 & 0.1390368 & 8323 & P-hsa04550-101 & female & Brain\\\\\n",
       "\t721 & 6.665855e-05 &        NA & 8323 & P-hsa04550-101 & male   & Brain\\\\\n",
       "\\end{tabular}\n"
      ],
      "text/markdown": [
       "\n",
       "A data.frame: 2 × 6\n",
       "\n",
       "| <!--/--> | kspvadj &lt;dbl&gt; | logFC &lt;dbl&gt; | ko &lt;chr&gt; | circ &lt;chr&gt; | sex &lt;chr&gt; | tissue &lt;chr&gt; |\n",
       "|---|---|---|---|---|---|---|\n",
       "| 196 | 2.022198e-02 | 0.1390368 | 8323 | P-hsa04550-101 | female | Brain |\n",
       "| 721 | 6.665855e-05 |        NA | 8323 | P-hsa04550-101 | male   | Brain |\n",
       "\n"
      ],
      "text/plain": [
       "    kspvadj      logFC     ko   circ           sex    tissue\n",
       "196 2.022198e-02 0.1390368 8323 P-hsa04550-101 female Brain \n",
       "721 6.665855e-05        NA 8323 P-hsa04550-101 male   Brain "
      ]
     },
     "metadata": {},
     "output_type": "display_data"
    }
   ],
   "source": [
    "readRDS(\"/mnt/lustre/scratch/CBRA/research/projects/rrdd_mm/results/06_comp_signo_logFC_both_sex/06_2_comp_signo_logFC_both_sex_no_all_logfc_same_sign_same_tissue/kstest_pvadj_logfc_kovsctrl_sign_both_sex_no_all_logfc_same_sign_same_tissue_8323.rds\")\n",
    "readRDS(\"/mnt/lustre/scratch/CBRA/research/projects/rrdd_mm/results/06_comp_signo_logFC_both_sex/06_1_comp_signo_logFC_both_sex_no_all_logfc_same_sign/kstest_pvadj_logfc_kovsctrl_sign_both_sex_no_all_logfc_same_sign_8323.rds\")"
   ]
  },
  {
   "cell_type": "code",
   "execution_count": null,
   "id": "7a729628-378f-4794-82d4-c59b05278892",
   "metadata": {},
   "outputs": [],
   "source": [
    "### sexual chromosome"
   ]
  },
  {
   "cell_type": "code",
   "execution_count": 42,
   "id": "4102faa2-8cda-43e9-88b1-870de7083704",
   "metadata": {},
   "outputs": [
    {
     "name": "stderr",
     "output_type": "stream",
     "text": [
      "Warning message in rbind(...):\n",
      "“number of columns of result is not a multiple of vector length (arg 477)”\n"
     ]
    }
   ],
   "source": [
    "x <- org.Hs.egCHR\n",
    "mapped_genes <- mappedkeys(x)\n",
    "xx <- as.list(x[mapped_genes])\n",
    "df_gen_cromosoma <- as.data.frame(do.call(rbind, xx))"
   ]
  },
  {
   "cell_type": "code",
   "execution_count": 44,
   "id": "7343fa4c-e262-48a0-a5a1-f0fb5994a7b1",
   "metadata": {},
   "outputs": [
    {
     "data": {
      "text/html": [
       "<table class=\"dataframe\">\n",
       "<caption>A data.frame: 11 × 3</caption>\n",
       "<thead>\n",
       "\t<tr><th></th><th scope=col>V1</th><th scope=col>V2</th><th scope=col>V3</th></tr>\n",
       "\t<tr><th></th><th scope=col>&lt;chr&gt;</th><th scope=col>&lt;chr&gt;</th><th scope=col>&lt;chr&gt;</th></tr>\n",
       "</thead>\n",
       "<tbody>\n",
       "\t<tr><th scope=row>149461</th><td>1 </td><td>1 </td><td>1 </td></tr>\n",
       "\t<tr><th scope=row>2027</th><td>17</td><td>17</td><td>17</td></tr>\n",
       "\t<tr><th scope=row>2203</th><td>9 </td><td>9 </td><td>9 </td></tr>\n",
       "\t<tr><th scope=row>2261</th><td>4 </td><td>4 </td><td>4 </td></tr>\n",
       "\t<tr><th scope=row>4851</th><td>9 </td><td>9 </td><td>9 </td></tr>\n",
       "\t<tr><th scope=row>51305</th><td>8 </td><td>8 </td><td>8 </td></tr>\n",
       "\t<tr><th scope=row>7252</th><td>1 </td><td>1 </td><td>1 </td></tr>\n",
       "\t<tr><th scope=row>7306</th><td>9 </td><td>9 </td><td>9 </td></tr>\n",
       "\t<tr><th scope=row>779</th><td>1 </td><td>1 </td><td>1 </td></tr>\n",
       "\t<tr><th scope=row>8323</th><td>8 </td><td>8 </td><td>8 </td></tr>\n",
       "\t<tr><th scope=row>9071</th><td>13</td><td>13</td><td>13</td></tr>\n",
       "</tbody>\n",
       "</table>\n"
      ],
      "text/latex": [
       "A data.frame: 11 × 3\n",
       "\\begin{tabular}{r|lll}\n",
       "  & V1 & V2 & V3\\\\\n",
       "  & <chr> & <chr> & <chr>\\\\\n",
       "\\hline\n",
       "\t149461 & 1  & 1  & 1 \\\\\n",
       "\t2027 & 17 & 17 & 17\\\\\n",
       "\t2203 & 9  & 9  & 9 \\\\\n",
       "\t2261 & 4  & 4  & 4 \\\\\n",
       "\t4851 & 9  & 9  & 9 \\\\\n",
       "\t51305 & 8  & 8  & 8 \\\\\n",
       "\t7252 & 1  & 1  & 1 \\\\\n",
       "\t7306 & 9  & 9  & 9 \\\\\n",
       "\t779 & 1  & 1  & 1 \\\\\n",
       "\t8323 & 8  & 8  & 8 \\\\\n",
       "\t9071 & 13 & 13 & 13\\\\\n",
       "\\end{tabular}\n"
      ],
      "text/markdown": [
       "\n",
       "A data.frame: 11 × 3\n",
       "\n",
       "| <!--/--> | V1 &lt;chr&gt; | V2 &lt;chr&gt; | V3 &lt;chr&gt; |\n",
       "|---|---|---|---|\n",
       "| 149461 | 1  | 1  | 1  |\n",
       "| 2027 | 17 | 17 | 17 |\n",
       "| 2203 | 9  | 9  | 9  |\n",
       "| 2261 | 4  | 4  | 4  |\n",
       "| 4851 | 9  | 9  | 9  |\n",
       "| 51305 | 8  | 8  | 8  |\n",
       "| 7252 | 1  | 1  | 1  |\n",
       "| 7306 | 9  | 9  | 9  |\n",
       "| 779 | 1  | 1  | 1  |\n",
       "| 8323 | 8  | 8  | 8  |\n",
       "| 9071 | 13 | 13 | 13 |\n",
       "\n"
      ],
      "text/plain": [
       "       V1 V2 V3\n",
       "149461 1  1  1 \n",
       "2027   17 17 17\n",
       "2203   9  9  9 \n",
       "2261   4  4  4 \n",
       "4851   9  9  9 \n",
       "51305  8  8  8 \n",
       "7252   1  1  1 \n",
       "7306   9  9  9 \n",
       "779    1  1  1 \n",
       "8323   8  8  8 \n",
       "9071   13 13 13"
      ]
     },
     "metadata": {},
     "output_type": "display_data"
    }
   ],
   "source": [
    "df_gen_cromosoma[unique(ko_sign_2_sex_no_all_tissue_same$ko),]"
   ]
  }
 ],
 "metadata": {
  "kernelspec": {
   "display_name": "R",
   "language": "R",
   "name": "ir"
  },
  "language_info": {
   "codemirror_mode": "r",
   "file_extension": ".r",
   "mimetype": "text/x-r-source",
   "name": "R",
   "pygments_lexer": "r",
   "version": "4.3.2"
  }
 },
 "nbformat": 4,
 "nbformat_minor": 5
}
