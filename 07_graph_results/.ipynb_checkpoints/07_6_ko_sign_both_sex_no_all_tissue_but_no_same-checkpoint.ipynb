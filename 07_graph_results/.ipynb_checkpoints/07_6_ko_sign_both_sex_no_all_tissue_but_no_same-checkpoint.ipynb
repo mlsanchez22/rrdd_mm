{
 "cells": [
  {
   "cell_type": "code",
   "execution_count": 10,
   "id": "d3446684-ebb2-4f86-a329-54c359e3d6f3",
   "metadata": {},
   "outputs": [],
   "source": [
    "library(hipathia)\n",
    "library(AnnotationDbi)\n",
    "library(org.Hs.eg.db)\n",
    "library(dplyr)\n",
    "library(ggplot2)\n",
    "library(jsonlite)\n",
    "library(networkD3)\n",
    "library(webshot)"
   ]
  },
  {
   "cell_type": "code",
   "execution_count": 11,
   "id": "ef4d8ca9-0705-485a-bc4e-3cbfa9f0ec8b",
   "metadata": {},
   "outputs": [
    {
     "name": "stderr",
     "output_type": "stream",
     "text": [
      "'select()' returned many:1 mapping between keys and columns\n",
      "\n"
     ]
    }
   ],
   "source": [
    "name_enfermerdad_symbol <- readRDS(\"/mnt/lustre/scratch/CBRA/research/projects/rrdd_mm/results/00_parser_orphanet/gen_enfermedad/name_enfermerdad_symbol.rds\")\n",
    "colnames(name_enfermerdad_symbol) <- c(\"name_enf\",\"gene\")\n",
    "symbol_entreid <- AnnotationDbi::select(org.Hs.eg.db, keys=paste(name_enfermerdad_symbol$gene), columns=c(\"ENTREZID\"),keytype=\"SYMBOL\")\n",
    "\n",
    "gen_enf <- unique(merge(name_enfermerdad_symbol, symbol_entreid, by.x=\"gene\",by.y=\"SYMBOL\"))\n",
    "rd_gen_class <- readRDS(\"/mnt/lustre/scratch/CBRA/research/projects/rrdd_mm/results/00_parser_orphanet/rd_gen_class.rds\")\n",
    "rd_gen_class$clasificacion <- paste(rd_gen_class$clasificacion)\n",
    "rd_gen_class$enfermedad <- paste(rd_gen_class$enfermedad)\n",
    "rd_gen_class$V1 <- paste(rd_gen_class$V1)"
   ]
  },
  {
   "cell_type": "code",
   "execution_count": 12,
   "id": "a0a3c0e3-0c39-4006-b3eb-01d424cf3b40",
   "metadata": {},
   "outputs": [],
   "source": [
    "# description of data"
   ]
  },
  {
   "cell_type": "code",
   "execution_count": 13,
   "id": "a2455774-be72-4ec3-b225-927603667e96",
   "metadata": {},
   "outputs": [],
   "source": [
    "files_kstest_sign_2_sex_no_same_tissue_sex <- list.files(\"/mnt/lustre/scratch/CBRA/research/projects/rrdd_mm/results/05_clasi_result_kstest/05_4_clasi_result_kstest_sign_both_sex_no_all_tissue_no_same/\")"
   ]
  },
  {
   "cell_type": "code",
   "execution_count": 14,
   "id": "2bf898de-fdac-457f-825b-3cce01d05a12",
   "metadata": {},
   "outputs": [],
   "source": [
    "results_kstest_sign_2_sex_no_same_tissue_sex <- do.call(rbind,lapply(files_kstest_sign_2_sex_no_same_tissue_sex, FUN=function(x) readRDS(paste(\"/mnt/lustre/scratch/CBRA/research/projects/rrdd_mm/results/05_clasi_result_kstest/05_4_clasi_result_kstest_sign_both_sex_no_all_tissue_no_same/\",x,sep=\"\"))))"
   ]
  },
  {
   "cell_type": "code",
   "execution_count": 15,
   "id": "69379225-bb3e-46a4-8b26-900b5298b33a",
   "metadata": {},
   "outputs": [
    {
     "name": "stderr",
     "output_type": "stream",
     "text": [
      "\u001b[1m\u001b[22m`summarise()` has grouped output by 'ko'. You can override using the `.groups`\n",
      "argument.\n",
      "\u001b[1m\u001b[22m`summarise()` has grouped output by 'ko', 'circ'. You can override using the\n",
      "`.groups` argument.\n"
     ]
    }
   ],
   "source": [
    "sel_results_kstest_sign_2_sex_no_same_tissue_sex_bsat <- data.frame(results_kstest_sign_2_sex_no_same_tissue_sex %>% group_by(ko, circ) %>% summarise(n=n()) %>% filter(n != 42))\n",
    "\n",
    "results_kstest_sign_2_sex_no_same_tissue_sex_filter_fbsat <- unique(do.call(rbind, lapply(1:length(sel_results_kstest_sign_2_sex_no_same_tissue_sex_bsat$ko), FUN=function(x) results_kstest_sign_2_sex_no_same_tissue_sex[intersect(which(results_kstest_sign_2_sex_no_same_tissue_sex$circ == sel_results_kstest_sign_2_sex_no_same_tissue_sex_bsat$circ[x]),\n",
    "which(results_kstest_sign_2_sex_no_same_tissue_sex$ko == sel_results_kstest_sign_2_sex_no_same_tissue_sex_bsat$ko[x])),])))\n",
    "\n",
    "sel_del_results_kstest_sign_2_sex_no_same_tissue_sex_bsat_osat <- data.frame(results_kstest_sign_2_sex_no_same_tissue_sex_filter_fbsat %>% group_by(ko,circ,sex) %>% summarise(n=n()) %>% filter(n==21))[,c(\"ko\",\"circ\")]\n",
    "\n",
    "id_del_ko_bsat_osat <- unlist(lapply(1:length(sel_del_results_kstest_sign_2_sex_no_same_tissue_sex_bsat_osat$ko), FUN=function(x) intersect(which(results_kstest_sign_2_sex_no_same_tissue_sex_filter_fbsat$circ == sel_del_results_kstest_sign_2_sex_no_same_tissue_sex_bsat_osat$circ[x]),\n",
    "which(results_kstest_sign_2_sex_no_same_tissue_sex_filter_fbsat$ko == sel_del_results_kstest_sign_2_sex_no_same_tissue_sex_bsat_osat$ko[x]))))\n",
    "\n",
    "results_kstest_sign_2_sex_no_same_tissue_sex_filter_fbsat_osat <- results_kstest_sign_2_sex_no_same_tissue_sex_filter_fbsat[-id_del_ko_bsat_osat,]                                     "
   ]
  },
  {
   "cell_type": "code",
   "execution_count": 16,
   "id": "0bf3b145-a470-4412-bfeb-88c145084622",
   "metadata": {},
   "outputs": [],
   "source": [
    "results_annot <- merge(merge(results_kstest_sign_2_sex_no_same_tissue_sex_filter_fbsat_osat, gen_enf,by.x=\"ko\", by.y=\"ENTREZID\", all.x=T), rd_gen_class, by.x=\"gene\", by.y=\"V1\", all.x=T)"
   ]
  },
  {
   "cell_type": "code",
   "execution_count": 17,
   "id": "35e71357-0f02-4585-a154-1de165b641ec",
   "metadata": {},
   "outputs": [
    {
     "name": "stderr",
     "output_type": "stream",
     "text": [
      "Loaded 146 pathways\n",
      "\n"
     ]
    }
   ],
   "source": [
    "pathways <- load_pathways(\"hsa\")\n",
    "results_annot$circ_hip <- get_path_names(pathways, results_annot$circ)\n",
    "results_annot$path <-  unlist(lapply(results_annot$circ_hip, FUN=function(x) unlist(strsplit(x,\":\"))[1]))"
   ]
  },
  {
   "cell_type": "code",
   "execution_count": 18,
   "id": "27b59f9e-57c9-480e-8f56-9bb60762485d",
   "metadata": {},
   "outputs": [
    {
     "data": {
      "text/html": [
       "273"
      ],
      "text/latex": [
       "273"
      ],
      "text/markdown": [
       "273"
      ],
      "text/plain": [
       "[1] 273"
      ]
     },
     "metadata": {},
     "output_type": "display_data"
    },
    {
     "data": {
      "text/html": [
       "502"
      ],
      "text/latex": [
       "502"
      ],
      "text/markdown": [
       "502"
      ],
      "text/plain": [
       "[1] 502"
      ]
     },
     "metadata": {},
     "output_type": "display_data"
    },
    {
     "data": {
      "text/html": [
       "24"
      ],
      "text/latex": [
       "24"
      ],
      "text/markdown": [
       "24"
      ],
      "text/plain": [
       "[1] 24"
      ]
     },
     "metadata": {},
     "output_type": "display_data"
    },
    {
     "data": {
      "text/html": [
       "726"
      ],
      "text/latex": [
       "726"
      ],
      "text/markdown": [
       "726"
      ],
      "text/plain": [
       "[1] 726"
      ]
     },
     "metadata": {},
     "output_type": "display_data"
    },
    {
     "data": {
      "text/html": [
       "21"
      ],
      "text/latex": [
       "21"
      ],
      "text/markdown": [
       "21"
      ],
      "text/plain": [
       "[1] 21"
      ]
     },
     "metadata": {},
     "output_type": "display_data"
    }
   ],
   "source": [
    "results_sign_1_or_2_sex_no_all_tissue_save_csv <- results_annot[,c(\"gene\",\"sex\",\"tissue\",\"name_enf\",\"clasificacion\",\"circ_hip\")]\n",
    "colnames(results_sign_1_or_2_sex_no_all_tissue_save_csv) <- c(\"gene_rd\",\"sex\",\"tissue\",\"name_rd\",\"clasification_rd\",\"circ_belong_gene_rd\")\n",
    "\n",
    "length(unique(results_sign_1_or_2_sex_no_all_tissue_save_csv$gene_rd))\n",
    "length(unique(results_sign_1_or_2_sex_no_all_tissue_save_csv$name_rd))\n",
    "length(unique(results_sign_1_or_2_sex_no_all_tissue_save_csv$clasification_rd))\n",
    "length(unique(results_sign_1_or_2_sex_no_all_tissue_save_csv$circ_belong_gene_rd))\n",
    "length(unique(results_sign_1_or_2_sex_no_all_tissue_save_csv$tissue))"
   ]
  },
  {
   "cell_type": "code",
   "execution_count": 19,
   "id": "c0af9aac-f955-4d39-8467-ab625586a670",
   "metadata": {},
   "outputs": [],
   "source": [
    "write.csv(results_sign_1_or_2_sex_no_all_tissue_save_csv, file=\"/mnt/lustre/scratch/CBRA/research/projects/rrdd_mm/results/07_graph_results/07_6_ko_sign_both_sex_no_all_tissue_but_no_same/ko_sign_both_sex_no_all_tissue_but_no_same.csv\", row.names=F)"
   ]
  },
  {
   "cell_type": "code",
   "execution_count": 20,
   "id": "76287fff-ed66-4831-a392-0c227dd65236",
   "metadata": {},
   "outputs": [],
   "source": [
    "### circuits seletion q95"
   ]
  },
  {
   "cell_type": "code",
   "execution_count": 21,
   "id": "4f3ef9e7-7dfd-4e5f-b03c-5e2a61dc16d9",
   "metadata": {},
   "outputs": [
    {
     "name": "stderr",
     "output_type": "stream",
     "text": [
      "\u001b[1m\u001b[22m`summarise()` has grouped output by 'gene', 'tissue', 'clasificacion'. You can\n",
      "override using the `.groups` argument.\n",
      "\u001b[1m\u001b[22m`summarise()` has grouped output by 'gene', 'tissue', 'clasificacion'. You can\n",
      "override using the `.groups` argument.\n"
     ]
    }
   ],
   "source": [
    "results_annot <- na.omit(results_annot)\n",
    "results_annot_finflogfcq90 <- results_annot[abs(results_annot$logFC) > quantile(x=abs(results_annot$logFC), probs=0.95),]\n",
    "results_annot_finflogfcq90_graph <- unique(results_annot_finflogfcq90[,c(\"gene\",\"tissue\",\"sex\",\"clasificacion\",\"path\")])\n",
    "\n",
    "results_annot_finflogfcq90_count <- data.frame(results_annot_finflogfcq90_graph %>% group_by(gene,tissue, clasificacion,path) %>% summarise(n=n()))\n",
    "results_annot_finflogfcq90_count$sex_graph <- rep(\"-\", length(results_annot_finflogfcq90_count$gene))\n",
    "results_annot_finflogfcq90_count$sex_graph[results_annot_finflogfcq90_count$n == 2] <- \"B\"\n",
    "\n",
    "results_annot_finflogfcq90_count$sex_graph[which(results_annot_finflogfcq90_count$n == 1)] <- \n",
    "unlist(lapply(which(results_annot_finflogfcq90_count$n == 1), FUN=function(x) \n",
    "results_annot_finflogfcq90_graph[intersect(intersect(which(paste(results_annot_finflogfcq90_count[x,\"gene\"]) == results_annot_finflogfcq90_graph$gene),\n",
    "which(results_annot_finflogfcq90_count[x,\"tissue\"] == results_annot_finflogfcq90_graph$tissue)),\n",
    "intersect(which(results_annot_finflogfcq90_count[x,\"clasificacion\"] == results_annot_finflogfcq90_graph$clasificacion),\n",
    "which(results_annot_finflogfcq90_count[x,\"path\"] == results_annot_finflogfcq90_graph$path))),\"sex\"]))\n",
    "\n",
    "results_annot_finflogfcq90_count$sex_graph[results_annot_finflogfcq90_count$sex_graph == \"male\"]<- \"M\"\n",
    "results_annot_finflogfcq90_count$sex_graph[results_annot_finflogfcq90_count$sex_graph == \"female\"]<- \"F\"    \n",
    "\n",
    "results_annot_finflogfcq90_graph <- unique(results_annot_finflogfcq90[,c(\"gene\",\"tissue\",\"sex\",\"clasificacion\",\"path\")])\n",
    "\n",
    "results_annot_finflogfcq90_count <- data.frame(results_annot_finflogfcq90_graph %>% group_by(gene,tissue, clasificacion,path) %>% summarise(n=n()))\n",
    "results_annot_finflogfcq90_count$sex_graph <- rep(\"-\", length(results_annot_finflogfcq90_count$gene))\n",
    "results_annot_finflogfcq90_count$sex_graph[results_annot_finflogfcq90_count$n == 2] <- \"B\"\n",
    "\n",
    "results_annot_finflogfcq90_count$sex_graph[which(results_annot_finflogfcq90_count$n == 1)] <- unlist(lapply(which(results_annot_finflogfcq90_count$n == 1), FUN=function(x)\n",
    "results_annot_finflogfcq90_graph[intersect(intersect(which(results_annot_finflogfcq90_graph$gene == paste(results_annot_finflogfcq90_count[x,\"gene\"])),\n",
    "which(results_annot_finflogfcq90_graph$tissue == paste(results_annot_finflogfcq90_count[x,\"tissue\"]))),\n",
    "intersect(which(results_annot_finflogfcq90_graph$clasificacion == paste(results_annot_finflogfcq90_count[x,\"clasificacion\"])),\n",
    "which(results_annot_finflogfcq90_graph$path == paste(results_annot_finflogfcq90_count[x,\"path\"])))),\"sex\"]))\n",
    "                                                                                                            \n",
    "results_annot_finflogfcq90_count$sex_graph[results_annot_finflogfcq90_count$sex_graph == \"male\"]<- \"M\"\n",
    "results_annot_finflogfcq90_count$sex_graph[results_annot_finflogfcq90_count$sex_graph == \"female\"]<- \"F\"         \n"
   ]
  },
  {
   "cell_type": "code",
   "execution_count": 22,
   "id": "f98c79d8-3f07-405f-b4e8-2af985893bcb",
   "metadata": {},
   "outputs": [],
   "source": [
    "results_annot_finflogfcq90_count$clas[which(results_annot_finflogfcq90_count$clasificacion == \"Rare neurologic disease\")] <- \"RNEUD\"\n",
    "results_annot_finflogfcq90_count$clas[which(results_annot_finflogfcq90_count$clasificacion == \"Rare genetic disease\")] <- \"RGEND\"\n",
    "results_annot_finflogfcq90_count$clas[which(results_annot_finflogfcq90_count$clasificacion == \"Rare endocrine disease\")] <- \"RENDD\" \n",
    "results_annot_finflogfcq90_count$clas[which(results_annot_finflogfcq90_count$clasificacion == \"Rare neoplastic disease\")] <- \"RND\"\n",
    "results_annot_finflogfcq90_count$clas[which(results_annot_finflogfcq90_count$clasificacion == \"Rare immune disease\")] <- \"RID\"\n",
    "results_annot_finflogfcq90_count$clas[which(results_annot_finflogfcq90_count$clasificacion == \"Rare developmental defect during embryogenesis\")] <- \"RDDDE\"\n",
    "results_annot_finflogfcq90_count$clas[which(results_annot_finflogfcq90_count$clasificacion == \"Rare gastroenterologic disease\")] <- \"RGASTD\" \n",
    "results_annot_finflogfcq90_count$clas[which(results_annot_finflogfcq90_count$clasificacion == \"Rare abdominal surgical disease\")] <- \"RADSD\"\n",
    "results_annot_finflogfcq90_count$clas[which(results_annot_finflogfcq90_count$clasificacion == \"Rare skin disease\")] <- \"RSD\"\n",
    "results_annot_finflogfcq90_count$clas[which(results_annot_finflogfcq90_count$clasificacion == \"Rare bone disease\")] <- \"RBD\"\n",
    "results_annot_finflogfcq90_count$clas[which(results_annot_finflogfcq90_count$clasificacion == 'Rare inborn errors of metabolism')] <- \"RIEM\"\n",
    "results_annot_finflogfcq90_count$clas[which(results_annot_finflogfcq90_count$clasificacion == \"Rare hematologic disease\")] <- \"RHD\"\n",
    "results_annot_finflogfcq90_count$clas[which(results_annot_finflogfcq90_count$clasificacion == 'Rare otorhinolaryngologic disease')] <- \"ROTLD\"\n",
    "results_annot_finflogfcq90_count$clas[which(results_annot_finflogfcq90_count$clasificacion == \"Rare renal disease\")] <- \"RRD\"\n",
    "results_annot_finflogfcq90_count$clas[which(results_annot_finflogfcq90_count$clasificacion == \"Rare systemic or rheumatologic disease\")] <- \"RSORD\"                            \n",
    "results_annot_finflogfcq90_count$clas[which(results_annot_finflogfcq90_count$clasificacion == \"non_rare_in_europe\")] <- \"NRIE\"                                                                                                             \n",
    "results_annot_finflogfcq90_count$clas[which(results_annot_finflogfcq90_count$clasificacion == \"Rare ophthalmic disorder\")] <- \"ROPHD\" \n",
    "\n",
    "clas_colors <- c('RNEUD' = \"#ff7f00\",\n",
    "'RGEND' = \"#800080\",  # Purple\n",
    "'RENDD' = \"#8c564b\", \n",
    "'RND' = \"#33a02c\",  \n",
    "'RID' = \"#a6cee3\", \n",
    "'RDDDE' = \"#b2df8a\", \n",
    "'RGASTD' = \"#cab2d6\",\n",
    "'RADSD' = \"#ff0000\",   # Red\n",
    "'RSD' = \"#b15928\", \n",
    "'RBD' = \"#1f78b4\",\n",
    "'RIEM' = \"#ffff99\",      # Green\n",
    "'RHD' = \"#ffed6f\", \n",
    "'ROTLD' = \"#0000ff\",     # Blue\n",
    "'RRD' = \"#66c2a5\",\n",
    "'RSORD' = \"#8dd3c7\",    \n",
    "'NRIE' = \"#45aeff\",\n",
    "'ROPHD' = \"#e31a1c\")"
   ]
  },
  {
   "cell_type": "code",
   "execution_count": 27,
   "id": "d019b65e-ac80-411d-9c89-c5549e48b9bf",
   "metadata": {},
   "outputs": [
    {
     "data": {
      "text/html": [
       "<strong>png:</strong> 2"
      ],
      "text/latex": [
       "\\textbf{png:} 2"
      ],
      "text/markdown": [
       "**png:** 2"
      ],
      "text/plain": [
       "png \n",
       "  2 "
      ]
     },
     "metadata": {},
     "output_type": "display_data"
    }
   ],
   "source": [
    "jpeg(\"/mnt/lustre/scratch/CBRA/research/projects/rrdd_mm/results/07_graph_results/07_6_ko_sign_both_sex_no_all_tissue_but_no_same/heatmap_ko_sign_both_sex_no_all_tissue_but_no_same.jpeg\", quality = 100, width = 900, height = 1100)\n",
    "results_annot_finflogfcq90_count %>% ggplot(aes(x= tissue, y = gene, fill = clas)) +\n",
    "  scale_fill_manual(values = clas_colors) + \n",
    "  geom_tile(color=\"white\") + geom_text(aes(label = sex_graph), color = \"black\", size=4) + facet_grid(path ~ ., scales = \"free_y\", space = \"free_y\") +\n",
    "  labs(title = \"\", x = \"Tissues\", y = \"Genes RRDD\", fill=\"Clas of RRDD\" ,color = \"Legend Title\\n\") + \n",
    "    theme_minimal() + \n",
    "    theme(strip.text.y = element_text(size=12, angle=360), \n",
    "        strip.background = element_rect(colour=\"grey\", fill=c(\"#66B9B9\")),\n",
    "        legend.position=\"bottom\", legend.direction=\"horizontal\",\n",
    "        legend.text=element_text(size=10),\n",
    "        axis.text.x=element_text(size=12,vjust=0.5, angle = 90),\n",
    "        axis.text.y=element_text(size=12,vjust=0.5),\n",
    "        plot.title=element_text(hjust=0, size=14)) \n",
    "dev.off()"
   ]
  },
  {
   "cell_type": "code",
   "execution_count": 28,
   "id": "fddc2d93-939f-4f9b-97a6-16d4cd70df30",
   "metadata": {},
   "outputs": [
    {
     "name": "stderr",
     "output_type": "stream",
     "text": [
      "\u001b[1m\u001b[22m`summarise()` has grouped output by 'sex', 'tissue'. You can override using the\n",
      "`.groups` argument.\n"
     ]
    }
   ],
   "source": [
    "graph_barplot <- data.frame(results_sign_1_or_2_sex_no_all_tissue_save_csv %>% group_by(sex, tissue, clasification_rd) %>% summarise(n=n()))\n",
    "\n",
    "clasification <- unique(graph_barplot$clasification_rd)\n",
    "\n",
    "ext_dif_male_female <- function(clasification){\n",
    "    graph_barplot_sel <- unique(graph_barplot[graph_barplot$clasification_rd == clasification,])\n",
    "    df_counts <- data.frame(graph_barplot_sel %>% group_by(tissue) %>% summarise(n=n()))\n",
    "    tissue <- df_counts[df_counts$n == 2,\"tissue\"]\n",
    "    return(data.frame(\"clasification_rd\"=rep(clasification, length(tissue)), \"tissue\" = tissue, \"dif_male_female\"=unlist(lapply(tissue, FUN=function(x) graph_barplot_sel[graph_barplot_sel$sex == \"male\" & graph_barplot_sel$tissue == x,\"n\"] - graph_barplot_sel[graph_barplot_sel$sex == \"female\" & graph_barplot_sel$tissue == x,\"n\"]))))\n",
    "}\n",
    "                                                                                                                            \n",
    "results_dif_male_female <- do.call(rbind, lapply(clasification, FUN=function(x) ext_dif_male_female(x)))                                                                                                           "
   ]
  },
  {
   "cell_type": "code",
   "execution_count": 29,
   "id": "97f0d823-0635-49b1-becc-8e2ec342bf69",
   "metadata": {},
   "outputs": [],
   "source": [
    "results_dif_male_female$clas <- rep(\"-\", length(results_dif_male_female$clasification_rd))\n",
    "\n",
    "results_dif_male_female$clas[which(results_dif_male_female$clasification_rd == 'Rare abdominal surgical disease')] <- 'RADSD'\n",
    "results_dif_male_female$clas[which(results_dif_male_female$clasification_rd == \"Rare bone disease\")] <- \"RBD\"\n",
    "results_dif_male_female$clas[which(results_dif_male_female$clasification_rd == \"Rare cardiac disease\")] <- \"RCARD\"\n",
    "results_dif_male_female$clas[which(results_dif_male_female$clasification_rd == 'Rare circulatory system disease')] <- \"RCIRSYSD\"\n",
    "results_dif_male_female$clas[which(results_dif_male_female$clasification_rd == \"Rare developmental defect during embryogenesis\")] <- \"RDDDE\"\n",
    "results_dif_male_female$clas[which(results_dif_male_female$clasification_rd == \"Rare endocrine disease\")] <- \"RENDD\" \n",
    "results_dif_male_female$clas[which(results_dif_male_female$clasification_rd == \"Rare gastroenterologic disease\")] <- \"RGASTD\" \n",
    "results_dif_male_female$clas[which(results_dif_male_female$clasification_rd == \"Rare genetic disease\")] <- \"RGEND\"\n",
    "results_dif_male_female$clas[which(results_dif_male_female$clasification_rd == \"Rare hematologic disease\")] <- \"RHD\"\n",
    "results_dif_male_female$clas[which(results_dif_male_female$clasification_rd == \"Rare hepatic disease\")] <- \"RHEPATD\" \n",
    "results_dif_male_female$clas[which(results_dif_male_female$clasification_rd == \"Rare immune disease\")] <- \"RID\"\n",
    "results_dif_male_female$clas[which(results_dif_male_female$clasification_rd == \"Rare inborn errors of metabolism\")] <- \"RIEM\"\n",
    "results_dif_male_female$clas[which(results_dif_male_female$clasification_rd == \"Rare infertility\")] <- \"RINF\"\n",
    "results_dif_male_female$clas[which(results_dif_male_female$clasification_rd == \"Rare neoplastic disease\")] <- \"RND\"\n",
    "results_dif_male_female$clas[which(results_dif_male_female$clasification_rd == \"Rare neurologic disease\")] <- \"RNEUD\"\n",
    "results_dif_male_female$clas[which(results_dif_male_female$clasification_rd == \"Rare odontologic disease\")] <- \"RODOND\"\n",
    "results_dif_male_female$clas[which(results_dif_male_female$clasification_rd == \"Rare ophthalmic disorder\")] <- \"ROPHD\" \n",
    "results_dif_male_female$clas[which(results_dif_male_female$clasification_rd == \"Rare otorhinolaryngologic disease\")] <- \"ROTORD\"\n",
    "results_dif_male_female$clas[which(results_dif_male_female$clasification_rd == \"Rare renal disease\")] <- \"RRD\"\n",
    "results_dif_male_female$clas[which(results_dif_male_female$clasification_rd == 'Rare respiratory disease')] <- \"RRESD\"\n",
    "results_dif_male_female$clas[which(results_dif_male_female$clasification_rd == \"Rare skin disease\")] <- \"RSD\"\n",
    "results_dif_male_female$clas[which(results_dif_male_female$clasification_rd == \"Rare systemic or rheumatologic disease\")] <- \"RSORD\"\n",
    "results_dif_male_female$clas[which(results_dif_male_female$clasification_rd == \"non_rare_in_europe\")] <- \"NRIE\" \n",
    "results_dif_male_female$clas[which(results_dif_male_female$clasification_rd == \"others\")] <- \"OTHR\" \n",
    "\n",
    "clas_colors <- c(\n",
    "'RADSD' = \"#9932CC\", \n",
    "'RBD' = \"#1f78b4\",\n",
    "'RCARD' = \"#20B2AA\",\n",
    "'RCIRSYSD' = \"#800080\",  # Purple\n",
    "'RDDDE' = \"#b2df8a\",\n",
    "'RENDD' = \"#8c564b\",\n",
    "'RGASTD' = \"#cab2d6\",\n",
    "'RGEND'= \"#2E8B57\",\n",
    "'RHD' = \"#ffed6f\",\n",
    "'RHEPATD' = \"#7FFFD4\",\n",
    "'RID' = \"#a6cee3\",\n",
    "'RIEM' = \"#ffff99\",      # Green\n",
    "\"RINF\" = \"#000000\",\n",
    "'RND' = \"#33a02c\", \n",
    "'RNEUD' = \"#ff7f00\",\n",
    "'RODOND' = \"#FF6347\",\n",
    "'ROPHD' = \"#e31a1c\",\n",
    "'ROTORD' = \"#9370DB\",\n",
    "'RRD' = \"#66c2a5\",\n",
    "'RRESD' = \"#ff0000\",   # Red\n",
    "'RSD' = \"#b15928\", \n",
    "'RSORD' = \"#8dd3c7\",\n",
    "'NRIE' = \"#45aeff\",\n",
    "'OTHR' = \"#0000ff\")"
   ]
  },
  {
   "cell_type": "code",
   "execution_count": 31,
   "id": "a81eb2a4-93f3-4108-805d-75ff2dd3c6ec",
   "metadata": {
    "scrolled": true
   },
   "outputs": [
    {
     "data": {
      "text/html": [
       "<strong>png:</strong> 2"
      ],
      "text/latex": [
       "\\textbf{png:} 2"
      ],
      "text/markdown": [
       "**png:** 2"
      ],
      "text/plain": [
       "png \n",
       "  2 "
      ]
     },
     "metadata": {},
     "output_type": "display_data"
    }
   ],
   "source": [
    "jpeg(\"/mnt/lustre/scratch/CBRA/research/projects/rrdd_mm/results/07_graph_results/07_6_ko_sign_both_sex_no_all_tissue_but_no_same/barr_recount_ko_sign_both_sex_no_all_tissue_but_no_same.jpeg\", quality = 100, width = 500, height = 600)\n",
    "\n",
    "ggplot(results_dif_male_female[results_dif_male_female$dif_male_female != 0,], aes(fill=clas, y=tissue, x=dif_male_female)) + \n",
    "    geom_bar(position=\"dodge2\", stat=\"identity\") +\n",
    "    ggtitle(\"\")  + \n",
    "    #facet_wrap(~clasificacion, ncol=1) +   \n",
    "    scale_fill_manual(values = clas_colors) +\n",
    "    theme_minimal() + theme(legend.position=\"bottom\") + guides(fill = guide_legend(ncol = 6, byrow=TRUE)) +\n",
    "    ylab(\"Tissues\") + xlab(\"Differences\") + labs(fill = \"Class.\") + theme(axis.title = element_text(size = 20),\n",
    "                                                                                 axis.text = element_text(size = 20, color = \"black\"),\n",
    "                                                                                plot.title=element_text(size=20), #change font size of plot title\n",
    "        legend.text=element_text(size=18), #change font size of legend text\n",
    "        legend.title=element_text(size=18))\n",
    "                                         \n",
    "dev.off()"
   ]
  },
  {
   "cell_type": "code",
   "execution_count": 32,
   "id": "95f51b65-7394-4baa-9407-43944fa3448c",
   "metadata": {},
   "outputs": [],
   "source": [
    "### logfc direction comprobation"
   ]
  },
  {
   "cell_type": "code",
   "execution_count": 33,
   "id": "8e1a3341-d6b5-453e-9c24-1213bf60e8b0",
   "metadata": {},
   "outputs": [],
   "source": [
    "comp_signo_logFC_both_sex_no_all_logfc_same_sign <- list.files(\"/mnt/lustre/scratch/CBRA/research/projects/rrdd_mm/results/06_comp_signo_logFC_both_sex/06_1_comp_signo_logFC_both_sex_no_all_logfc_same_sign/\")\n",
    "ko_comp_signo_logFC_both_sex_no_all_logfc_same_sign <- gsub(\".rds\",\"\",gsub(\"kstest_pvadj_logfc_kovsctrl_sign_both_sex_no_all_logfc_same_sign_\",\"\",comp_signo_logFC_both_sex_no_all_logfc_same_sign))"
   ]
  },
  {
   "cell_type": "code",
   "execution_count": 34,
   "id": "62284044-7581-4227-8f52-bd6841e344eb",
   "metadata": {},
   "outputs": [
    {
     "name": "stderr",
     "output_type": "stream",
     "text": [
      "\u001b[1m\u001b[22m`summarise()` has grouped output by 'ko'. You can override using the `.groups`\n",
      "argument.\n"
     ]
    },
    {
     "data": {
      "text/html": [
       "<table class=\"dataframe\">\n",
       "<caption>A grouped_df: 6 × 3</caption>\n",
       "<thead>\n",
       "\t<tr><th scope=col>ko</th><th scope=col>circ</th><th scope=col>n</th></tr>\n",
       "\t<tr><th scope=col>&lt;chr&gt;</th><th scope=col>&lt;chr&gt;</th><th scope=col>&lt;int&gt;</th></tr>\n",
       "</thead>\n",
       "<tbody>\n",
       "\t<tr><td>1027</td><td>P-hsa04066-89   </td><td>31</td></tr>\n",
       "\t<tr><td>1027</td><td>P-hsa04068-44   </td><td>40</td></tr>\n",
       "\t<tr><td>1027</td><td>P-hsa04110-96 97</td><td> 4</td></tr>\n",
       "\t<tr><td>1131</td><td>P-hsa04725-18   </td><td>39</td></tr>\n",
       "\t<tr><td>1131</td><td>P-hsa04725-54   </td><td>34</td></tr>\n",
       "\t<tr><td>1131</td><td>P-hsa04810-21 82</td><td>14</td></tr>\n",
       "</tbody>\n",
       "</table>\n"
      ],
      "text/latex": [
       "A grouped\\_df: 6 × 3\n",
       "\\begin{tabular}{lll}\n",
       " ko & circ & n\\\\\n",
       " <chr> & <chr> & <int>\\\\\n",
       "\\hline\n",
       "\t 1027 & P-hsa04066-89    & 31\\\\\n",
       "\t 1027 & P-hsa04068-44    & 40\\\\\n",
       "\t 1027 & P-hsa04110-96 97 &  4\\\\\n",
       "\t 1131 & P-hsa04725-18    & 39\\\\\n",
       "\t 1131 & P-hsa04725-54    & 34\\\\\n",
       "\t 1131 & P-hsa04810-21 82 & 14\\\\\n",
       "\\end{tabular}\n"
      ],
      "text/markdown": [
       "\n",
       "A grouped_df: 6 × 3\n",
       "\n",
       "| ko &lt;chr&gt; | circ &lt;chr&gt; | n &lt;int&gt; |\n",
       "|---|---|---|\n",
       "| 1027 | P-hsa04066-89    | 31 |\n",
       "| 1027 | P-hsa04068-44    | 40 |\n",
       "| 1027 | P-hsa04110-96 97 |  4 |\n",
       "| 1131 | P-hsa04725-18    | 39 |\n",
       "| 1131 | P-hsa04725-54    | 34 |\n",
       "| 1131 | P-hsa04810-21 82 | 14 |\n",
       "\n"
      ],
      "text/plain": [
       "  ko   circ             n \n",
       "1 1027 P-hsa04066-89    31\n",
       "2 1027 P-hsa04068-44    40\n",
       "3 1027 P-hsa04110-96 97  4\n",
       "4 1131 P-hsa04725-18    39\n",
       "5 1131 P-hsa04725-54    34\n",
       "6 1131 P-hsa04810-21 82 14"
      ]
     },
     "metadata": {},
     "output_type": "display_data"
    }
   ],
   "source": [
    "selc_ko_circ_diflogfc <- na.omit(results_kstest_sign_2_sex_no_same_tissue_sex[results_kstest_sign_2_sex_no_same_tissue_sex$ko %in% intersect(unique(results_kstest_sign_2_sex_no_same_tissue_sex$ko), ko_comp_signo_logFC_both_sex_no_all_logfc_same_sign),]) %>%\n",
    "group_by(ko, circ) %>% summarise(n=n()) %>% filter(n!=42)\n",
    "head(selc_ko_circ_diflogfc)"
   ]
  },
  {
   "cell_type": "code",
   "execution_count": 35,
   "id": "b6a60382-1888-4348-b4f9-56ee83068667",
   "metadata": {},
   "outputs": [
    {
     "name": "stderr",
     "output_type": "stream",
     "text": [
      "\u001b[1m\u001b[22m`summarise()` has grouped output by 'ko', 'circ', 'tissue'. You can override\n",
      "using the `.groups` argument.\n"
     ]
    }
   ],
   "source": [
    "results_kstest_sign_2_sex_no_same_tissue_sex_fna <- na.omit(results_kstest_sign_2_sex_no_same_tissue_sex)\n",
    "\n",
    "ko_circ_diflogfc_tissue <- results_kstest_sign_2_sex_no_same_tissue_sex_fna[-unlist(lapply(1:length(selc_ko_circ_diflogfc$circ), FUN=function(x) \n",
    "    intersect(which(results_kstest_sign_2_sex_no_same_tissue_sex_fna$circ == selc_ko_circ_diflogfc$circ[x]),\n",
    "which(results_kstest_sign_2_sex_no_same_tissue_sex_fna$ko == selc_ko_circ_diflogfc$ko[x])))),] %>%\n",
    "filter(ko %in% intersect(unique(results_kstest_sign_2_sex_no_same_tissue_sex_fna$ko), ko_comp_signo_logFC_both_sex_no_all_logfc_same_sign)) %>%\n",
    " mutate(logfc_sig = case_when(logFC < 0 ~ \"-\",\n",
    "                        logFC > 0  ~ \"+\")) %>% group_by(ko,circ,tissue,logfc_sig) %>% summarise(n=n()) %>% filter(n!=2)                               "
   ]
  },
  {
   "cell_type": "code",
   "execution_count": 36,
   "id": "829a4b66-0223-463a-bb7d-3884bbc26fb4",
   "metadata": {},
   "outputs": [],
   "source": [
    "ko_circ_diflogfc_tissue$circ_name <- get_path_names(pathways, ko_circ_diflogfc_tissue$circ) "
   ]
  },
  {
   "cell_type": "code",
   "execution_count": 37,
   "id": "d41e5f34-cccd-43da-9731-26e1342b6dbc",
   "metadata": {},
   "outputs": [
    {
     "data": {
      "text/html": [
       "<table class=\"dataframe\">\n",
       "<caption>A data.frame: 2 × 6</caption>\n",
       "<thead>\n",
       "\t<tr><th></th><th scope=col>kspvadj</th><th scope=col>logFC</th><th scope=col>ko</th><th scope=col>circ</th><th scope=col>sex</th><th scope=col>tissue</th></tr>\n",
       "\t<tr><th></th><th scope=col>&lt;dbl&gt;</th><th scope=col>&lt;dbl&gt;</th><th scope=col>&lt;chr&gt;</th><th scope=col>&lt;chr&gt;</th><th scope=col>&lt;chr&gt;</th><th scope=col>&lt;chr&gt;</th></tr>\n",
       "</thead>\n",
       "<tbody>\n",
       "\t<tr><th scope=row>28747</th><td>0</td><td>-3.614319</td><td>55811</td><td>P-hsa04024-77</td><td>female</td><td>Brain</td></tr>\n",
       "\t<tr><th scope=row>106414</th><td>0</td><td>      Inf</td><td>55811</td><td>P-hsa04024-77</td><td>male  </td><td>Brain</td></tr>\n",
       "</tbody>\n",
       "</table>\n"
      ],
      "text/latex": [
       "A data.frame: 2 × 6\n",
       "\\begin{tabular}{r|llllll}\n",
       "  & kspvadj & logFC & ko & circ & sex & tissue\\\\\n",
       "  & <dbl> & <dbl> & <chr> & <chr> & <chr> & <chr>\\\\\n",
       "\\hline\n",
       "\t28747 & 0 & -3.614319 & 55811 & P-hsa04024-77 & female & Brain\\\\\n",
       "\t106414 & 0 &       Inf & 55811 & P-hsa04024-77 & male   & Brain\\\\\n",
       "\\end{tabular}\n"
      ],
      "text/markdown": [
       "\n",
       "A data.frame: 2 × 6\n",
       "\n",
       "| <!--/--> | kspvadj &lt;dbl&gt; | logFC &lt;dbl&gt; | ko &lt;chr&gt; | circ &lt;chr&gt; | sex &lt;chr&gt; | tissue &lt;chr&gt; |\n",
       "|---|---|---|---|---|---|---|\n",
       "| 28747 | 0 | -3.614319 | 55811 | P-hsa04024-77 | female | Brain |\n",
       "| 106414 | 0 |       Inf | 55811 | P-hsa04024-77 | male   | Brain |\n",
       "\n"
      ],
      "text/plain": [
       "       kspvadj logFC     ko    circ          sex    tissue\n",
       "28747  0       -3.614319 55811 P-hsa04024-77 female Brain \n",
       "106414 0             Inf 55811 P-hsa04024-77 male   Brain "
      ]
     },
     "metadata": {},
     "output_type": "display_data"
    }
   ],
   "source": [
    "results_kstest_sign_2_sex_no_same_tissue_sex_fna %>% filter(ko==\"55811\" & tissue==\"Brain\" & circ==\"P-hsa04024-77\") "
   ]
  },
  {
   "cell_type": "code",
   "execution_count": 38,
   "id": "62e1b66b-e01f-4538-8559-4c4f2f91ac0d",
   "metadata": {},
   "outputs": [
    {
     "data": {
      "text/html": [
       "<table class=\"dataframe\">\n",
       "<caption>A data.frame: 2 × 10</caption>\n",
       "<thead>\n",
       "\t<tr><th scope=col>gene</th><th scope=col>ko</th><th scope=col>circ</th><th scope=col>tissue</th><th scope=col>logfc_sig</th><th scope=col>n</th><th scope=col>circ_name</th><th scope=col>enfermedad</th><th scope=col>clasificacion</th><th scope=col>sex</th></tr>\n",
       "\t<tr><th scope=col>&lt;fct&gt;</th><th scope=col>&lt;chr&gt;</th><th scope=col>&lt;chr&gt;</th><th scope=col>&lt;chr&gt;</th><th scope=col>&lt;chr&gt;</th><th scope=col>&lt;int&gt;</th><th scope=col>&lt;chr&gt;</th><th scope=col>&lt;chr&gt;</th><th scope=col>&lt;chr&gt;</th><th scope=col>&lt;chr&gt;</th></tr>\n",
       "</thead>\n",
       "<tbody>\n",
       "\t<tr><td>ADCY10</td><td>55811</td><td>P-hsa04024-77</td><td>Brain</td><td>+</td><td>1</td><td>cAMP signaling pathway: RHOA*</td><td>Idiopathic hypercalciuria</td><td>Rare renal disease</td><td>Male  </td></tr>\n",
       "\t<tr><td>ADCY10</td><td>55811</td><td>P-hsa04024-77</td><td>Brain</td><td>-</td><td>1</td><td>cAMP signaling pathway: RHOA*</td><td>Idiopathic hypercalciuria</td><td>Rare renal disease</td><td>Female</td></tr>\n",
       "</tbody>\n",
       "</table>\n"
      ],
      "text/latex": [
       "A data.frame: 2 × 10\n",
       "\\begin{tabular}{llllllllll}\n",
       " gene & ko & circ & tissue & logfc\\_sig & n & circ\\_name & enfermedad & clasificacion & sex\\\\\n",
       " <fct> & <chr> & <chr> & <chr> & <chr> & <int> & <chr> & <chr> & <chr> & <chr>\\\\\n",
       "\\hline\n",
       "\t ADCY10 & 55811 & P-hsa04024-77 & Brain & + & 1 & cAMP signaling pathway: RHOA* & Idiopathic hypercalciuria & Rare renal disease & Male  \\\\\n",
       "\t ADCY10 & 55811 & P-hsa04024-77 & Brain & - & 1 & cAMP signaling pathway: RHOA* & Idiopathic hypercalciuria & Rare renal disease & Female\\\\\n",
       "\\end{tabular}\n"
      ],
      "text/markdown": [
       "\n",
       "A data.frame: 2 × 10\n",
       "\n",
       "| gene &lt;fct&gt; | ko &lt;chr&gt; | circ &lt;chr&gt; | tissue &lt;chr&gt; | logfc_sig &lt;chr&gt; | n &lt;int&gt; | circ_name &lt;chr&gt; | enfermedad &lt;chr&gt; | clasificacion &lt;chr&gt; | sex &lt;chr&gt; |\n",
       "|---|---|---|---|---|---|---|---|---|---|\n",
       "| ADCY10 | 55811 | P-hsa04024-77 | Brain | + | 1 | cAMP signaling pathway: RHOA* | Idiopathic hypercalciuria | Rare renal disease | Male   |\n",
       "| ADCY10 | 55811 | P-hsa04024-77 | Brain | - | 1 | cAMP signaling pathway: RHOA* | Idiopathic hypercalciuria | Rare renal disease | Female |\n",
       "\n"
      ],
      "text/plain": [
       "  gene   ko    circ          tissue logfc_sig n circ_name                    \n",
       "1 ADCY10 55811 P-hsa04024-77 Brain  +         1 cAMP signaling pathway: RHOA*\n",
       "2 ADCY10 55811 P-hsa04024-77 Brain  -         1 cAMP signaling pathway: RHOA*\n",
       "  enfermedad                clasificacion      sex   \n",
       "1 Idiopathic hypercalciuria Rare renal disease Male  \n",
       "2 Idiopathic hypercalciuria Rare renal disease Female"
      ]
     },
     "metadata": {},
     "output_type": "display_data"
    }
   ],
   "source": [
    "graph_ko_circ_diflogfc_tissue <- merge(merge(ko_circ_diflogfc_tissue, unique(gen_enf[,c(\"gene\",\"ENTREZID\")]), by.x=\"ko\",by.y=\"ENTREZID\"),\n",
    "rd_gen_class, by.x=\"gene\",by.y=\"V1\")\n",
    "graph_ko_circ_diflogfc_tissue$sex <- c(\"Male\",\"Female\")\n",
    "graph_ko_circ_diflogfc_tissue"
   ]
  },
  {
   "cell_type": "code",
   "execution_count": 42,
   "id": "6bfa1fd2-392a-43df-bf6c-664893369d9d",
   "metadata": {},
   "outputs": [
    {
     "data": {
      "text/html": [
       "<strong>png:</strong> 2"
      ],
      "text/latex": [
       "\\textbf{png:} 2"
      ],
      "text/markdown": [
       "**png:** 2"
      ],
      "text/plain": [
       "png \n",
       "  2 "
      ]
     },
     "metadata": {},
     "output_type": "display_data"
    }
   ],
   "source": [
    "jpeg(\"/mnt/lustre/scratch/CBRA/research/projects/rrdd_mm/results/07_graph_results/07_6_ko_sign_both_sex_no_all_tissue_but_no_same/heatmap_ko_sign_both_sex_no_all_tissue_but_no_same_diflogFC.jpeg\", quality = 100, width = 200, height = 300)\n",
    "graph_ko_circ_diflogfc_tissue %>% ggplot(aes(x= tissue, y = circ_name, fill = logfc_sig)) + \n",
    "  scale_fill_manual(values = c(\"#844288\",\"#E69F00\")) +\n",
    "  geom_tile(color=\"white\")  + facet_grid(sex ~ ., scales = \"free_y\", space = \"free_y\") +\n",
    "  labs(title = \"     ADCY10\", x = \"Brain\", y = paste(\"Circuits with dif. direct. logFC\",\"cAMP signaling pathway: RHOA*\", sep=\"\\n\"), fill=\"Direction\" ,color = \"Legend Title\\n\") + \n",
    "    theme_minimal() + \n",
    "    theme(strip.text.y = element_text(size=8, angle=360), \n",
    "        strip.background = element_rect(colour=\"grey\", fill=c(\"#66B9B9\")),\n",
    "        legend.position=\"right\", legend.direction=\"vertical\",\n",
    "        legend.text=element_text(size=12),\n",
    "        axis.text.x=element_text(size=12,vjust=0.5, angle = 90),\n",
    "        axis.text.y=element_text(size=12,vjust=0.5),\n",
    "        plot.title=element_text(hjust=0, size=14))  + \n",
    "  guides(x = \"none\", y = \"none\")\n",
    "dev.off()"
   ]
  },
  {
   "cell_type": "code",
   "execution_count": 26,
   "id": "4d193581-a968-49a8-a1a4-535deed4926e",
   "metadata": {},
   "outputs": [],
   "source": [
    "### sexual chromosome"
   ]
  },
  {
   "cell_type": "code",
   "execution_count": 27,
   "id": "79ac3c3d-9bf3-4f91-b75c-17388ed4a71e",
   "metadata": {},
   "outputs": [
    {
     "name": "stderr",
     "output_type": "stream",
     "text": [
      "Warning message in rbind(...):\n",
      "“number of columns of result is not a multiple of vector length (arg 477)”\n"
     ]
    },
    {
     "data": {
      "text/html": [
       "<table class=\"dataframe\">\n",
       "<caption>A data.frame: 0 × 3</caption>\n",
       "<thead>\n",
       "\t<tr><th scope=col>V1</th><th scope=col>V2</th><th scope=col>V3</th></tr>\n",
       "\t<tr><th scope=col>&lt;chr&gt;</th><th scope=col>&lt;chr&gt;</th><th scope=col>&lt;chr&gt;</th></tr>\n",
       "</thead>\n",
       "<tbody>\n",
       "</tbody>\n",
       "</table>\n"
      ],
      "text/latex": [
       "A data.frame: 0 × 3\n",
       "\\begin{tabular}{lll}\n",
       " V1 & V2 & V3\\\\\n",
       " <chr> & <chr> & <chr>\\\\\n",
       "\\hline\n",
       "\\end{tabular}\n"
      ],
      "text/markdown": [
       "\n",
       "A data.frame: 0 × 3\n",
       "\n",
       "| V1 &lt;chr&gt; | V2 &lt;chr&gt; | V3 &lt;chr&gt; |\n",
       "|---|---|---|\n",
       "\n"
      ],
      "text/plain": [
       "     V1 V2 V3"
      ]
     },
     "metadata": {},
     "output_type": "display_data"
    },
    {
     "data": {
      "text/html": [
       "<table class=\"dataframe\">\n",
       "<caption>A data.frame: 32 × 3</caption>\n",
       "<thead>\n",
       "\t<tr><th></th><th scope=col>V1</th><th scope=col>enfermedad</th><th scope=col>clasificacion</th></tr>\n",
       "\t<tr><th></th><th scope=col>&lt;chr&gt;</th><th scope=col>&lt;chr&gt;</th><th scope=col>&lt;chr&gt;</th></tr>\n",
       "</thead>\n",
       "<tbody>\n",
       "\t<tr><th scope=row>156</th><td>FGD1   </td><td>Aarskog-Scott syndrome                                                                     </td><td>Rare developmental defect during embryogenesis</td></tr>\n",
       "\t<tr><th scope=row>424</th><td>STAG2  </td><td>Alobar holoprosencephaly                                                                   </td><td>Rare developmental defect during embryogenesis</td></tr>\n",
       "\t<tr><th scope=row>1662</th><td>CYBB   </td><td>Chronic granulomatous disease                                                              </td><td>Rare immune disease                           </td></tr>\n",
       "\t<tr><th scope=row>1874</th><td>MSN    </td><td>Combined immunodeficiency due to Moesin deficiency                                         </td><td>Rare immune disease                           </td></tr>\n",
       "\t<tr><th scope=row>2143</th><td>FLNA   </td><td>Congenital short bowel syndrome                                                            </td><td>Rare developmental defect during embryogenesis</td></tr>\n",
       "\t<tr><th scope=row>2229</th><td>EFNB1  </td><td>Craniofrontonasal dysplasia                                                                </td><td>Rare developmental defect during embryogenesis</td></tr>\n",
       "\t<tr><th scope=row>3057</th><td>FLNA   </td><td>FLNA-related X-linked myxomatous valvular dysplasia                                        </td><td>Rare developmental defect during embryogenesis</td></tr>\n",
       "\t<tr><th scope=row>3691</th><td>L1CAM  </td><td>Hydrocephalus with stenosis of the aqueduct of Sylvius                                     </td><td>Rare developmental defect during embryogenesis</td></tr>\n",
       "\t<tr><th scope=row>4654</th><td>L1CAM  </td><td>MASA syndrome                                                                              </td><td>Rare developmental defect during embryogenesis</td></tr>\n",
       "\t<tr><th scope=row>4708</th><td>FLNA   </td><td>Melnick-Needles syndrome                                                                   </td><td>Rare bone disease                             </td></tr>\n",
       "\t<tr><th scope=row>5224</th><td>AVPR2  </td><td>Nephrogenic diabetes insipidus                                                             </td><td>Rare renal disease                            </td></tr>\n",
       "\t<tr><th scope=row>5226</th><td>AVPR2  </td><td>Nephrogenic syndrome of inappropriate antidiuresis                                         </td><td>Rare renal disease                            </td></tr>\n",
       "\t<tr><th scope=row>5270</th><td>FLNA   </td><td>Neuronal intestinal pseudoobstruction                                                      </td><td>Rare gastroenterologic disease                </td></tr>\n",
       "\t<tr><th scope=row>5576</th><td>FLNA   </td><td>Otopalatodigital syndrome type 1                                                           </td><td>Rare bone disease                             </td></tr>\n",
       "\t<tr><th scope=row>5578</th><td>FLNA   </td><td>Otopalatodigital syndrome type 2                                                           </td><td>Rare bone disease                             </td></tr>\n",
       "\t<tr><th scope=row>6459</th><td>STAG2  </td><td>Semilobar holoprosencephaly                                                                </td><td>Rare developmental defect during embryogenesis</td></tr>\n",
       "\t<tr><th scope=row>6586</th><td>BTK    </td><td>Short stature due to isolated growth hormone deficiency with X-linked hypogammaglobulinemia</td><td>Rare endocrine disease                        </td></tr>\n",
       "\t<tr><th scope=row>7066</th><td>FLNA   </td><td>Terminal osseous dysplasia-pigmentary defects syndrome                                     </td><td>Rare bone disease                             </td></tr>\n",
       "\t<tr><th scope=row>7360</th><td>WAS    </td><td>Wiskott-Aldrich syndrome                                                                   </td><td>Rare immune disease                           </td></tr>\n",
       "\t<tr><th scope=row>7382</th><td>BTK    </td><td>X-linked agammaglobulinemia                                                                </td><td>Rare immune disease                           </td></tr>\n",
       "\t<tr><th scope=row>7404</th><td>L1CAM  </td><td>X-linked complicated corpus callosum dysgenesis                                            </td><td>Rare developmental defect during embryogenesis</td></tr>\n",
       "\t<tr><th scope=row>7406</th><td>L1CAM  </td><td>X-linked complicated spastic paraplegia type 1                                             </td><td>Rare developmental defect during embryogenesis</td></tr>\n",
       "\t<tr><th scope=row>7424</th><td>FLNA   </td><td>X-linked Ehlers-Danlos syndrome                                                            </td><td>Rare systemic or rheumatologic disease        </td></tr>\n",
       "\t<tr><th scope=row>7438</th><td>CD40LG </td><td>X-linked hyper-IgM syndrome                                                                </td><td>Rare immune disease                           </td></tr>\n",
       "\t<tr><th scope=row>7446</th><td>GRIA3  </td><td>X-linked intellectual disability due to GRIA3 mutations                                    </td><td>Rare developmental defect during embryogenesis</td></tr>\n",
       "\t<tr><th scope=row>7490</th><td>SHROOM4</td><td>X-linked intellectual disability, Stocco Dos Santos type                                   </td><td>Rare developmental defect during embryogenesis</td></tr>\n",
       "\t<tr><th scope=row>7498</th><td>FLNA   </td><td>X-linked keloid scarring-reduced joint mobility-increased optic cup-to-disc ratio syndrome </td><td>Rare developmental defect during embryogenesis</td></tr>\n",
       "\t<tr><th scope=row>7504</th><td>XIAP   </td><td>X-linked lymphoproliferative disease due to XIAP deficiency                                </td><td>Rare immune disease                           </td></tr>\n",
       "\t<tr><th scope=row>7506</th><td>CYBB   </td><td>X-linked mendelian susceptibility to mycobacterial diseases due to CYBB deficiency         </td><td>Rare immune disease                           </td></tr>\n",
       "\t<tr><th scope=row>7540</th><td>WAS    </td><td>X-linked severe congenital neutropenia                                                     </td><td>Rare immune disease                           </td></tr>\n",
       "\t<tr><th scope=row>7554</th><td>WAS    </td><td>X-linked thrombocytopenia with normal platelets                                            </td><td>Rare hematologic disease                      </td></tr>\n",
       "\t<tr><th scope=row>7568</th><td>STAG2  </td><td>Xq25 microduplication syndrome                                                             </td><td>Rare developmental defect during embryogenesis</td></tr>\n",
       "</tbody>\n",
       "</table>\n"
      ],
      "text/latex": [
       "A data.frame: 32 × 3\n",
       "\\begin{tabular}{r|lll}\n",
       "  & V1 & enfermedad & clasificacion\\\\\n",
       "  & <chr> & <chr> & <chr>\\\\\n",
       "\\hline\n",
       "\t156 & FGD1    & Aarskog-Scott syndrome                                                                      & Rare developmental defect during embryogenesis\\\\\n",
       "\t424 & STAG2   & Alobar holoprosencephaly                                                                    & Rare developmental defect during embryogenesis\\\\\n",
       "\t1662 & CYBB    & Chronic granulomatous disease                                                               & Rare immune disease                           \\\\\n",
       "\t1874 & MSN     & Combined immunodeficiency due to Moesin deficiency                                          & Rare immune disease                           \\\\\n",
       "\t2143 & FLNA    & Congenital short bowel syndrome                                                             & Rare developmental defect during embryogenesis\\\\\n",
       "\t2229 & EFNB1   & Craniofrontonasal dysplasia                                                                 & Rare developmental defect during embryogenesis\\\\\n",
       "\t3057 & FLNA    & FLNA-related X-linked myxomatous valvular dysplasia                                         & Rare developmental defect during embryogenesis\\\\\n",
       "\t3691 & L1CAM   & Hydrocephalus with stenosis of the aqueduct of Sylvius                                      & Rare developmental defect during embryogenesis\\\\\n",
       "\t4654 & L1CAM   & MASA syndrome                                                                               & Rare developmental defect during embryogenesis\\\\\n",
       "\t4708 & FLNA    & Melnick-Needles syndrome                                                                    & Rare bone disease                             \\\\\n",
       "\t5224 & AVPR2   & Nephrogenic diabetes insipidus                                                              & Rare renal disease                            \\\\\n",
       "\t5226 & AVPR2   & Nephrogenic syndrome of inappropriate antidiuresis                                          & Rare renal disease                            \\\\\n",
       "\t5270 & FLNA    & Neuronal intestinal pseudoobstruction                                                       & Rare gastroenterologic disease                \\\\\n",
       "\t5576 & FLNA    & Otopalatodigital syndrome type 1                                                            & Rare bone disease                             \\\\\n",
       "\t5578 & FLNA    & Otopalatodigital syndrome type 2                                                            & Rare bone disease                             \\\\\n",
       "\t6459 & STAG2   & Semilobar holoprosencephaly                                                                 & Rare developmental defect during embryogenesis\\\\\n",
       "\t6586 & BTK     & Short stature due to isolated growth hormone deficiency with X-linked hypogammaglobulinemia & Rare endocrine disease                        \\\\\n",
       "\t7066 & FLNA    & Terminal osseous dysplasia-pigmentary defects syndrome                                      & Rare bone disease                             \\\\\n",
       "\t7360 & WAS     & Wiskott-Aldrich syndrome                                                                    & Rare immune disease                           \\\\\n",
       "\t7382 & BTK     & X-linked agammaglobulinemia                                                                 & Rare immune disease                           \\\\\n",
       "\t7404 & L1CAM   & X-linked complicated corpus callosum dysgenesis                                             & Rare developmental defect during embryogenesis\\\\\n",
       "\t7406 & L1CAM   & X-linked complicated spastic paraplegia type 1                                              & Rare developmental defect during embryogenesis\\\\\n",
       "\t7424 & FLNA    & X-linked Ehlers-Danlos syndrome                                                             & Rare systemic or rheumatologic disease        \\\\\n",
       "\t7438 & CD40LG  & X-linked hyper-IgM syndrome                                                                 & Rare immune disease                           \\\\\n",
       "\t7446 & GRIA3   & X-linked intellectual disability due to GRIA3 mutations                                     & Rare developmental defect during embryogenesis\\\\\n",
       "\t7490 & SHROOM4 & X-linked intellectual disability, Stocco Dos Santos type                                    & Rare developmental defect during embryogenesis\\\\\n",
       "\t7498 & FLNA    & X-linked keloid scarring-reduced joint mobility-increased optic cup-to-disc ratio syndrome  & Rare developmental defect during embryogenesis\\\\\n",
       "\t7504 & XIAP    & X-linked lymphoproliferative disease due to XIAP deficiency                                 & Rare immune disease                           \\\\\n",
       "\t7506 & CYBB    & X-linked mendelian susceptibility to mycobacterial diseases due to CYBB deficiency          & Rare immune disease                           \\\\\n",
       "\t7540 & WAS     & X-linked severe congenital neutropenia                                                      & Rare immune disease                           \\\\\n",
       "\t7554 & WAS     & X-linked thrombocytopenia with normal platelets                                             & Rare hematologic disease                      \\\\\n",
       "\t7568 & STAG2   & Xq25 microduplication syndrome                                                              & Rare developmental defect during embryogenesis\\\\\n",
       "\\end{tabular}\n"
      ],
      "text/markdown": [
       "\n",
       "A data.frame: 32 × 3\n",
       "\n",
       "| <!--/--> | V1 &lt;chr&gt; | enfermedad &lt;chr&gt; | clasificacion &lt;chr&gt; |\n",
       "|---|---|---|---|\n",
       "| 156 | FGD1    | Aarskog-Scott syndrome                                                                      | Rare developmental defect during embryogenesis |\n",
       "| 424 | STAG2   | Alobar holoprosencephaly                                                                    | Rare developmental defect during embryogenesis |\n",
       "| 1662 | CYBB    | Chronic granulomatous disease                                                               | Rare immune disease                            |\n",
       "| 1874 | MSN     | Combined immunodeficiency due to Moesin deficiency                                          | Rare immune disease                            |\n",
       "| 2143 | FLNA    | Congenital short bowel syndrome                                                             | Rare developmental defect during embryogenesis |\n",
       "| 2229 | EFNB1   | Craniofrontonasal dysplasia                                                                 | Rare developmental defect during embryogenesis |\n",
       "| 3057 | FLNA    | FLNA-related X-linked myxomatous valvular dysplasia                                         | Rare developmental defect during embryogenesis |\n",
       "| 3691 | L1CAM   | Hydrocephalus with stenosis of the aqueduct of Sylvius                                      | Rare developmental defect during embryogenesis |\n",
       "| 4654 | L1CAM   | MASA syndrome                                                                               | Rare developmental defect during embryogenesis |\n",
       "| 4708 | FLNA    | Melnick-Needles syndrome                                                                    | Rare bone disease                              |\n",
       "| 5224 | AVPR2   | Nephrogenic diabetes insipidus                                                              | Rare renal disease                             |\n",
       "| 5226 | AVPR2   | Nephrogenic syndrome of inappropriate antidiuresis                                          | Rare renal disease                             |\n",
       "| 5270 | FLNA    | Neuronal intestinal pseudoobstruction                                                       | Rare gastroenterologic disease                 |\n",
       "| 5576 | FLNA    | Otopalatodigital syndrome type 1                                                            | Rare bone disease                              |\n",
       "| 5578 | FLNA    | Otopalatodigital syndrome type 2                                                            | Rare bone disease                              |\n",
       "| 6459 | STAG2   | Semilobar holoprosencephaly                                                                 | Rare developmental defect during embryogenesis |\n",
       "| 6586 | BTK     | Short stature due to isolated growth hormone deficiency with X-linked hypogammaglobulinemia | Rare endocrine disease                         |\n",
       "| 7066 | FLNA    | Terminal osseous dysplasia-pigmentary defects syndrome                                      | Rare bone disease                              |\n",
       "| 7360 | WAS     | Wiskott-Aldrich syndrome                                                                    | Rare immune disease                            |\n",
       "| 7382 | BTK     | X-linked agammaglobulinemia                                                                 | Rare immune disease                            |\n",
       "| 7404 | L1CAM   | X-linked complicated corpus callosum dysgenesis                                             | Rare developmental defect during embryogenesis |\n",
       "| 7406 | L1CAM   | X-linked complicated spastic paraplegia type 1                                              | Rare developmental defect during embryogenesis |\n",
       "| 7424 | FLNA    | X-linked Ehlers-Danlos syndrome                                                             | Rare systemic or rheumatologic disease         |\n",
       "| 7438 | CD40LG  | X-linked hyper-IgM syndrome                                                                 | Rare immune disease                            |\n",
       "| 7446 | GRIA3   | X-linked intellectual disability due to GRIA3 mutations                                     | Rare developmental defect during embryogenesis |\n",
       "| 7490 | SHROOM4 | X-linked intellectual disability, Stocco Dos Santos type                                    | Rare developmental defect during embryogenesis |\n",
       "| 7498 | FLNA    | X-linked keloid scarring-reduced joint mobility-increased optic cup-to-disc ratio syndrome  | Rare developmental defect during embryogenesis |\n",
       "| 7504 | XIAP    | X-linked lymphoproliferative disease due to XIAP deficiency                                 | Rare immune disease                            |\n",
       "| 7506 | CYBB    | X-linked mendelian susceptibility to mycobacterial diseases due to CYBB deficiency          | Rare immune disease                            |\n",
       "| 7540 | WAS     | X-linked severe congenital neutropenia                                                      | Rare immune disease                            |\n",
       "| 7554 | WAS     | X-linked thrombocytopenia with normal platelets                                             | Rare hematologic disease                       |\n",
       "| 7568 | STAG2   | Xq25 microduplication syndrome                                                              | Rare developmental defect during embryogenesis |\n",
       "\n"
      ],
      "text/plain": [
       "     V1     \n",
       "156  FGD1   \n",
       "424  STAG2  \n",
       "1662 CYBB   \n",
       "1874 MSN    \n",
       "2143 FLNA   \n",
       "2229 EFNB1  \n",
       "3057 FLNA   \n",
       "3691 L1CAM  \n",
       "4654 L1CAM  \n",
       "4708 FLNA   \n",
       "5224 AVPR2  \n",
       "5226 AVPR2  \n",
       "5270 FLNA   \n",
       "5576 FLNA   \n",
       "5578 FLNA   \n",
       "6459 STAG2  \n",
       "6586 BTK    \n",
       "7066 FLNA   \n",
       "7360 WAS    \n",
       "7382 BTK    \n",
       "7404 L1CAM  \n",
       "7406 L1CAM  \n",
       "7424 FLNA   \n",
       "7438 CD40LG \n",
       "7446 GRIA3  \n",
       "7490 SHROOM4\n",
       "7498 FLNA   \n",
       "7504 XIAP   \n",
       "7506 CYBB   \n",
       "7540 WAS    \n",
       "7554 WAS    \n",
       "7568 STAG2  \n",
       "     enfermedad                                                                                 \n",
       "156  Aarskog-Scott syndrome                                                                     \n",
       "424  Alobar holoprosencephaly                                                                   \n",
       "1662 Chronic granulomatous disease                                                              \n",
       "1874 Combined immunodeficiency due to Moesin deficiency                                         \n",
       "2143 Congenital short bowel syndrome                                                            \n",
       "2229 Craniofrontonasal dysplasia                                                                \n",
       "3057 FLNA-related X-linked myxomatous valvular dysplasia                                        \n",
       "3691 Hydrocephalus with stenosis of the aqueduct of Sylvius                                     \n",
       "4654 MASA syndrome                                                                              \n",
       "4708 Melnick-Needles syndrome                                                                   \n",
       "5224 Nephrogenic diabetes insipidus                                                             \n",
       "5226 Nephrogenic syndrome of inappropriate antidiuresis                                         \n",
       "5270 Neuronal intestinal pseudoobstruction                                                      \n",
       "5576 Otopalatodigital syndrome type 1                                                           \n",
       "5578 Otopalatodigital syndrome type 2                                                           \n",
       "6459 Semilobar holoprosencephaly                                                                \n",
       "6586 Short stature due to isolated growth hormone deficiency with X-linked hypogammaglobulinemia\n",
       "7066 Terminal osseous dysplasia-pigmentary defects syndrome                                     \n",
       "7360 Wiskott-Aldrich syndrome                                                                   \n",
       "7382 X-linked agammaglobulinemia                                                                \n",
       "7404 X-linked complicated corpus callosum dysgenesis                                            \n",
       "7406 X-linked complicated spastic paraplegia type 1                                             \n",
       "7424 X-linked Ehlers-Danlos syndrome                                                            \n",
       "7438 X-linked hyper-IgM syndrome                                                                \n",
       "7446 X-linked intellectual disability due to GRIA3 mutations                                    \n",
       "7490 X-linked intellectual disability, Stocco Dos Santos type                                   \n",
       "7498 X-linked keloid scarring-reduced joint mobility-increased optic cup-to-disc ratio syndrome \n",
       "7504 X-linked lymphoproliferative disease due to XIAP deficiency                                \n",
       "7506 X-linked mendelian susceptibility to mycobacterial diseases due to CYBB deficiency         \n",
       "7540 X-linked severe congenital neutropenia                                                     \n",
       "7554 X-linked thrombocytopenia with normal platelets                                            \n",
       "7568 Xq25 microduplication syndrome                                                             \n",
       "     clasificacion                                 \n",
       "156  Rare developmental defect during embryogenesis\n",
       "424  Rare developmental defect during embryogenesis\n",
       "1662 Rare immune disease                           \n",
       "1874 Rare immune disease                           \n",
       "2143 Rare developmental defect during embryogenesis\n",
       "2229 Rare developmental defect during embryogenesis\n",
       "3057 Rare developmental defect during embryogenesis\n",
       "3691 Rare developmental defect during embryogenesis\n",
       "4654 Rare developmental defect during embryogenesis\n",
       "4708 Rare bone disease                             \n",
       "5224 Rare renal disease                            \n",
       "5226 Rare renal disease                            \n",
       "5270 Rare gastroenterologic disease                \n",
       "5576 Rare bone disease                             \n",
       "5578 Rare bone disease                             \n",
       "6459 Rare developmental defect during embryogenesis\n",
       "6586 Rare endocrine disease                        \n",
       "7066 Rare bone disease                             \n",
       "7360 Rare immune disease                           \n",
       "7382 Rare immune disease                           \n",
       "7404 Rare developmental defect during embryogenesis\n",
       "7406 Rare developmental defect during embryogenesis\n",
       "7424 Rare systemic or rheumatologic disease        \n",
       "7438 Rare immune disease                           \n",
       "7446 Rare developmental defect during embryogenesis\n",
       "7490 Rare developmental defect during embryogenesis\n",
       "7498 Rare developmental defect during embryogenesis\n",
       "7504 Rare immune disease                           \n",
       "7506 Rare immune disease                           \n",
       "7540 Rare immune disease                           \n",
       "7554 Rare hematologic disease                      \n",
       "7568 Rare developmental defect during embryogenesis"
      ]
     },
     "metadata": {},
     "output_type": "display_data"
    }
   ],
   "source": [
    "x <- org.Hs.egCHR\n",
    "mapped_genes <- mappedkeys(x)\n",
    "xx <- as.list(x[mapped_genes])\n",
    "df_gen_cromosoma <- as.data.frame(do.call(rbind, xx))\n",
    "\n",
    "p <- df_gen_cromosoma[unique(results_kstest_sign_2_sex_no_same_tissue_sex$ko),]\n",
    "p[p$V1 == \"Y\" | p$V2 == \"Y\" | p$V3 == \"Y\",]  \n",
    "\n",
    "rd_gen_class[rd_gen_class$V1 %in% gen_enf[gen_enf$ENTREZID %in% rownames(p[p$V1 == \"X\" | p$V2 == \"X\" | p$V3 == \"X\",]),\"gene\"],]"
   ]
  },
  {
   "cell_type": "code",
   "execution_count": 30,
   "id": "d72df17a-b9bf-4e1c-95a7-073def618923",
   "metadata": {},
   "outputs": [
    {
     "name": "stderr",
     "output_type": "stream",
     "text": [
      "\u001b[1m\u001b[22m`summarise()` has grouped output by 'gene_rd'. You can override using the\n",
      "`.groups` argument.\n"
     ]
    },
    {
     "data": {
      "text/html": [
       "<table class=\"dataframe\">\n",
       "<caption>A grouped_df: 54 × 3</caption>\n",
       "<thead>\n",
       "\t<tr><th scope=col>gene_rd</th><th scope=col>circ_belong_gene_rd</th><th scope=col>n</th></tr>\n",
       "\t<tr><th scope=col>&lt;fct&gt;</th><th scope=col>&lt;chr&gt;</th><th scope=col>&lt;int&gt;</th></tr>\n",
       "</thead>\n",
       "<tbody>\n",
       "\t<tr><td>AVPR2  </td><td>Vasopressin-regulated water reabsorption: AQP2          </td><td> 68</td></tr>\n",
       "\t<tr><td>AVPR2  </td><td>Vasopressin-regulated water reabsorption: ARHGDIA       </td><td>112</td></tr>\n",
       "\t<tr><td>BTK    </td><td>B cell receptor signaling pathway: NFATC1               </td><td>128</td></tr>\n",
       "\t<tr><td>BTK    </td><td>Fc epsilon RI signaling pathway: PRKCA                  </td><td>136</td></tr>\n",
       "\t<tr><td>BTK    </td><td>Platelet activation: ITPR1                              </td><td>120</td></tr>\n",
       "\t<tr><td>CD40LG </td><td>NF-kappa B signaling pathway: BCL2                      </td><td>  2</td></tr>\n",
       "\t<tr><td>CD40LG </td><td>NF-kappa B signaling pathway: BCL2L1                    </td><td>  2</td></tr>\n",
       "\t<tr><td>CD40LG </td><td>NF-kappa B signaling pathway: BIRC2                     </td><td>  1</td></tr>\n",
       "\t<tr><td>CD40LG </td><td>NF-kappa B signaling pathway: CCL4L1                    </td><td>  1</td></tr>\n",
       "\t<tr><td>CD40LG </td><td>NF-kappa B signaling pathway: CFLAR                     </td><td>  2</td></tr>\n",
       "\t<tr><td>CD40LG </td><td>NF-kappa B signaling pathway: GADD45B                   </td><td>  2</td></tr>\n",
       "\t<tr><td>CD40LG </td><td>NF-kappa B signaling pathway: NFKB2                     </td><td>  9</td></tr>\n",
       "\t<tr><td>CD40LG </td><td>NF-kappa B signaling pathway: NFKB2*                    </td><td>  1</td></tr>\n",
       "\t<tr><td>CD40LG </td><td>NF-kappa B signaling pathway: NFKBIA*                   </td><td>  2</td></tr>\n",
       "\t<tr><td>CD40LG </td><td>NF-kappa B signaling pathway: TRAF1                     </td><td>  2</td></tr>\n",
       "\t<tr><td>CD40LG </td><td>NF-kappa B signaling pathway: VCAM1                     </td><td>  1</td></tr>\n",
       "\t<tr><td>CD40LG </td><td>NF-kappa B signaling pathway: XIAP                      </td><td>  2</td></tr>\n",
       "\t<tr><td>CD40LG </td><td>T cell receptor signaling pathway: CD40LG               </td><td> 36</td></tr>\n",
       "\t<tr><td>CYBB   </td><td>HIF-1 signaling pathway: ALDOA                          </td><td>  4</td></tr>\n",
       "\t<tr><td>CYBB   </td><td>HIF-1 signaling pathway: PFKL                           </td><td>  4</td></tr>\n",
       "\t<tr><td>CYBB   </td><td>Leukocyte transendothelial migration: MAPK14            </td><td>140</td></tr>\n",
       "\t<tr><td>CYBB   </td><td>Leukocyte transendothelial migration: MMP2              </td><td>140</td></tr>\n",
       "\t<tr><td>EFNB1  </td><td>Axon guidance: GNAI1                                    </td><td> 38</td></tr>\n",
       "\t<tr><td>EFNB1  </td><td>Axon guidance: MAPK1*                                   </td><td> 17</td></tr>\n",
       "\t<tr><td>EFNB1  </td><td>Axon guidance: PTK2                                     </td><td> 26</td></tr>\n",
       "\t<tr><td>FGD1   </td><td>Regulation of actin cytoskeleton: ARPC5 ACTB            </td><td> 25</td></tr>\n",
       "\t<tr><td>FGD1   </td><td>Regulation of actin cytoskeleton: ARPC5 ACTB*           </td><td> 25</td></tr>\n",
       "\t<tr><td>FGD1   </td><td>Regulation of actin cytoskeleton: IQGAP2                </td><td> 24</td></tr>\n",
       "\t<tr><td>FLNA   </td><td>Focal adhesion: FLNA ITGB1 ITGA11                       </td><td>729</td></tr>\n",
       "\t<tr><td>GRIA3  </td><td>Dopaminergic synapse: KIF5A GRIA1                       </td><td>  2</td></tr>\n",
       "\t<tr><td>GRIA3  </td><td>Glutamatergic synapse: GRIA1                            </td><td>  6</td></tr>\n",
       "\t<tr><td>GRIA3  </td><td>Retrograde endocannabinoid signaling: GRIA1             </td><td>  6</td></tr>\n",
       "\t<tr><td>GRIA3  </td><td>cAMP signaling pathway: GRIA1                           </td><td>  5</td></tr>\n",
       "\t<tr><td>L1CAM  </td><td>Axon guidance: CFL1                                     </td><td>224</td></tr>\n",
       "\t<tr><td>MSN    </td><td>Leukocyte transendothelial migration: ACTB              </td><td>  6</td></tr>\n",
       "\t<tr><td>MSN    </td><td>Leukocyte transendothelial migration: ACTB CTNNA1 CTNNB1</td><td>  1</td></tr>\n",
       "\t<tr><td>MSN    </td><td>Leukocyte transendothelial migration: BCAR1             </td><td>  4</td></tr>\n",
       "\t<tr><td>MSN    </td><td>Leukocyte transendothelial migration: MAPK14            </td><td>  2</td></tr>\n",
       "\t<tr><td>MSN    </td><td>Leukocyte transendothelial migration: PTK2              </td><td>  4</td></tr>\n",
       "\t<tr><td>MSN    </td><td>Leukocyte transendothelial migration: PXN               </td><td>  4</td></tr>\n",
       "\t<tr><td>MSN    </td><td>Regulation of actin cytoskeleton: MSN                   </td><td> 12</td></tr>\n",
       "\t<tr><td>SHROOM4</td><td>Tight junction: ACTB SHROOM1                            </td><td> 10</td></tr>\n",
       "\t<tr><td>SHROOM4</td><td>Tight junction: TJP1 SHROOM1                            </td><td> 10</td></tr>\n",
       "\t<tr><td>STAG2  </td><td>Cell cycle: SMC1B SMC3 STAG1 RAD21                      </td><td>270</td></tr>\n",
       "\t<tr><td>WAS    </td><td>Chemokine signaling pathway: WAS                        </td><td> 54</td></tr>\n",
       "\t<tr><td>WAS    </td><td>Fc gamma R-mediated phagocytosis: ARPC5                 </td><td> 36</td></tr>\n",
       "\t<tr><td>WAS    </td><td>Fc gamma R-mediated phagocytosis: WAS                   </td><td> 63</td></tr>\n",
       "\t<tr><td>WAS    </td><td>Regulation of actin cytoskeleton: ARPC5 ACTB            </td><td> 63</td></tr>\n",
       "\t<tr><td>WAS    </td><td>Regulation of actin cytoskeleton: ARPC5 ACTB*           </td><td> 63</td></tr>\n",
       "\t<tr><td>XIAP   </td><td>Apoptosis: ACTB                                         </td><td>  3</td></tr>\n",
       "\t<tr><td>XIAP   </td><td>Apoptosis: BIRC2                                        </td><td>  1</td></tr>\n",
       "\t<tr><td>XIAP   </td><td>Apoptosis: PARP2                                        </td><td>  4</td></tr>\n",
       "\t<tr><td>XIAP   </td><td>Apoptosis: SPTA1                                        </td><td>  2</td></tr>\n",
       "\t<tr><td>XIAP   </td><td>Focal adhesion: BIRC2                                   </td><td>  3</td></tr>\n",
       "</tbody>\n",
       "</table>\n"
      ],
      "text/latex": [
       "A grouped\\_df: 54 × 3\n",
       "\\begin{tabular}{lll}\n",
       " gene\\_rd & circ\\_belong\\_gene\\_rd & n\\\\\n",
       " <fct> & <chr> & <int>\\\\\n",
       "\\hline\n",
       "\t AVPR2   & Vasopressin-regulated water reabsorption: AQP2           &  68\\\\\n",
       "\t AVPR2   & Vasopressin-regulated water reabsorption: ARHGDIA        & 112\\\\\n",
       "\t BTK     & B cell receptor signaling pathway: NFATC1                & 128\\\\\n",
       "\t BTK     & Fc epsilon RI signaling pathway: PRKCA                   & 136\\\\\n",
       "\t BTK     & Platelet activation: ITPR1                               & 120\\\\\n",
       "\t CD40LG  & NF-kappa B signaling pathway: BCL2                       &   2\\\\\n",
       "\t CD40LG  & NF-kappa B signaling pathway: BCL2L1                     &   2\\\\\n",
       "\t CD40LG  & NF-kappa B signaling pathway: BIRC2                      &   1\\\\\n",
       "\t CD40LG  & NF-kappa B signaling pathway: CCL4L1                     &   1\\\\\n",
       "\t CD40LG  & NF-kappa B signaling pathway: CFLAR                      &   2\\\\\n",
       "\t CD40LG  & NF-kappa B signaling pathway: GADD45B                    &   2\\\\\n",
       "\t CD40LG  & NF-kappa B signaling pathway: NFKB2                      &   9\\\\\n",
       "\t CD40LG  & NF-kappa B signaling pathway: NFKB2*                     &   1\\\\\n",
       "\t CD40LG  & NF-kappa B signaling pathway: NFKBIA*                    &   2\\\\\n",
       "\t CD40LG  & NF-kappa B signaling pathway: TRAF1                      &   2\\\\\n",
       "\t CD40LG  & NF-kappa B signaling pathway: VCAM1                      &   1\\\\\n",
       "\t CD40LG  & NF-kappa B signaling pathway: XIAP                       &   2\\\\\n",
       "\t CD40LG  & T cell receptor signaling pathway: CD40LG                &  36\\\\\n",
       "\t CYBB    & HIF-1 signaling pathway: ALDOA                           &   4\\\\\n",
       "\t CYBB    & HIF-1 signaling pathway: PFKL                            &   4\\\\\n",
       "\t CYBB    & Leukocyte transendothelial migration: MAPK14             & 140\\\\\n",
       "\t CYBB    & Leukocyte transendothelial migration: MMP2               & 140\\\\\n",
       "\t EFNB1   & Axon guidance: GNAI1                                     &  38\\\\\n",
       "\t EFNB1   & Axon guidance: MAPK1*                                    &  17\\\\\n",
       "\t EFNB1   & Axon guidance: PTK2                                      &  26\\\\\n",
       "\t FGD1    & Regulation of actin cytoskeleton: ARPC5 ACTB             &  25\\\\\n",
       "\t FGD1    & Regulation of actin cytoskeleton: ARPC5 ACTB*            &  25\\\\\n",
       "\t FGD1    & Regulation of actin cytoskeleton: IQGAP2                 &  24\\\\\n",
       "\t FLNA    & Focal adhesion: FLNA ITGB1 ITGA11                        & 729\\\\\n",
       "\t GRIA3   & Dopaminergic synapse: KIF5A GRIA1                        &   2\\\\\n",
       "\t GRIA3   & Glutamatergic synapse: GRIA1                             &   6\\\\\n",
       "\t GRIA3   & Retrograde endocannabinoid signaling: GRIA1              &   6\\\\\n",
       "\t GRIA3   & cAMP signaling pathway: GRIA1                            &   5\\\\\n",
       "\t L1CAM   & Axon guidance: CFL1                                      & 224\\\\\n",
       "\t MSN     & Leukocyte transendothelial migration: ACTB               &   6\\\\\n",
       "\t MSN     & Leukocyte transendothelial migration: ACTB CTNNA1 CTNNB1 &   1\\\\\n",
       "\t MSN     & Leukocyte transendothelial migration: BCAR1              &   4\\\\\n",
       "\t MSN     & Leukocyte transendothelial migration: MAPK14             &   2\\\\\n",
       "\t MSN     & Leukocyte transendothelial migration: PTK2               &   4\\\\\n",
       "\t MSN     & Leukocyte transendothelial migration: PXN                &   4\\\\\n",
       "\t MSN     & Regulation of actin cytoskeleton: MSN                    &  12\\\\\n",
       "\t SHROOM4 & Tight junction: ACTB SHROOM1                             &  10\\\\\n",
       "\t SHROOM4 & Tight junction: TJP1 SHROOM1                             &  10\\\\\n",
       "\t STAG2   & Cell cycle: SMC1B SMC3 STAG1 RAD21                       & 270\\\\\n",
       "\t WAS     & Chemokine signaling pathway: WAS                         &  54\\\\\n",
       "\t WAS     & Fc gamma R-mediated phagocytosis: ARPC5                  &  36\\\\\n",
       "\t WAS     & Fc gamma R-mediated phagocytosis: WAS                    &  63\\\\\n",
       "\t WAS     & Regulation of actin cytoskeleton: ARPC5 ACTB             &  63\\\\\n",
       "\t WAS     & Regulation of actin cytoskeleton: ARPC5 ACTB*            &  63\\\\\n",
       "\t XIAP    & Apoptosis: ACTB                                          &   3\\\\\n",
       "\t XIAP    & Apoptosis: BIRC2                                         &   1\\\\\n",
       "\t XIAP    & Apoptosis: PARP2                                         &   4\\\\\n",
       "\t XIAP    & Apoptosis: SPTA1                                         &   2\\\\\n",
       "\t XIAP    & Focal adhesion: BIRC2                                    &   3\\\\\n",
       "\\end{tabular}\n"
      ],
      "text/markdown": [
       "\n",
       "A grouped_df: 54 × 3\n",
       "\n",
       "| gene_rd &lt;fct&gt; | circ_belong_gene_rd &lt;chr&gt; | n &lt;int&gt; |\n",
       "|---|---|---|\n",
       "| AVPR2   | Vasopressin-regulated water reabsorption: AQP2           |  68 |\n",
       "| AVPR2   | Vasopressin-regulated water reabsorption: ARHGDIA        | 112 |\n",
       "| BTK     | B cell receptor signaling pathway: NFATC1                | 128 |\n",
       "| BTK     | Fc epsilon RI signaling pathway: PRKCA                   | 136 |\n",
       "| BTK     | Platelet activation: ITPR1                               | 120 |\n",
       "| CD40LG  | NF-kappa B signaling pathway: BCL2                       |   2 |\n",
       "| CD40LG  | NF-kappa B signaling pathway: BCL2L1                     |   2 |\n",
       "| CD40LG  | NF-kappa B signaling pathway: BIRC2                      |   1 |\n",
       "| CD40LG  | NF-kappa B signaling pathway: CCL4L1                     |   1 |\n",
       "| CD40LG  | NF-kappa B signaling pathway: CFLAR                      |   2 |\n",
       "| CD40LG  | NF-kappa B signaling pathway: GADD45B                    |   2 |\n",
       "| CD40LG  | NF-kappa B signaling pathway: NFKB2                      |   9 |\n",
       "| CD40LG  | NF-kappa B signaling pathway: NFKB2*                     |   1 |\n",
       "| CD40LG  | NF-kappa B signaling pathway: NFKBIA*                    |   2 |\n",
       "| CD40LG  | NF-kappa B signaling pathway: TRAF1                      |   2 |\n",
       "| CD40LG  | NF-kappa B signaling pathway: VCAM1                      |   1 |\n",
       "| CD40LG  | NF-kappa B signaling pathway: XIAP                       |   2 |\n",
       "| CD40LG  | T cell receptor signaling pathway: CD40LG                |  36 |\n",
       "| CYBB    | HIF-1 signaling pathway: ALDOA                           |   4 |\n",
       "| CYBB    | HIF-1 signaling pathway: PFKL                            |   4 |\n",
       "| CYBB    | Leukocyte transendothelial migration: MAPK14             | 140 |\n",
       "| CYBB    | Leukocyte transendothelial migration: MMP2               | 140 |\n",
       "| EFNB1   | Axon guidance: GNAI1                                     |  38 |\n",
       "| EFNB1   | Axon guidance: MAPK1*                                    |  17 |\n",
       "| EFNB1   | Axon guidance: PTK2                                      |  26 |\n",
       "| FGD1    | Regulation of actin cytoskeleton: ARPC5 ACTB             |  25 |\n",
       "| FGD1    | Regulation of actin cytoskeleton: ARPC5 ACTB*            |  25 |\n",
       "| FGD1    | Regulation of actin cytoskeleton: IQGAP2                 |  24 |\n",
       "| FLNA    | Focal adhesion: FLNA ITGB1 ITGA11                        | 729 |\n",
       "| GRIA3   | Dopaminergic synapse: KIF5A GRIA1                        |   2 |\n",
       "| GRIA3   | Glutamatergic synapse: GRIA1                             |   6 |\n",
       "| GRIA3   | Retrograde endocannabinoid signaling: GRIA1              |   6 |\n",
       "| GRIA3   | cAMP signaling pathway: GRIA1                            |   5 |\n",
       "| L1CAM   | Axon guidance: CFL1                                      | 224 |\n",
       "| MSN     | Leukocyte transendothelial migration: ACTB               |   6 |\n",
       "| MSN     | Leukocyte transendothelial migration: ACTB CTNNA1 CTNNB1 |   1 |\n",
       "| MSN     | Leukocyte transendothelial migration: BCAR1              |   4 |\n",
       "| MSN     | Leukocyte transendothelial migration: MAPK14             |   2 |\n",
       "| MSN     | Leukocyte transendothelial migration: PTK2               |   4 |\n",
       "| MSN     | Leukocyte transendothelial migration: PXN                |   4 |\n",
       "| MSN     | Regulation of actin cytoskeleton: MSN                    |  12 |\n",
       "| SHROOM4 | Tight junction: ACTB SHROOM1                             |  10 |\n",
       "| SHROOM4 | Tight junction: TJP1 SHROOM1                             |  10 |\n",
       "| STAG2   | Cell cycle: SMC1B SMC3 STAG1 RAD21                       | 270 |\n",
       "| WAS     | Chemokine signaling pathway: WAS                         |  54 |\n",
       "| WAS     | Fc gamma R-mediated phagocytosis: ARPC5                  |  36 |\n",
       "| WAS     | Fc gamma R-mediated phagocytosis: WAS                    |  63 |\n",
       "| WAS     | Regulation of actin cytoskeleton: ARPC5 ACTB             |  63 |\n",
       "| WAS     | Regulation of actin cytoskeleton: ARPC5 ACTB*            |  63 |\n",
       "| XIAP    | Apoptosis: ACTB                                          |   3 |\n",
       "| XIAP    | Apoptosis: BIRC2                                         |   1 |\n",
       "| XIAP    | Apoptosis: PARP2                                         |   4 |\n",
       "| XIAP    | Apoptosis: SPTA1                                         |   2 |\n",
       "| XIAP    | Focal adhesion: BIRC2                                    |   3 |\n",
       "\n"
      ],
      "text/plain": [
       "   gene_rd circ_belong_gene_rd                                      n  \n",
       "1  AVPR2   Vasopressin-regulated water reabsorption: AQP2            68\n",
       "2  AVPR2   Vasopressin-regulated water reabsorption: ARHGDIA        112\n",
       "3  BTK     B cell receptor signaling pathway: NFATC1                128\n",
       "4  BTK     Fc epsilon RI signaling pathway: PRKCA                   136\n",
       "5  BTK     Platelet activation: ITPR1                               120\n",
       "6  CD40LG  NF-kappa B signaling pathway: BCL2                         2\n",
       "7  CD40LG  NF-kappa B signaling pathway: BCL2L1                       2\n",
       "8  CD40LG  NF-kappa B signaling pathway: BIRC2                        1\n",
       "9  CD40LG  NF-kappa B signaling pathway: CCL4L1                       1\n",
       "10 CD40LG  NF-kappa B signaling pathway: CFLAR                        2\n",
       "11 CD40LG  NF-kappa B signaling pathway: GADD45B                      2\n",
       "12 CD40LG  NF-kappa B signaling pathway: NFKB2                        9\n",
       "13 CD40LG  NF-kappa B signaling pathway: NFKB2*                       1\n",
       "14 CD40LG  NF-kappa B signaling pathway: NFKBIA*                      2\n",
       "15 CD40LG  NF-kappa B signaling pathway: TRAF1                        2\n",
       "16 CD40LG  NF-kappa B signaling pathway: VCAM1                        1\n",
       "17 CD40LG  NF-kappa B signaling pathway: XIAP                         2\n",
       "18 CD40LG  T cell receptor signaling pathway: CD40LG                 36\n",
       "19 CYBB    HIF-1 signaling pathway: ALDOA                             4\n",
       "20 CYBB    HIF-1 signaling pathway: PFKL                              4\n",
       "21 CYBB    Leukocyte transendothelial migration: MAPK14             140\n",
       "22 CYBB    Leukocyte transendothelial migration: MMP2               140\n",
       "23 EFNB1   Axon guidance: GNAI1                                      38\n",
       "24 EFNB1   Axon guidance: MAPK1*                                     17\n",
       "25 EFNB1   Axon guidance: PTK2                                       26\n",
       "26 FGD1    Regulation of actin cytoskeleton: ARPC5 ACTB              25\n",
       "27 FGD1    Regulation of actin cytoskeleton: ARPC5 ACTB*             25\n",
       "28 FGD1    Regulation of actin cytoskeleton: IQGAP2                  24\n",
       "29 FLNA    Focal adhesion: FLNA ITGB1 ITGA11                        729\n",
       "30 GRIA3   Dopaminergic synapse: KIF5A GRIA1                          2\n",
       "31 GRIA3   Glutamatergic synapse: GRIA1                               6\n",
       "32 GRIA3   Retrograde endocannabinoid signaling: GRIA1                6\n",
       "33 GRIA3   cAMP signaling pathway: GRIA1                              5\n",
       "34 L1CAM   Axon guidance: CFL1                                      224\n",
       "35 MSN     Leukocyte transendothelial migration: ACTB                 6\n",
       "36 MSN     Leukocyte transendothelial migration: ACTB CTNNA1 CTNNB1   1\n",
       "37 MSN     Leukocyte transendothelial migration: BCAR1                4\n",
       "38 MSN     Leukocyte transendothelial migration: MAPK14               2\n",
       "39 MSN     Leukocyte transendothelial migration: PTK2                 4\n",
       "40 MSN     Leukocyte transendothelial migration: PXN                  4\n",
       "41 MSN     Regulation of actin cytoskeleton: MSN                     12\n",
       "42 SHROOM4 Tight junction: ACTB SHROOM1                              10\n",
       "43 SHROOM4 Tight junction: TJP1 SHROOM1                              10\n",
       "44 STAG2   Cell cycle: SMC1B SMC3 STAG1 RAD21                       270\n",
       "45 WAS     Chemokine signaling pathway: WAS                          54\n",
       "46 WAS     Fc gamma R-mediated phagocytosis: ARPC5                   36\n",
       "47 WAS     Fc gamma R-mediated phagocytosis: WAS                     63\n",
       "48 WAS     Regulation of actin cytoskeleton: ARPC5 ACTB              63\n",
       "49 WAS     Regulation of actin cytoskeleton: ARPC5 ACTB*             63\n",
       "50 XIAP    Apoptosis: ACTB                                            3\n",
       "51 XIAP    Apoptosis: BIRC2                                           1\n",
       "52 XIAP    Apoptosis: PARP2                                           4\n",
       "53 XIAP    Apoptosis: SPTA1                                           2\n",
       "54 XIAP    Focal adhesion: BIRC2                                      3"
      ]
     },
     "metadata": {},
     "output_type": "display_data"
    }
   ],
   "source": [
    "results_sign_1_or_2_sex_no_all_tissue_save_csv[results_sign_1_or_2_sex_no_all_tissue_save_csv$gene %in% \n",
    "paste(unique(gen_enf[gen_enf$ENTREZID %in% rownames(p[p$V1 == \"X\" | p$V2 == \"X\" | p$V3 == \"X\",]),\"gene\"])),] %>%\n",
    "group_by(gene_rd, circ_belong_gene_rd) %>% summarise(n=n())"
   ]
  },
  {
   "cell_type": "code",
   "execution_count": null,
   "id": "628ad29d-85cc-4ad5-8944-dcfd63d4583e",
   "metadata": {},
   "outputs": [],
   "source": []
  }
 ],
 "metadata": {
  "kernelspec": {
   "display_name": "R",
   "language": "R",
   "name": "ir"
  },
  "language_info": {
   "codemirror_mode": "r",
   "file_extension": ".r",
   "mimetype": "text/x-r-source",
   "name": "R",
   "pygments_lexer": "r",
   "version": "4.3.2"
  }
 },
 "nbformat": 4,
 "nbformat_minor": 5
}
