{
 "cells": [
  {
   "cell_type": "code",
   "execution_count": 28,
   "id": "90d81895-f699-4655-a62d-9d880f272065",
   "metadata": {
    "scrolled": true
   },
   "outputs": [],
   "source": [
    "library(hipathia)\n",
    "library(AnnotationDbi)\n",
    "library(org.Hs.eg.db)\n",
    "library(dplyr)\n",
    "library(ggplot2)"
   ]
  },
  {
   "cell_type": "code",
   "execution_count": 29,
   "id": "779a3de5-7185-470d-9946-c659a86ace50",
   "metadata": {},
   "outputs": [
    {
     "name": "stderr",
     "output_type": "stream",
     "text": [
      "'select()' returned many:1 mapping between keys and columns\n",
      "\n"
     ]
    }
   ],
   "source": [
    "name_enfermerdad_symbol <- readRDS(\"/mnt/lustre/scratch/CBRA/research/projects/rrdd_mm/results/00_parser_orphanet/gen_enfermedad/name_enfermerdad_symbol.rds\")\n",
    "colnames(name_enfermerdad_symbol) <- c(\"name_enf\",\"gene\")\n",
    "symbol_entreid <- AnnotationDbi::select(org.Hs.eg.db, keys=paste(name_enfermerdad_symbol$gene), columns=c(\"ENTREZID\"),keytype=\"SYMBOL\")\n",
    "\n",
    "gen_enf <- unique(merge(name_enfermerdad_symbol, symbol_entreid, by.x=\"gene\",by.y=\"SYMBOL\"))\n",
    "rd_gen_class <- readRDS(\"/mnt/lustre/scratch/CBRA/research/projects/rrdd_mm/results/00_parser_orphanet/rd_gen_class.rds\")\n",
    "rd_gen_class$clasificacion <- paste(rd_gen_class$clasificacion)\n",
    "rd_gen_class$enfermedad <- paste(rd_gen_class$enfermedad)\n",
    "rd_gen_class$V1 <- paste(rd_gen_class$V1)"
   ]
  },
  {
   "cell_type": "code",
   "execution_count": 30,
   "id": "04d73f8a-536f-4a6e-a94a-164e558913df",
   "metadata": {},
   "outputs": [],
   "source": [
    "### description of results"
   ]
  },
  {
   "cell_type": "code",
   "execution_count": 31,
   "id": "bfd94790-393c-4db7-839f-ef39e4c4947f",
   "metadata": {},
   "outputs": [],
   "source": [
    "all_tissue_female_no_male <- readRDS(\"/mnt/lustre/scratch/CBRA/research/projects/rrdd_mm/results/05_clasi_result_kstest/05_3_clasi_result_kstest_sign_only_female_all_tissue//kstest_pvadj_logfc_kovsctrl_sign_only_female_all_tissue_33.rds\")"
   ]
  },
  {
   "cell_type": "code",
   "execution_count": 32,
   "id": "b3e9dc39-a837-4eb9-8aa2-ed8d38d98f04",
   "metadata": {},
   "outputs": [
    {
     "name": "stderr",
     "output_type": "stream",
     "text": [
      "\u001b[1m\u001b[22m`summarise()` has grouped output by 'ko', 'circ'. You can override using the\n",
      "`.groups` argument.\n"
     ]
    }
   ],
   "source": [
    "all_tissue_female_no_male_count <- data.frame(all_tissue_female_no_male %>% group_by(ko,circ,tissue) %>% summarise(n=n())) \n",
    "all_tissue_female_no_male_count$sex <- rep(\"-\", length(all_tissue_female_no_male_count$circ))\n",
    "all_tissue_female_no_male_count$sex[all_tissue_female_no_male_count$n != 2] <- \"F\"\n",
    "all_tissue_female_no_male_count$sex[all_tissue_female_no_male_count$n == 2] <- \"B\""
   ]
  },
  {
   "cell_type": "code",
   "execution_count": 33,
   "id": "0844f0c2-6734-43e9-9518-970144f9bba3",
   "metadata": {},
   "outputs": [],
   "source": [
    "files_all_tissue_male_no_female <- list.files(\"/mnt/lustre/scratch/CBRA/research/projects/rrdd_mm/results/05_clasi_result_kstest/05_3_clasi_result_kstest_sign_only_male_all_tissue/\")"
   ]
  },
  {
   "cell_type": "code",
   "execution_count": 34,
   "id": "1158169a-d021-4f9b-8de6-daea2cf90ae8",
   "metadata": {},
   "outputs": [],
   "source": [
    "all_tissue_male_no_female <- do.call(rbind, lapply(files_all_tissue_male_no_female, FUN=function(x) readRDS(paste(\"/mnt/lustre/scratch/CBRA/research/projects/rrdd_mm/results/05_clasi_result_kstest/05_3_clasi_result_kstest_sign_only_male_all_tissue/\",x,sep=\"\"))))"
   ]
  },
  {
   "cell_type": "code",
   "execution_count": 35,
   "id": "8f6457a3-abd7-48bf-96f0-c0cbdda82891",
   "metadata": {},
   "outputs": [
    {
     "name": "stderr",
     "output_type": "stream",
     "text": [
      "\u001b[1m\u001b[22m`summarise()` has grouped output by 'ko', 'circ'. You can override using the\n",
      "`.groups` argument.\n"
     ]
    }
   ],
   "source": [
    "all_tissue_male_no_female_count <- data.frame(all_tissue_male_no_female %>% group_by(ko,circ,tissue) %>% summarise(n=n()))"
   ]
  },
  {
   "cell_type": "code",
   "execution_count": 36,
   "id": "ead4f187-33a6-434c-a77d-f23669270126",
   "metadata": {},
   "outputs": [],
   "source": [
    "all_tissue_male_no_female_count$sex <- rep(\"-\", length(all_tissue_male_no_female_count$circ))\n",
    "all_tissue_male_no_female_count$sex[all_tissue_male_no_female_count$n != 2] <- \"M\"\n",
    "all_tissue_male_no_female_count$sex[all_tissue_male_no_female_count$n == 2] <- \"B\""
   ]
  },
  {
   "cell_type": "code",
   "execution_count": 37,
   "id": "834991e6-42bf-4433-898d-38640a904996",
   "metadata": {},
   "outputs": [
    {
     "data": {
      "text/html": [
       "<table class=\"dataframe\">\n",
       "<caption>A data.frame: 1 × 5</caption>\n",
       "<thead>\n",
       "\t<tr><th></th><th scope=col>ko</th><th scope=col>circ</th><th scope=col>tissue</th><th scope=col>n</th><th scope=col>sex</th></tr>\n",
       "\t<tr><th></th><th scope=col>&lt;chr&gt;</th><th scope=col>&lt;chr&gt;</th><th scope=col>&lt;chr&gt;</th><th scope=col>&lt;int&gt;</th><th scope=col>&lt;chr&gt;</th></tr>\n",
       "</thead>\n",
       "<tbody>\n",
       "\t<tr><th scope=row>19</th><td>33</td><td>P-hsa03320-23</td><td>Spleen</td><td>1</td><td>F</td></tr>\n",
       "</tbody>\n",
       "</table>\n"
      ],
      "text/latex": [
       "A data.frame: 1 × 5\n",
       "\\begin{tabular}{r|lllll}\n",
       "  & ko & circ & tissue & n & sex\\\\\n",
       "  & <chr> & <chr> & <chr> & <int> & <chr>\\\\\n",
       "\\hline\n",
       "\t19 & 33 & P-hsa03320-23 & Spleen & 1 & F\\\\\n",
       "\\end{tabular}\n"
      ],
      "text/markdown": [
       "\n",
       "A data.frame: 1 × 5\n",
       "\n",
       "| <!--/--> | ko &lt;chr&gt; | circ &lt;chr&gt; | tissue &lt;chr&gt; | n &lt;int&gt; | sex &lt;chr&gt; |\n",
       "|---|---|---|---|---|---|\n",
       "| 19 | 33 | P-hsa03320-23 | Spleen | 1 | F |\n",
       "\n"
      ],
      "text/plain": [
       "   ko circ          tissue n sex\n",
       "19 33 P-hsa03320-23 Spleen 1 F  "
      ]
     },
     "metadata": {},
     "output_type": "display_data"
    }
   ],
   "source": [
    "all_tissue_female_no_male_count[all_tissue_female_no_male_count$sex == \"F\",]"
   ]
  },
  {
   "cell_type": "code",
   "execution_count": 38,
   "id": "35e018f0-c6bd-4502-b231-f513bc766cde",
   "metadata": {},
   "outputs": [],
   "source": [
    "all_tissue_only_one_sex <- rbind(all_tissue_female_no_male_count,all_tissue_male_no_female_count)"
   ]
  },
  {
   "cell_type": "code",
   "execution_count": 39,
   "id": "ad0158ca-18e1-4872-9c36-317600832065",
   "metadata": {},
   "outputs": [
    {
     "name": "stderr",
     "output_type": "stream",
     "text": [
      "Loaded 146 pathways\n",
      "\n"
     ]
    }
   ],
   "source": [
    "pathways <- load_pathways(\"hsa\")\n",
    "all_tissue_only_one_sex$name_path <- get_path_names(pathways, all_tissue_only_one_sex$circ) "
   ]
  },
  {
   "cell_type": "code",
   "execution_count": 40,
   "id": "4fbdee39-0a6b-4588-9238-29a6fff476ee",
   "metadata": {},
   "outputs": [],
   "source": [
    "all_tissue_only_one_sex_graph <- unique(merge(merge(all_tissue_only_one_sex, gen_enf, by.x=\"ko\", by.y=\"ENTREZID\"), rd_gen_class, by.x=\"gene\",by.y=\"V1\")[,c(\"gene\",\"tissue\",\"sex\",\"name_path\",\"clasificacion\")])\n",
    "\n",
    "all_tissue_only_one_sex_graph$clas <- rep(\"-\",length(all_tissue_only_one_sex_graph$clasificacion))\n",
    "\n",
    "all_tissue_only_one_sex_graph$clas[which(all_tissue_only_one_sex_graph$clasificacion == \"Rare inborn errors of metabolism\")] <- \"RIEM\"\n",
    "all_tissue_only_one_sex_graph$clas[which(all_tissue_only_one_sex_graph$clasificacion == \"Rare developmental defect during embryogenesis\")] <- \"RDDDE\"\n",
    "all_tissue_only_one_sex_graph$clas[which(all_tissue_only_one_sex_graph$clasificacion == \"Rare renal disease\")] <- \"RRD\"\n",
    "all_tissue_only_one_sex_graph$clas[which(all_tissue_only_one_sex_graph$clasificacion == \"non_rare_in_europe\")] <- \"NRIE\" \n",
    "all_tissue_only_one_sex_graph$clas[which(all_tissue_only_one_sex_graph$clasificacion == \"Rare endocrine disease\")] <- \"RENDD\" \n",
    "all_tissue_only_one_sex_graph$clas[which(all_tissue_only_one_sex_graph$clasificacion == \"Rare bone disease\")] <- \"RBD\"\n",
    "all_tissue_only_one_sex_graph$clas[which(all_tissue_only_one_sex_graph$clasificacion == \"Rare hematologic disease\")] <- \"RHD\"\n",
    "all_tissue_only_one_sex_graph$clas[which(all_tissue_only_one_sex_graph$clasificacion == \"Rare immune disease\")] <- \"RID\"\n",
    "all_tissue_only_one_sex_graph$clas[which(all_tissue_only_one_sex_graph$clasificacion == \"Rare neoplastic disease\")] <- \"RND\"\n",
    "all_tissue_only_one_sex_graph$clas[which(all_tissue_only_one_sex_graph$clasificacion == \"Rare neurologic disease\")] <- \"RNEUD\"\n",
    "all_tissue_only_one_sex_graph$clas[which(all_tissue_only_one_sex_graph$clasificacion == \"Rare skin disease\")] <- \"RSD\"\n",
    "all_tissue_only_one_sex_graph$clas[which(all_tissue_only_one_sex_graph$clasificacion == \"Rare ophthalmic disorder\")] <- \"ROPHD\" \n",
    "all_tissue_only_one_sex_graph$clas[which(all_tissue_only_one_sex_graph$clasificacion == 'Rare respiratory disease')] <- \"RRESD\"\n",
    "all_tissue_only_one_sex_graph$clas[which(all_tissue_only_one_sex_graph$clasificacion == 'Rare gynecologic or obstetric disease')] <- \"RGYOROBD\" \n",
    "all_tissue_only_one_sex_graph$clas[which(all_tissue_only_one_sex_graph$clasificacion == 'others')] <- \"OTHR\"\n",
    "\n",
    "\n",
    "clas_colors <- c('RBD' = \"#1f78b4\",\n",
    "'RHEPATD' = \"#33a02c\", \n",
    "'ROPHD' = \"#e31a1c\",\n",
    "'RNEUD' = \"#ff7f00\",\n",
    "'RHD' = \"#ffed6f\",\n",
    "'RRD' = \"#66c2a5\",\n",
    "'RENDD' = \"#8c564b\",\n",
    "'NRIE' = \"#45aeff\",\n",
    "'RSD' =  \"#b15928\", \n",
    "'RID' =  \"#a6cee3\",\n",
    "'RDDDE' = \"#b2df8a\",                 \n",
    "'RND' = \"#33a02c\",                  \n",
    "'RODOND' =  \"#cab2d6\",\n",
    "'OTHR' = \"#0000ff\",     # Blue\n",
    "'RIEM' = \"#ffff99\",\n",
    "'RINF' = \"#8dd3c7\")\n",
    "\n",
    "all_tissue_only_one_sex_graph$path <- unlist(lapply(all_tissue_only_one_sex_graph$name_path, FUN=function(x) unlist(strsplit(x,\":\"))[1])) "
   ]
  },
  {
   "cell_type": "code",
   "execution_count": 41,
   "id": "6da077b5-5c0a-474b-bb20-881c87985354",
   "metadata": {},
   "outputs": [
    {
     "data": {
      "text/html": [
       "<strong>png:</strong> 2"
      ],
      "text/latex": [
       "\\textbf{png:} 2"
      ],
      "text/markdown": [
       "**png:** 2"
      ],
      "text/plain": [
       "png \n",
       "  2 "
      ]
     },
     "metadata": {},
     "output_type": "display_data"
    }
   ],
   "source": [
    "jpeg(\"/mnt/lustre/scratch/CBRA/research/projects/rrdd_mm/results/07_graph_results/07_5_ko_sign_both_sex_all_tissue_only_one_sex/heatmap_ko_sign_both_sex_all_tissue_only_one_sex.jpeg\", quality = 100, width = 1200, height = 1000)\n",
    "all_tissue_only_one_sex_graph[all_tissue_only_one_sex_graph$sex !=\"B\",] %>% ggplot(aes(x= tissue, y = gene, fill = clas)) +\n",
    "  scale_fill_manual(values = clas_colors) + \n",
    "  geom_tile(color=\"white\") + geom_text(aes(label = sex), color = \"black\", size=4) + facet_grid(path ~ ., scales = \"free_y\", space = \"free_y\") +\n",
    "  labs(title = \"\", x = \"Tissues\", y = \"Genes RRDD\", fill=\"Clas of RRDD\" ,color = \"Legend Title\\n\") + \n",
    "    theme_minimal() + \n",
    "    theme(strip.text.y = element_text(size=10, angle=360), \n",
    "        strip.background = element_rect(colour=\"grey\", fill=c(\"#66B9B9\")),\n",
    "        legend.position=\"bottom\", legend.direction=\"horizontal\",\n",
    "        legend.text=element_text(size=10),\n",
    "        axis.text.x=element_text(size=10,vjust=0.5, angle = 90),\n",
    "        axis.text.y=element_text(size=10,vjust=0.5),\n",
    "        plot.title=element_text(hjust=0, size=14)) \n",
    "dev.off()"
   ]
  },
  {
   "cell_type": "code",
   "execution_count": 15,
   "id": "c83d9761-d753-4533-814e-b73c56a0e6e9",
   "metadata": {},
   "outputs": [],
   "source": [
    "all_tissue_only_one_sex_save_csv <- unique(merge(rd_gen_class, all_tissue_only_one_sex_graph, by.x=\"V1\", by.y=\"gene\")[,c(\"V1\",\"enfermedad\",\"clasificacion.x\",\"tissue\",\"sex\", \"name_path\")])\n",
    "colnames(all_tissue_only_one_sex_save_csv) <- c(\"gene_rd\",\"name_rd\",\"clasification_rd\",\"tissue\",\"sex\",\"circ_belong_gene_rd\")"
   ]
  },
  {
   "cell_type": "code",
   "execution_count": 16,
   "id": "eb40dac8-b542-4bd6-8933-6b6163d0ed42",
   "metadata": {},
   "outputs": [],
   "source": [
    "write.csv(all_tissue_only_one_sex_save_csv, file=\"/mnt/lustre/scratch/CBRA/research/projects/rrdd_mm/results/07_graph_results/07_5_ko_sign_both_sex_all_tissue_only_one_sex/ko_sign_both_sex_all_tissue_only_one_sex.csv\", row.names=F) "
   ]
  },
  {
   "cell_type": "code",
   "execution_count": 17,
   "id": "e752f206-8d39-4416-ae61-45cbc3cf29d7",
   "metadata": {},
   "outputs": [],
   "source": [
    "### different direction of logFC"
   ]
  },
  {
   "cell_type": "code",
   "execution_count": 18,
   "id": "f7551768-e9ca-457e-8453-ef07d2a8540e",
   "metadata": {},
   "outputs": [],
   "source": [
    "comp_signo_logFC_both_sex_no_all_logfc_same_sign <- list.files(\"/mnt/lustre/scratch/CBRA/research/projects/rrdd_mm/results/06_comp_signo_logFC_both_sex/06_1_comp_signo_logFC_both_sex_no_all_logfc_same_sign/\")\n",
    "ko_comp_signo_logFC_both_sex_no_all_logfc_same_sign <- gsub(\".rds\",\"\",gsub(\"kstest_pvadj_logfc_kovsctrl_sign_both_sex_no_all_logfc_same_sign_\",\"\",comp_signo_logFC_both_sex_no_all_logfc_same_sign))"
   ]
  },
  {
   "cell_type": "code",
   "execution_count": 19,
   "id": "52722a61-b866-49f3-bd40-c722ab136cdf",
   "metadata": {},
   "outputs": [],
   "source": [
    "ko_dif_dirlogfc <- intersect(unique(all_tissue_only_one_sex[all_tissue_only_one_sex$sex == \"B\",\"ko\"]), ko_comp_signo_logFC_both_sex_no_all_logfc_same_sign)"
   ]
  },
  {
   "cell_type": "code",
   "execution_count": 20,
   "id": "c903ef63-277f-4eaa-bc1f-7a2678f6dc52",
   "metadata": {},
   "outputs": [
    {
     "name": "stderr",
     "output_type": "stream",
     "text": [
      "\u001b[1m\u001b[22m`summarise()` has grouped output by 'ko'. You can override using the `.groups`\n",
      "argument.\n"
     ]
    },
    {
     "data": {
      "text/html": [
       "<table class=\"dataframe\">\n",
       "<caption>A grouped_df: 3 × 3</caption>\n",
       "<thead>\n",
       "\t<tr><th scope=col>ko</th><th scope=col>circ</th><th scope=col>n</th></tr>\n",
       "\t<tr><th scope=col>&lt;chr&gt;</th><th scope=col>&lt;chr&gt;</th><th scope=col>&lt;int&gt;</th></tr>\n",
       "</thead>\n",
       "<tbody>\n",
       "\t<tr><td>3575</td><td>P-hsa04068-57</td><td>19</td></tr>\n",
       "\t<tr><td>596 </td><td>P-hsa04210-75</td><td>20</td></tr>\n",
       "\t<tr><td>7157</td><td>P-hsa04115-9 </td><td>20</td></tr>\n",
       "</tbody>\n",
       "</table>\n"
      ],
      "text/latex": [
       "A grouped\\_df: 3 × 3\n",
       "\\begin{tabular}{lll}\n",
       " ko & circ & n\\\\\n",
       " <chr> & <chr> & <int>\\\\\n",
       "\\hline\n",
       "\t 3575 & P-hsa04068-57 & 19\\\\\n",
       "\t 596  & P-hsa04210-75 & 20\\\\\n",
       "\t 7157 & P-hsa04115-9  & 20\\\\\n",
       "\\end{tabular}\n"
      ],
      "text/markdown": [
       "\n",
       "A grouped_df: 3 × 3\n",
       "\n",
       "| ko &lt;chr&gt; | circ &lt;chr&gt; | n &lt;int&gt; |\n",
       "|---|---|---|\n",
       "| 3575 | P-hsa04068-57 | 19 |\n",
       "| 596  | P-hsa04210-75 | 20 |\n",
       "| 7157 | P-hsa04115-9  | 20 |\n",
       "\n"
      ],
      "text/plain": [
       "  ko   circ          n \n",
       "1 3575 P-hsa04068-57 19\n",
       "2 596  P-hsa04210-75 20\n",
       "3 7157 P-hsa04115-9  20"
      ]
     },
     "metadata": {},
     "output_type": "display_data"
    }
   ],
   "source": [
    "all_tissue_only_one_sex[all_tissue_only_one_sex$ko %in% ko_dif_dirlogfc,] %>% filter(sex == \"B\") %>% \n",
    "group_by(ko, circ) %>% summarise(n=n()) %>% filter(n!=21)"
   ]
  },
  {
   "cell_type": "code",
   "execution_count": 21,
   "id": "0f259959-e0e7-497e-bd27-8d3f9ba27312",
   "metadata": {},
   "outputs": [
    {
     "name": "stderr",
     "output_type": "stream",
     "text": [
      "\u001b[1m\u001b[22m`summarise()` has grouped output by 'circ', 'tissue'. You can override using\n",
      "the `.groups` argument.\n"
     ]
    },
    {
     "data": {
      "text/html": [
       "<table class=\"dataframe\">\n",
       "<caption>A grouped_df: 4 × 4</caption>\n",
       "<thead>\n",
       "\t<tr><th scope=col>circ</th><th scope=col>tissue</th><th scope=col>logfc_sig</th><th scope=col>n</th></tr>\n",
       "\t<tr><th scope=col>&lt;chr&gt;</th><th scope=col>&lt;chr&gt;</th><th scope=col>&lt;chr&gt;</th><th scope=col>&lt;int&gt;</th></tr>\n",
       "</thead>\n",
       "<tbody>\n",
       "\t<tr><td>P-hsa04210-75</td><td>Heart         </td><td>-</td><td>1</td></tr>\n",
       "\t<tr><td>P-hsa04210-75</td><td>Nerve         </td><td>+</td><td>1</td></tr>\n",
       "\t<tr><td>P-hsa04210-75</td><td>Nerve         </td><td>-</td><td>1</td></tr>\n",
       "\t<tr><td>P-hsa04210-75</td><td>Salivary Gland</td><td>-</td><td>1</td></tr>\n",
       "</tbody>\n",
       "</table>\n"
      ],
      "text/latex": [
       "A grouped\\_df: 4 × 4\n",
       "\\begin{tabular}{llll}\n",
       " circ & tissue & logfc\\_sig & n\\\\\n",
       " <chr> & <chr> & <chr> & <int>\\\\\n",
       "\\hline\n",
       "\t P-hsa04210-75 & Heart          & - & 1\\\\\n",
       "\t P-hsa04210-75 & Nerve          & + & 1\\\\\n",
       "\t P-hsa04210-75 & Nerve          & - & 1\\\\\n",
       "\t P-hsa04210-75 & Salivary Gland & - & 1\\\\\n",
       "\\end{tabular}\n"
      ],
      "text/markdown": [
       "\n",
       "A grouped_df: 4 × 4\n",
       "\n",
       "| circ &lt;chr&gt; | tissue &lt;chr&gt; | logfc_sig &lt;chr&gt; | n &lt;int&gt; |\n",
       "|---|---|---|---|\n",
       "| P-hsa04210-75 | Heart          | - | 1 |\n",
       "| P-hsa04210-75 | Nerve          | + | 1 |\n",
       "| P-hsa04210-75 | Nerve          | - | 1 |\n",
       "| P-hsa04210-75 | Salivary Gland | - | 1 |\n",
       "\n"
      ],
      "text/plain": [
       "  circ          tissue         logfc_sig n\n",
       "1 P-hsa04210-75 Heart          -         1\n",
       "2 P-hsa04210-75 Nerve          +         1\n",
       "3 P-hsa04210-75 Nerve          -         1\n",
       "4 P-hsa04210-75 Salivary Gland -         1"
      ]
     },
     "metadata": {},
     "output_type": "display_data"
    },
    {
     "data": {
      "text/html": [
       "<table class=\"dataframe\">\n",
       "<caption>A data.frame: 41 × 6</caption>\n",
       "<thead>\n",
       "\t<tr><th></th><th scope=col>kspvadj</th><th scope=col>logFC</th><th scope=col>ko</th><th scope=col>circ</th><th scope=col>sex</th><th scope=col>tissue</th></tr>\n",
       "\t<tr><th></th><th scope=col>&lt;dbl&gt;</th><th scope=col>&lt;dbl&gt;</th><th scope=col>&lt;chr&gt;</th><th scope=col>&lt;chr&gt;</th><th scope=col>&lt;chr&gt;</th><th scope=col>&lt;chr&gt;</th></tr>\n",
       "</thead>\n",
       "<tbody>\n",
       "\t<tr><th scope=row>8132</th><td>2.942277e-17</td><td>-1.538769</td><td>596</td><td>P-hsa04210-75</td><td>female</td><td>Adipose Tissue </td></tr>\n",
       "\t<tr><th scope=row>22109</th><td>3.643682e-09</td><td>-1.423958</td><td>596</td><td>P-hsa04210-75</td><td>female</td><td>Muscle         </td></tr>\n",
       "\t<tr><th scope=row>3633</th><td>4.065699e-11</td><td>-1.688241</td><td>596</td><td>P-hsa04210-75</td><td>female</td><td>Blood Vessel   </td></tr>\n",
       "\t<tr><th scope=row>5017</th><td>1.514553e-05</td><td>       NA</td><td>596</td><td>P-hsa04210-75</td><td>female</td><td>Heart          </td></tr>\n",
       "\t<tr><th scope=row>6419</th><td>1.064749e-07</td><td>-1.506919</td><td>596</td><td>P-hsa04210-75</td><td>female</td><td>Breast         </td></tr>\n",
       "\t<tr><th scope=row>7817</th><td>2.186042e-32</td><td>-1.417487</td><td>596</td><td>P-hsa04210-75</td><td>female</td><td>Skin           </td></tr>\n",
       "\t<tr><th scope=row>10616</th><td>0.000000e+00</td><td>-1.696399</td><td>596</td><td>P-hsa04210-75</td><td>female</td><td>Brain          </td></tr>\n",
       "\t<tr><th scope=row>12018</th><td>1.146653e-07</td><td>-1.479776</td><td>596</td><td>P-hsa04210-75</td><td>female</td><td>Blood          </td></tr>\n",
       "\t<tr><th scope=row>13412</th><td>4.808009e-07</td><td>-1.634426</td><td>596</td><td>P-hsa04210-75</td><td>female</td><td>Thyroid        </td></tr>\n",
       "\t<tr><th scope=row>14815</th><td>4.265613e-08</td><td>-1.472867</td><td>596</td><td>P-hsa04210-75</td><td>female</td><td>Lung           </td></tr>\n",
       "\t<tr><th scope=row>16212</th><td>3.159698e-04</td><td>-1.552379</td><td>596</td><td>P-hsa04210-75</td><td>female</td><td>Esophagus      </td></tr>\n",
       "\t<tr><th scope=row>17615</th><td>8.494203e-06</td><td>-1.501730</td><td>596</td><td>P-hsa04210-75</td><td>female</td><td>Colon          </td></tr>\n",
       "\t<tr><th scope=row>19013</th><td>1.554002e-04</td><td>-1.476524</td><td>596</td><td>P-hsa04210-75</td><td>female</td><td>Spleen         </td></tr>\n",
       "\t<tr><th scope=row>20413</th><td>9.223959e-03</td><td>-4.193912</td><td>596</td><td>P-hsa04210-75</td><td>female</td><td>Nerve          </td></tr>\n",
       "\t<tr><th scope=row>21811</th><td>1.082509e-05</td><td>-1.490093</td><td>596</td><td>P-hsa04210-75</td><td>female</td><td>Pituitary      </td></tr>\n",
       "\t<tr><th scope=row>23212</th><td>6.293706e-03</td><td>-1.559187</td><td>596</td><td>P-hsa04210-75</td><td>female</td><td>Stomach        </td></tr>\n",
       "\t<tr><th scope=row>24611</th><td>5.827506e-04</td><td>-1.537438</td><td>596</td><td>P-hsa04210-75</td><td>female</td><td>Adrenal Gland  </td></tr>\n",
       "\t<tr><th scope=row>2605</th><td>7.396023e-07</td><td>-1.460293</td><td>596</td><td>P-hsa04210-75</td><td>female</td><td>Pancreas       </td></tr>\n",
       "\t<tr><th scope=row>27412</th><td>1.554002e-04</td><td>-1.517144</td><td>596</td><td>P-hsa04210-75</td><td>female</td><td>Small Intestine</td></tr>\n",
       "\t<tr><th scope=row>2883</th><td>2.857143e-02</td><td>-1.529792</td><td>596</td><td>P-hsa04210-75</td><td>female</td><td>Liver          </td></tr>\n",
       "\t<tr><th scope=row>30210</th><td>2.494549e-37</td><td>-1.515730</td><td>596</td><td>P-hsa04210-75</td><td>male  </td><td>Adipose Tissue </td></tr>\n",
       "\t<tr><th scope=row>3161</th><td>9.334963e-28</td><td>-1.428026</td><td>596</td><td>P-hsa04210-75</td><td>male  </td><td>Muscle         </td></tr>\n",
       "\t<tr><th scope=row>3302</th><td>5.607424e-29</td><td>-1.639598</td><td>596</td><td>P-hsa04210-75</td><td>male  </td><td>Blood Vessel   </td></tr>\n",
       "\t<tr><th scope=row>3443</th><td>1.535605e-15</td><td>-1.543105</td><td>596</td><td>P-hsa04210-75</td><td>male  </td><td>Heart          </td></tr>\n",
       "\t<tr><th scope=row>3584</th><td>5.195936e-10</td><td>-1.530221</td><td>596</td><td>P-hsa04210-75</td><td>male  </td><td>Breast         </td></tr>\n",
       "\t<tr><th scope=row>37210</th><td>0.000000e+00</td><td>-1.417959</td><td>596</td><td>P-hsa04210-75</td><td>male  </td><td>Skin           </td></tr>\n",
       "\t<tr><th scope=row>3861</th><td>1.289345e-08</td><td>-1.447270</td><td>596</td><td>P-hsa04210-75</td><td>male  </td><td>Salivary Gland </td></tr>\n",
       "\t<tr><th scope=row>4001</th><td>0.000000e+00</td><td>-1.731767</td><td>596</td><td>P-hsa04210-75</td><td>male  </td><td>Brain          </td></tr>\n",
       "\t<tr><th scope=row>4141</th><td>4.157764e-22</td><td>-1.473552</td><td>596</td><td>P-hsa04210-75</td><td>male  </td><td>Blood          </td></tr>\n",
       "\t<tr><th scope=row>4282</th><td>9.812536e-26</td><td>-1.611172</td><td>596</td><td>P-hsa04210-75</td><td>male  </td><td>Thyroid        </td></tr>\n",
       "\t<tr><th scope=row>4423</th><td>1.649061e-22</td><td>-1.477238</td><td>596</td><td>P-hsa04210-75</td><td>male  </td><td>Lung           </td></tr>\n",
       "\t<tr><th scope=row>4562</th><td>5.907017e-10</td><td>-1.562775</td><td>596</td><td>P-hsa04210-75</td><td>male  </td><td>Esophagus      </td></tr>\n",
       "\t<tr><th scope=row>4701</th><td>2.435194e-08</td><td>-1.485361</td><td>596</td><td>P-hsa04210-75</td><td>male  </td><td>Colon          </td></tr>\n",
       "\t<tr><th scope=row>4841</th><td>1.554002e-04</td><td>-1.475137</td><td>596</td><td>P-hsa04210-75</td><td>male  </td><td>Spleen         </td></tr>\n",
       "\t<tr><th scope=row>4981</th><td>2.136773e-06</td><td>      Inf</td><td>596</td><td>P-hsa04210-75</td><td>male  </td><td>Nerve          </td></tr>\n",
       "\t<tr><th scope=row>51210</th><td>4.032920e-15</td><td>-1.474579</td><td>596</td><td>P-hsa04210-75</td><td>male  </td><td>Pituitary      </td></tr>\n",
       "\t<tr><th scope=row>5261</th><td>3.967294e-03</td><td>-1.517684</td><td>596</td><td>P-hsa04210-75</td><td>male  </td><td>Stomach        </td></tr>\n",
       "\t<tr><th scope=row>5401</th><td>1.922966e-07</td><td>-1.546786</td><td>596</td><td>P-hsa04210-75</td><td>male  </td><td>Adrenal Gland  </td></tr>\n",
       "\t<tr><th scope=row>5541</th><td>8.570426e-10</td><td>-1.459647</td><td>596</td><td>P-hsa04210-75</td><td>male  </td><td>Pancreas       </td></tr>\n",
       "\t<tr><th scope=row>5681</th><td>3.533450e-04</td><td>-1.469737</td><td>596</td><td>P-hsa04210-75</td><td>male  </td><td>Small Intestine</td></tr>\n",
       "\t<tr><th scope=row>5821</th><td>2.275314e-06</td><td>-1.528571</td><td>596</td><td>P-hsa04210-75</td><td>male  </td><td>Liver          </td></tr>\n",
       "</tbody>\n",
       "</table>\n"
      ],
      "text/latex": [
       "A data.frame: 41 × 6\n",
       "\\begin{tabular}{r|llllll}\n",
       "  & kspvadj & logFC & ko & circ & sex & tissue\\\\\n",
       "  & <dbl> & <dbl> & <chr> & <chr> & <chr> & <chr>\\\\\n",
       "\\hline\n",
       "\t8132 & 2.942277e-17 & -1.538769 & 596 & P-hsa04210-75 & female & Adipose Tissue \\\\\n",
       "\t22109 & 3.643682e-09 & -1.423958 & 596 & P-hsa04210-75 & female & Muscle         \\\\\n",
       "\t3633 & 4.065699e-11 & -1.688241 & 596 & P-hsa04210-75 & female & Blood Vessel   \\\\\n",
       "\t5017 & 1.514553e-05 &        NA & 596 & P-hsa04210-75 & female & Heart          \\\\\n",
       "\t6419 & 1.064749e-07 & -1.506919 & 596 & P-hsa04210-75 & female & Breast         \\\\\n",
       "\t7817 & 2.186042e-32 & -1.417487 & 596 & P-hsa04210-75 & female & Skin           \\\\\n",
       "\t10616 & 0.000000e+00 & -1.696399 & 596 & P-hsa04210-75 & female & Brain          \\\\\n",
       "\t12018 & 1.146653e-07 & -1.479776 & 596 & P-hsa04210-75 & female & Blood          \\\\\n",
       "\t13412 & 4.808009e-07 & -1.634426 & 596 & P-hsa04210-75 & female & Thyroid        \\\\\n",
       "\t14815 & 4.265613e-08 & -1.472867 & 596 & P-hsa04210-75 & female & Lung           \\\\\n",
       "\t16212 & 3.159698e-04 & -1.552379 & 596 & P-hsa04210-75 & female & Esophagus      \\\\\n",
       "\t17615 & 8.494203e-06 & -1.501730 & 596 & P-hsa04210-75 & female & Colon          \\\\\n",
       "\t19013 & 1.554002e-04 & -1.476524 & 596 & P-hsa04210-75 & female & Spleen         \\\\\n",
       "\t20413 & 9.223959e-03 & -4.193912 & 596 & P-hsa04210-75 & female & Nerve          \\\\\n",
       "\t21811 & 1.082509e-05 & -1.490093 & 596 & P-hsa04210-75 & female & Pituitary      \\\\\n",
       "\t23212 & 6.293706e-03 & -1.559187 & 596 & P-hsa04210-75 & female & Stomach        \\\\\n",
       "\t24611 & 5.827506e-04 & -1.537438 & 596 & P-hsa04210-75 & female & Adrenal Gland  \\\\\n",
       "\t2605 & 7.396023e-07 & -1.460293 & 596 & P-hsa04210-75 & female & Pancreas       \\\\\n",
       "\t27412 & 1.554002e-04 & -1.517144 & 596 & P-hsa04210-75 & female & Small Intestine\\\\\n",
       "\t2883 & 2.857143e-02 & -1.529792 & 596 & P-hsa04210-75 & female & Liver          \\\\\n",
       "\t30210 & 2.494549e-37 & -1.515730 & 596 & P-hsa04210-75 & male   & Adipose Tissue \\\\\n",
       "\t3161 & 9.334963e-28 & -1.428026 & 596 & P-hsa04210-75 & male   & Muscle         \\\\\n",
       "\t3302 & 5.607424e-29 & -1.639598 & 596 & P-hsa04210-75 & male   & Blood Vessel   \\\\\n",
       "\t3443 & 1.535605e-15 & -1.543105 & 596 & P-hsa04210-75 & male   & Heart          \\\\\n",
       "\t3584 & 5.195936e-10 & -1.530221 & 596 & P-hsa04210-75 & male   & Breast         \\\\\n",
       "\t37210 & 0.000000e+00 & -1.417959 & 596 & P-hsa04210-75 & male   & Skin           \\\\\n",
       "\t3861 & 1.289345e-08 & -1.447270 & 596 & P-hsa04210-75 & male   & Salivary Gland \\\\\n",
       "\t4001 & 0.000000e+00 & -1.731767 & 596 & P-hsa04210-75 & male   & Brain          \\\\\n",
       "\t4141 & 4.157764e-22 & -1.473552 & 596 & P-hsa04210-75 & male   & Blood          \\\\\n",
       "\t4282 & 9.812536e-26 & -1.611172 & 596 & P-hsa04210-75 & male   & Thyroid        \\\\\n",
       "\t4423 & 1.649061e-22 & -1.477238 & 596 & P-hsa04210-75 & male   & Lung           \\\\\n",
       "\t4562 & 5.907017e-10 & -1.562775 & 596 & P-hsa04210-75 & male   & Esophagus      \\\\\n",
       "\t4701 & 2.435194e-08 & -1.485361 & 596 & P-hsa04210-75 & male   & Colon          \\\\\n",
       "\t4841 & 1.554002e-04 & -1.475137 & 596 & P-hsa04210-75 & male   & Spleen         \\\\\n",
       "\t4981 & 2.136773e-06 &       Inf & 596 & P-hsa04210-75 & male   & Nerve          \\\\\n",
       "\t51210 & 4.032920e-15 & -1.474579 & 596 & P-hsa04210-75 & male   & Pituitary      \\\\\n",
       "\t5261 & 3.967294e-03 & -1.517684 & 596 & P-hsa04210-75 & male   & Stomach        \\\\\n",
       "\t5401 & 1.922966e-07 & -1.546786 & 596 & P-hsa04210-75 & male   & Adrenal Gland  \\\\\n",
       "\t5541 & 8.570426e-10 & -1.459647 & 596 & P-hsa04210-75 & male   & Pancreas       \\\\\n",
       "\t5681 & 3.533450e-04 & -1.469737 & 596 & P-hsa04210-75 & male   & Small Intestine\\\\\n",
       "\t5821 & 2.275314e-06 & -1.528571 & 596 & P-hsa04210-75 & male   & Liver          \\\\\n",
       "\\end{tabular}\n"
      ],
      "text/markdown": [
       "\n",
       "A data.frame: 41 × 6\n",
       "\n",
       "| <!--/--> | kspvadj &lt;dbl&gt; | logFC &lt;dbl&gt; | ko &lt;chr&gt; | circ &lt;chr&gt; | sex &lt;chr&gt; | tissue &lt;chr&gt; |\n",
       "|---|---|---|---|---|---|---|\n",
       "| 8132 | 2.942277e-17 | -1.538769 | 596 | P-hsa04210-75 | female | Adipose Tissue  |\n",
       "| 22109 | 3.643682e-09 | -1.423958 | 596 | P-hsa04210-75 | female | Muscle          |\n",
       "| 3633 | 4.065699e-11 | -1.688241 | 596 | P-hsa04210-75 | female | Blood Vessel    |\n",
       "| 5017 | 1.514553e-05 |        NA | 596 | P-hsa04210-75 | female | Heart           |\n",
       "| 6419 | 1.064749e-07 | -1.506919 | 596 | P-hsa04210-75 | female | Breast          |\n",
       "| 7817 | 2.186042e-32 | -1.417487 | 596 | P-hsa04210-75 | female | Skin            |\n",
       "| 10616 | 0.000000e+00 | -1.696399 | 596 | P-hsa04210-75 | female | Brain           |\n",
       "| 12018 | 1.146653e-07 | -1.479776 | 596 | P-hsa04210-75 | female | Blood           |\n",
       "| 13412 | 4.808009e-07 | -1.634426 | 596 | P-hsa04210-75 | female | Thyroid         |\n",
       "| 14815 | 4.265613e-08 | -1.472867 | 596 | P-hsa04210-75 | female | Lung            |\n",
       "| 16212 | 3.159698e-04 | -1.552379 | 596 | P-hsa04210-75 | female | Esophagus       |\n",
       "| 17615 | 8.494203e-06 | -1.501730 | 596 | P-hsa04210-75 | female | Colon           |\n",
       "| 19013 | 1.554002e-04 | -1.476524 | 596 | P-hsa04210-75 | female | Spleen          |\n",
       "| 20413 | 9.223959e-03 | -4.193912 | 596 | P-hsa04210-75 | female | Nerve           |\n",
       "| 21811 | 1.082509e-05 | -1.490093 | 596 | P-hsa04210-75 | female | Pituitary       |\n",
       "| 23212 | 6.293706e-03 | -1.559187 | 596 | P-hsa04210-75 | female | Stomach         |\n",
       "| 24611 | 5.827506e-04 | -1.537438 | 596 | P-hsa04210-75 | female | Adrenal Gland   |\n",
       "| 2605 | 7.396023e-07 | -1.460293 | 596 | P-hsa04210-75 | female | Pancreas        |\n",
       "| 27412 | 1.554002e-04 | -1.517144 | 596 | P-hsa04210-75 | female | Small Intestine |\n",
       "| 2883 | 2.857143e-02 | -1.529792 | 596 | P-hsa04210-75 | female | Liver           |\n",
       "| 30210 | 2.494549e-37 | -1.515730 | 596 | P-hsa04210-75 | male   | Adipose Tissue  |\n",
       "| 3161 | 9.334963e-28 | -1.428026 | 596 | P-hsa04210-75 | male   | Muscle          |\n",
       "| 3302 | 5.607424e-29 | -1.639598 | 596 | P-hsa04210-75 | male   | Blood Vessel    |\n",
       "| 3443 | 1.535605e-15 | -1.543105 | 596 | P-hsa04210-75 | male   | Heart           |\n",
       "| 3584 | 5.195936e-10 | -1.530221 | 596 | P-hsa04210-75 | male   | Breast          |\n",
       "| 37210 | 0.000000e+00 | -1.417959 | 596 | P-hsa04210-75 | male   | Skin            |\n",
       "| 3861 | 1.289345e-08 | -1.447270 | 596 | P-hsa04210-75 | male   | Salivary Gland  |\n",
       "| 4001 | 0.000000e+00 | -1.731767 | 596 | P-hsa04210-75 | male   | Brain           |\n",
       "| 4141 | 4.157764e-22 | -1.473552 | 596 | P-hsa04210-75 | male   | Blood           |\n",
       "| 4282 | 9.812536e-26 | -1.611172 | 596 | P-hsa04210-75 | male   | Thyroid         |\n",
       "| 4423 | 1.649061e-22 | -1.477238 | 596 | P-hsa04210-75 | male   | Lung            |\n",
       "| 4562 | 5.907017e-10 | -1.562775 | 596 | P-hsa04210-75 | male   | Esophagus       |\n",
       "| 4701 | 2.435194e-08 | -1.485361 | 596 | P-hsa04210-75 | male   | Colon           |\n",
       "| 4841 | 1.554002e-04 | -1.475137 | 596 | P-hsa04210-75 | male   | Spleen          |\n",
       "| 4981 | 2.136773e-06 |       Inf | 596 | P-hsa04210-75 | male   | Nerve           |\n",
       "| 51210 | 4.032920e-15 | -1.474579 | 596 | P-hsa04210-75 | male   | Pituitary       |\n",
       "| 5261 | 3.967294e-03 | -1.517684 | 596 | P-hsa04210-75 | male   | Stomach         |\n",
       "| 5401 | 1.922966e-07 | -1.546786 | 596 | P-hsa04210-75 | male   | Adrenal Gland   |\n",
       "| 5541 | 8.570426e-10 | -1.459647 | 596 | P-hsa04210-75 | male   | Pancreas        |\n",
       "| 5681 | 3.533450e-04 | -1.469737 | 596 | P-hsa04210-75 | male   | Small Intestine |\n",
       "| 5821 | 2.275314e-06 | -1.528571 | 596 | P-hsa04210-75 | male   | Liver           |\n",
       "\n"
      ],
      "text/plain": [
       "      kspvadj      logFC     ko  circ          sex    tissue         \n",
       "8132  2.942277e-17 -1.538769 596 P-hsa04210-75 female Adipose Tissue \n",
       "22109 3.643682e-09 -1.423958 596 P-hsa04210-75 female Muscle         \n",
       "3633  4.065699e-11 -1.688241 596 P-hsa04210-75 female Blood Vessel   \n",
       "5017  1.514553e-05        NA 596 P-hsa04210-75 female Heart          \n",
       "6419  1.064749e-07 -1.506919 596 P-hsa04210-75 female Breast         \n",
       "7817  2.186042e-32 -1.417487 596 P-hsa04210-75 female Skin           \n",
       "10616 0.000000e+00 -1.696399 596 P-hsa04210-75 female Brain          \n",
       "12018 1.146653e-07 -1.479776 596 P-hsa04210-75 female Blood          \n",
       "13412 4.808009e-07 -1.634426 596 P-hsa04210-75 female Thyroid        \n",
       "14815 4.265613e-08 -1.472867 596 P-hsa04210-75 female Lung           \n",
       "16212 3.159698e-04 -1.552379 596 P-hsa04210-75 female Esophagus      \n",
       "17615 8.494203e-06 -1.501730 596 P-hsa04210-75 female Colon          \n",
       "19013 1.554002e-04 -1.476524 596 P-hsa04210-75 female Spleen         \n",
       "20413 9.223959e-03 -4.193912 596 P-hsa04210-75 female Nerve          \n",
       "21811 1.082509e-05 -1.490093 596 P-hsa04210-75 female Pituitary      \n",
       "23212 6.293706e-03 -1.559187 596 P-hsa04210-75 female Stomach        \n",
       "24611 5.827506e-04 -1.537438 596 P-hsa04210-75 female Adrenal Gland  \n",
       "2605  7.396023e-07 -1.460293 596 P-hsa04210-75 female Pancreas       \n",
       "27412 1.554002e-04 -1.517144 596 P-hsa04210-75 female Small Intestine\n",
       "2883  2.857143e-02 -1.529792 596 P-hsa04210-75 female Liver          \n",
       "30210 2.494549e-37 -1.515730 596 P-hsa04210-75 male   Adipose Tissue \n",
       "3161  9.334963e-28 -1.428026 596 P-hsa04210-75 male   Muscle         \n",
       "3302  5.607424e-29 -1.639598 596 P-hsa04210-75 male   Blood Vessel   \n",
       "3443  1.535605e-15 -1.543105 596 P-hsa04210-75 male   Heart          \n",
       "3584  5.195936e-10 -1.530221 596 P-hsa04210-75 male   Breast         \n",
       "37210 0.000000e+00 -1.417959 596 P-hsa04210-75 male   Skin           \n",
       "3861  1.289345e-08 -1.447270 596 P-hsa04210-75 male   Salivary Gland \n",
       "4001  0.000000e+00 -1.731767 596 P-hsa04210-75 male   Brain          \n",
       "4141  4.157764e-22 -1.473552 596 P-hsa04210-75 male   Blood          \n",
       "4282  9.812536e-26 -1.611172 596 P-hsa04210-75 male   Thyroid        \n",
       "4423  1.649061e-22 -1.477238 596 P-hsa04210-75 male   Lung           \n",
       "4562  5.907017e-10 -1.562775 596 P-hsa04210-75 male   Esophagus      \n",
       "4701  2.435194e-08 -1.485361 596 P-hsa04210-75 male   Colon          \n",
       "4841  1.554002e-04 -1.475137 596 P-hsa04210-75 male   Spleen         \n",
       "4981  2.136773e-06       Inf 596 P-hsa04210-75 male   Nerve          \n",
       "51210 4.032920e-15 -1.474579 596 P-hsa04210-75 male   Pituitary      \n",
       "5261  3.967294e-03 -1.517684 596 P-hsa04210-75 male   Stomach        \n",
       "5401  1.922966e-07 -1.546786 596 P-hsa04210-75 male   Adrenal Gland  \n",
       "5541  8.570426e-10 -1.459647 596 P-hsa04210-75 male   Pancreas       \n",
       "5681  3.533450e-04 -1.469737 596 P-hsa04210-75 male   Small Intestine\n",
       "5821  2.275314e-06 -1.528571 596 P-hsa04210-75 male   Liver          "
      ]
     },
     "metadata": {},
     "output_type": "display_data"
    },
    {
     "data": {
      "text/html": [
       "<table class=\"dataframe\">\n",
       "<caption>A data.frame: 5 × 6</caption>\n",
       "<thead>\n",
       "\t<tr><th></th><th scope=col>kspvadj</th><th scope=col>logFC</th><th scope=col>ko</th><th scope=col>circ</th><th scope=col>sex</th><th scope=col>tissue</th></tr>\n",
       "\t<tr><th></th><th scope=col>&lt;dbl&gt;</th><th scope=col>&lt;dbl&gt;</th><th scope=col>&lt;chr&gt;</th><th scope=col>&lt;chr&gt;</th><th scope=col>&lt;chr&gt;</th><th scope=col>&lt;chr&gt;</th></tr>\n",
       "</thead>\n",
       "<tbody>\n",
       "\t<tr><th scope=row>5017</th><td>1.514553e-05</td><td>       NA</td><td>596</td><td>P-hsa04210-75</td><td>female</td><td>Heart         </td></tr>\n",
       "\t<tr><th scope=row>20413</th><td>9.223959e-03</td><td>-4.193912</td><td>596</td><td>P-hsa04210-75</td><td>female</td><td>Nerve         </td></tr>\n",
       "\t<tr><th scope=row>3443</th><td>1.535605e-15</td><td>-1.543105</td><td>596</td><td>P-hsa04210-75</td><td>male  </td><td>Heart         </td></tr>\n",
       "\t<tr><th scope=row>3861</th><td>1.289345e-08</td><td>-1.447270</td><td>596</td><td>P-hsa04210-75</td><td>male  </td><td>Salivary Gland</td></tr>\n",
       "\t<tr><th scope=row>4981</th><td>2.136773e-06</td><td>      Inf</td><td>596</td><td>P-hsa04210-75</td><td>male  </td><td>Nerve         </td></tr>\n",
       "</tbody>\n",
       "</table>\n"
      ],
      "text/latex": [
       "A data.frame: 5 × 6\n",
       "\\begin{tabular}{r|llllll}\n",
       "  & kspvadj & logFC & ko & circ & sex & tissue\\\\\n",
       "  & <dbl> & <dbl> & <chr> & <chr> & <chr> & <chr>\\\\\n",
       "\\hline\n",
       "\t5017 & 1.514553e-05 &        NA & 596 & P-hsa04210-75 & female & Heart         \\\\\n",
       "\t20413 & 9.223959e-03 & -4.193912 & 596 & P-hsa04210-75 & female & Nerve         \\\\\n",
       "\t3443 & 1.535605e-15 & -1.543105 & 596 & P-hsa04210-75 & male   & Heart         \\\\\n",
       "\t3861 & 1.289345e-08 & -1.447270 & 596 & P-hsa04210-75 & male   & Salivary Gland\\\\\n",
       "\t4981 & 2.136773e-06 &       Inf & 596 & P-hsa04210-75 & male   & Nerve         \\\\\n",
       "\\end{tabular}\n"
      ],
      "text/markdown": [
       "\n",
       "A data.frame: 5 × 6\n",
       "\n",
       "| <!--/--> | kspvadj &lt;dbl&gt; | logFC &lt;dbl&gt; | ko &lt;chr&gt; | circ &lt;chr&gt; | sex &lt;chr&gt; | tissue &lt;chr&gt; |\n",
       "|---|---|---|---|---|---|---|\n",
       "| 5017 | 1.514553e-05 |        NA | 596 | P-hsa04210-75 | female | Heart          |\n",
       "| 20413 | 9.223959e-03 | -4.193912 | 596 | P-hsa04210-75 | female | Nerve          |\n",
       "| 3443 | 1.535605e-15 | -1.543105 | 596 | P-hsa04210-75 | male   | Heart          |\n",
       "| 3861 | 1.289345e-08 | -1.447270 | 596 | P-hsa04210-75 | male   | Salivary Gland |\n",
       "| 4981 | 2.136773e-06 |       Inf | 596 | P-hsa04210-75 | male   | Nerve          |\n",
       "\n"
      ],
      "text/plain": [
       "      kspvadj      logFC     ko  circ          sex    tissue        \n",
       "5017  1.514553e-05        NA 596 P-hsa04210-75 female Heart         \n",
       "20413 9.223959e-03 -4.193912 596 P-hsa04210-75 female Nerve         \n",
       "3443  1.535605e-15 -1.543105 596 P-hsa04210-75 male   Heart         \n",
       "3861  1.289345e-08 -1.447270 596 P-hsa04210-75 male   Salivary Gland\n",
       "4981  2.136773e-06       Inf 596 P-hsa04210-75 male   Nerve         "
      ]
     },
     "metadata": {},
     "output_type": "display_data"
    }
   ],
   "source": [
    "### 3575\n",
    "#all_tissue_male_no_female[all_tissue_male_no_female$ko == \"3575\" & all_tissue_male_no_female$circ == \"P-hsa04068-57\",]\n",
    "\n",
    "### 596\n",
    "na.omit(all_tissue_male_no_female[all_tissue_male_no_female$ko == \"596\" & all_tissue_male_no_female$circ == \"P-hsa04210-75\",]) %>%\n",
    "  mutate(logfc_sig = case_when(logFC < 0 ~ \"-\",\n",
    "                        logFC > 0  ~ \"+\")) %>% group_by(circ,tissue, logfc_sig) %>% summarise(n=n()) %>% filter(n!=2)\n",
    "all_tissue_male_no_female[all_tissue_male_no_female$ko == \"596\" & all_tissue_male_no_female$circ == \"P-hsa04210-75\",]\n",
    "all_tissue_male_no_female[all_tissue_male_no_female$ko == \"596\" & all_tissue_male_no_female$circ == \"P-hsa04210-75\"\n",
    "                          & all_tissue_male_no_female$tissue %in% c(\"Heart\",\"Salivary Gland\",\"Nerve\"),]\n",
    "graph_596_nerve <- merge(merge(all_tissue_male_no_female[all_tissue_male_no_female$ko == \"596\" & all_tissue_male_no_female$circ == \"P-hsa04210-75\"\n",
    "                          & all_tissue_male_no_female$tissue == \"Nerve\",]  %>%\n",
    "  mutate(logfc_sig = case_when(logFC < 0 ~ \"-\",\n",
    "                        logFC > 0  ~ \"+\")), unique(gen_enf[,c(\"gene\",\"ENTREZID\")]), by.x=\"ko\",by.y=\"ENTREZID\"),\n",
    "rd_gen_class, by.x=\"gene\",by.y=\"V1\")\n",
    "graph_596_nerve$name_circ <- get_path_names(pathways, graph_596_nerve$circ)\n",
    "\n",
    "graph_596_nerve$sex[graph_596_nerve$sex == \"female\"] <- \"Female\"\n",
    "graph_596_nerve$sex[graph_596_nerve$sex == \"male\"] <- \"Male\""
   ]
  },
  {
   "cell_type": "code",
   "execution_count": 22,
   "id": "5b994518-5891-4268-b982-90f7cf71a851",
   "metadata": {},
   "outputs": [
    {
     "name": "stderr",
     "output_type": "stream",
     "text": [
      "\u001b[1m\u001b[22m`summarise()` has grouped output by 'circ'. You can override using the\n",
      "`.groups` argument.\n",
      "\u001b[1m\u001b[22m`summarise()` has grouped output by 'tissue'. You can override using the\n",
      "`.groups` argument.\n"
     ]
    },
    {
     "data": {
      "text/html": [
       "<table class=\"dataframe\">\n",
       "<caption>A tibble: 1 × 2</caption>\n",
       "<thead>\n",
       "\t<tr><th scope=col>tissue</th><th scope=col>n</th></tr>\n",
       "\t<tr><th scope=col>&lt;chr&gt;</th><th scope=col>&lt;int&gt;</th></tr>\n",
       "</thead>\n",
       "<tbody>\n",
       "\t<tr><td>Brain</td><td>2</td></tr>\n",
       "</tbody>\n",
       "</table>\n"
      ],
      "text/latex": [
       "A tibble: 1 × 2\n",
       "\\begin{tabular}{ll}\n",
       " tissue & n\\\\\n",
       " <chr> & <int>\\\\\n",
       "\\hline\n",
       "\t Brain & 2\\\\\n",
       "\\end{tabular}\n"
      ],
      "text/markdown": [
       "\n",
       "A tibble: 1 × 2\n",
       "\n",
       "| tissue &lt;chr&gt; | n &lt;int&gt; |\n",
       "|---|---|\n",
       "| Brain | 2 |\n",
       "\n"
      ],
      "text/plain": [
       "  tissue n\n",
       "1 Brain  2"
      ]
     },
     "metadata": {},
     "output_type": "display_data"
    }
   ],
   "source": [
    "na.omit(all_tissue_male_no_female[all_tissue_male_no_female$circ %in% data.frame(na.omit(all_tissue_male_no_female[all_tissue_male_no_female$ko == \"7157\" & all_tissue_male_no_female$circ == \"P-hsa04115-9\",]) %>% \n",
    "           group_by(circ,tissue) %>% summarise(n=n()) %>%\n",
    "  filter(n==2))$circ & all_tissue_male_no_female$ko == \"7157\" & all_tissue_male_no_female$circ == \"P-hsa04115-9\",]) %>%\n",
    " mutate(logfc_sig = case_when(logFC < 0 ~ \"-\",\n",
    "                        logFC > 0  ~ \"+\")) %>% group_by(tissue, logfc_sig) %>% summarise(n=n()) %>% \n",
    " filter(n!=2) %>% group_by(tissue)%>% summarise(n=n()) %>% filter(n==2)\n"
   ]
  },
  {
   "cell_type": "code",
   "execution_count": 23,
   "id": "63f02e03-2079-4777-b279-0faf609ec6e6",
   "metadata": {},
   "outputs": [],
   "source": [
    "graph_7157_brain <- merge(merge(all_tissue_male_no_female[all_tissue_male_no_female$tissue == \"Brain\" & all_tissue_male_no_female$ko == \"7157\" & all_tissue_male_no_female$circ == \"P-hsa04115-9\",] %>%\n",
    " mutate(logfc_sig = case_when(logFC < 0 ~ \"-\",\n",
    "                        logFC > 0  ~ \"+\")) , unique(gen_enf[,c(\"gene\",\"ENTREZID\")]), by.x=\"ko\",by.y=\"ENTREZID\"),\n",
    "rd_gen_class, by.x=\"gene\",by.y=\"V1\")\n",
    "graph_7157_brain$name_circ <- get_path_names(pathways, graph_7157_brain$circ)\n",
    "\n",
    "graph_7157_brain$sex[graph_7157_brain$sex == \"female\"] <- \"Female\"\n",
    "graph_7157_brain$sex[graph_7157_brain$sex == \"male\"] <- \"Male\""
   ]
  },
  {
   "cell_type": "code",
   "execution_count": 27,
   "id": "c8ae420f-2dce-4d0c-9996-d9cb87bfe3aa",
   "metadata": {},
   "outputs": [
    {
     "data": {
      "text/html": [
       "<strong>png:</strong> 2"
      ],
      "text/latex": [
       "\\textbf{png:} 2"
      ],
      "text/markdown": [
       "**png:** 2"
      ],
      "text/plain": [
       "png \n",
       "  2 "
      ]
     },
     "metadata": {},
     "output_type": "display_data"
    }
   ],
   "source": [
    "jpeg(\"/mnt/lustre/scratch/CBRA/research/projects/rrdd_mm/results/07_graph_results/07_5_ko_sign_both_sex_all_tissue_only_one_sex/heatmap_ko_sign_both_sex_all_only_one_sex_tissue_diflogFC.jpeg\", quality = 100, width = 400, height = 300)\n",
    "rbind(graph_596_nerve,\n",
    "graph_7157_brain)  %>% ggplot(aes(x= tissue, y = name_circ, fill = logfc_sig)) + \n",
    "  scale_fill_manual(values = c(\"#844288\",\"#E69F00\")) +\n",
    "  geom_tile(color=\"white\")  + facet_grid(sex ~ ., scales = \"free_y\", space = \"free_y\") +\n",
    "  labs(title = \"  TP53   BLC2\", x = \"\", y = \"\", fill=\"Direction\" ,color = \"Legend Title\\n\") + \n",
    "    theme_minimal() + \n",
    "    theme(strip.text.y = element_text(size=8, angle=360), \n",
    "        strip.background = element_rect(colour=\"grey\", fill=c(\"#66B9B9\")),\n",
    "        legend.position=\"right\", legend.direction=\"vertical\",\n",
    "        legend.text=element_text(size=12),\n",
    "        axis.text.x=element_text(size=12,vjust=0.5, angle = 90),\n",
    "        axis.text.y=element_text(size=12,vjust=0.5),\n",
    "        plot.title=element_text(hjust=0, size=12))\n",
    "dev.off()"
   ]
  },
  {
   "cell_type": "code",
   "execution_count": 187,
   "id": "4cea45c8-3519-4a75-bc40-42c1c3ab69b2",
   "metadata": {},
   "outputs": [
    {
     "name": "stderr",
     "output_type": "stream",
     "text": [
      "Warning message in rbind(...):\n",
      "“number of columns of result is not a multiple of vector length (arg 477)”\n"
     ]
    },
    {
     "data": {
      "text/html": [
       "<table class=\"dataframe\">\n",
       "<caption>A data.frame: 0 × 3</caption>\n",
       "<thead>\n",
       "\t<tr><th scope=col>V1</th><th scope=col>V2</th><th scope=col>V3</th></tr>\n",
       "\t<tr><th scope=col>&lt;chr&gt;</th><th scope=col>&lt;chr&gt;</th><th scope=col>&lt;chr&gt;</th></tr>\n",
       "</thead>\n",
       "<tbody>\n",
       "</tbody>\n",
       "</table>\n"
      ],
      "text/latex": [
       "A data.frame: 0 × 3\n",
       "\\begin{tabular}{lll}\n",
       " V1 & V2 & V3\\\\\n",
       " <chr> & <chr> & <chr>\\\\\n",
       "\\hline\n",
       "\\end{tabular}\n"
      ],
      "text/markdown": [
       "\n",
       "A data.frame: 0 × 3\n",
       "\n",
       "| V1 &lt;chr&gt; | V2 &lt;chr&gt; | V3 &lt;chr&gt; |\n",
       "|---|---|---|\n",
       "\n"
      ],
      "text/plain": [
       "     V1 V2 V3"
      ]
     },
     "metadata": {},
     "output_type": "display_data"
    },
    {
     "data": {
      "text/html": [
       "<table class=\"dataframe\">\n",
       "<caption>A data.frame: 5 × 3</caption>\n",
       "<thead>\n",
       "\t<tr><th></th><th scope=col>V1</th><th scope=col>enfermedad</th><th scope=col>clasificacion</th></tr>\n",
       "\t<tr><th></th><th scope=col>&lt;chr&gt;</th><th scope=col>&lt;chr&gt;</th><th scope=col>&lt;chr&gt;</th></tr>\n",
       "</thead>\n",
       "<tbody>\n",
       "\t<tr><th scope=row>511</th><td>IKBKG</td><td>Anhidrotic ectodermal dysplasia-immunodeficiency-osteopetrosis-lymphedema syndrome </td><td>Rare developmental defect during embryogenesis</td></tr>\n",
       "\t<tr><th scope=row>3793</th><td>IKBKG</td><td>Hypohidrotic ectodermal dysplasia with immunodeficiency                            </td><td>Rare developmental defect during embryogenesis</td></tr>\n",
       "\t<tr><th scope=row>3921</th><td>IKBKG</td><td>Incontinentia pigmenti                                                             </td><td>Rare developmental defect during embryogenesis</td></tr>\n",
       "\t<tr><th scope=row>6191</th><td>PDHA1</td><td>Pyruvate dehydrogenase E1-alpha deficiency                                         </td><td>Rare inborn errors of metabolism              </td></tr>\n",
       "\t<tr><th scope=row>7508</th><td>IKBKG</td><td>X-linked mendelian susceptibility to mycobacterial diseases due to IKBKG deficiency</td><td>Rare immune disease                           </td></tr>\n",
       "</tbody>\n",
       "</table>\n"
      ],
      "text/latex": [
       "A data.frame: 5 × 3\n",
       "\\begin{tabular}{r|lll}\n",
       "  & V1 & enfermedad & clasificacion\\\\\n",
       "  & <chr> & <chr> & <chr>\\\\\n",
       "\\hline\n",
       "\t511 & IKBKG & Anhidrotic ectodermal dysplasia-immunodeficiency-osteopetrosis-lymphedema syndrome  & Rare developmental defect during embryogenesis\\\\\n",
       "\t3793 & IKBKG & Hypohidrotic ectodermal dysplasia with immunodeficiency                             & Rare developmental defect during embryogenesis\\\\\n",
       "\t3921 & IKBKG & Incontinentia pigmenti                                                              & Rare developmental defect during embryogenesis\\\\\n",
       "\t6191 & PDHA1 & Pyruvate dehydrogenase E1-alpha deficiency                                          & Rare inborn errors of metabolism              \\\\\n",
       "\t7508 & IKBKG & X-linked mendelian susceptibility to mycobacterial diseases due to IKBKG deficiency & Rare immune disease                           \\\\\n",
       "\\end{tabular}\n"
      ],
      "text/markdown": [
       "\n",
       "A data.frame: 5 × 3\n",
       "\n",
       "| <!--/--> | V1 &lt;chr&gt; | enfermedad &lt;chr&gt; | clasificacion &lt;chr&gt; |\n",
       "|---|---|---|---|\n",
       "| 511 | IKBKG | Anhidrotic ectodermal dysplasia-immunodeficiency-osteopetrosis-lymphedema syndrome  | Rare developmental defect during embryogenesis |\n",
       "| 3793 | IKBKG | Hypohidrotic ectodermal dysplasia with immunodeficiency                             | Rare developmental defect during embryogenesis |\n",
       "| 3921 | IKBKG | Incontinentia pigmenti                                                              | Rare developmental defect during embryogenesis |\n",
       "| 6191 | PDHA1 | Pyruvate dehydrogenase E1-alpha deficiency                                          | Rare inborn errors of metabolism               |\n",
       "| 7508 | IKBKG | X-linked mendelian susceptibility to mycobacterial diseases due to IKBKG deficiency | Rare immune disease                            |\n",
       "\n"
      ],
      "text/plain": [
       "     V1   \n",
       "511  IKBKG\n",
       "3793 IKBKG\n",
       "3921 IKBKG\n",
       "6191 PDHA1\n",
       "7508 IKBKG\n",
       "     enfermedad                                                                         \n",
       "511  Anhidrotic ectodermal dysplasia-immunodeficiency-osteopetrosis-lymphedema syndrome \n",
       "3793 Hypohidrotic ectodermal dysplasia with immunodeficiency                            \n",
       "3921 Incontinentia pigmenti                                                             \n",
       "6191 Pyruvate dehydrogenase E1-alpha deficiency                                         \n",
       "7508 X-linked mendelian susceptibility to mycobacterial diseases due to IKBKG deficiency\n",
       "     clasificacion                                 \n",
       "511  Rare developmental defect during embryogenesis\n",
       "3793 Rare developmental defect during embryogenesis\n",
       "3921 Rare developmental defect during embryogenesis\n",
       "6191 Rare inborn errors of metabolism              \n",
       "7508 Rare immune disease                           "
      ]
     },
     "metadata": {},
     "output_type": "display_data"
    },
    {
     "data": {
      "text/html": [
       "'c(\"NF-kappa B signaling pathway: BCL2L1\", \"NF-kappa B signaling pathway: NFKB2*\", \"NF-kappa B signaling pathway: NFKBIA*\", \"NF-kappa B signaling pathway: VCAM1\", \"NF-kappa B signaling pathway: BCL2\", \"NF-kappa B signaling pathway: BIRC2\", \"NOD-like receptor signaling pathway: IKBKG CHUK IKBKB\", \"RIG-I-like receptor signaling pathway: IRF7\", \"NF-kappa B signaling pathway: TNFAIP3\", \"RIG-I-like receptor signaling pathway: CHUK IKBKB IKBKG\", \"RIG-I-like receptor signaling pathway: IRF3 PIN1\", \"T cell receptor signaling pathway: NFKB1\", \\n\"B cell receptor signaling pathway: NFKB1\", \"TNF signaling pathway: IKBKG\", \"NF-kappa B signaling pathway: CXCL8\", \"NF-kappa B signaling pathway: CFLAR\", \"NF-kappa B signaling pathway: CXCL2\", \"NF-kappa B signaling pathway: XIAP\", \"NF-kappa B signaling pathway: GADD45B\", \"NF-kappa B signaling pathway: IL1B*\", \"NF-kappa B signaling pathway: PTGS2\", \"NF-kappa B signaling pathway: TNF*\", \"NF-kappa B signaling pathway: CCL4L1\", \"NF-kappa B signaling pathway: TRAF1\", \"NF-kappa B signaling pathway: BCL2A1*\", \\n\"Toll-like receptor signaling pathway: NFKB1\")'"
      ],
      "text/latex": [
       "'c(\"NF-kappa B signaling pathway: BCL2L1\", \"NF-kappa B signaling pathway: NFKB2*\", \"NF-kappa B signaling pathway: NFKBIA*\", \"NF-kappa B signaling pathway: VCAM1\", \"NF-kappa B signaling pathway: BCL2\", \"NF-kappa B signaling pathway: BIRC2\", \"NOD-like receptor signaling pathway: IKBKG CHUK IKBKB\", \"RIG-I-like receptor signaling pathway: IRF7\", \"NF-kappa B signaling pathway: TNFAIP3\", \"RIG-I-like receptor signaling pathway: CHUK IKBKB IKBKG\", \"RIG-I-like receptor signaling pathway: IRF3 PIN1\", \"T cell receptor signaling pathway: NFKB1\", \\textbackslash{}n\"B cell receptor signaling pathway: NFKB1\", \"TNF signaling pathway: IKBKG\", \"NF-kappa B signaling pathway: CXCL8\", \"NF-kappa B signaling pathway: CFLAR\", \"NF-kappa B signaling pathway: CXCL2\", \"NF-kappa B signaling pathway: XIAP\", \"NF-kappa B signaling pathway: GADD45B\", \"NF-kappa B signaling pathway: IL1B*\", \"NF-kappa B signaling pathway: PTGS2\", \"NF-kappa B signaling pathway: TNF*\", \"NF-kappa B signaling pathway: CCL4L1\", \"NF-kappa B signaling pathway: TRAF1\", \"NF-kappa B signaling pathway: BCL2A1*\", \\textbackslash{}n\"Toll-like receptor signaling pathway: NFKB1\")'"
      ],
      "text/markdown": [
       "'c(\"NF-kappa B signaling pathway: BCL2L1\", \"NF-kappa B signaling pathway: NFKB2*\", \"NF-kappa B signaling pathway: NFKBIA*\", \"NF-kappa B signaling pathway: VCAM1\", \"NF-kappa B signaling pathway: BCL2\", \"NF-kappa B signaling pathway: BIRC2\", \"NOD-like receptor signaling pathway: IKBKG CHUK IKBKB\", \"RIG-I-like receptor signaling pathway: IRF7\", \"NF-kappa B signaling pathway: TNFAIP3\", \"RIG-I-like receptor signaling pathway: CHUK IKBKB IKBKG\", \"RIG-I-like receptor signaling pathway: IRF3 PIN1\", \"T cell receptor signaling pathway: NFKB1\", \\n\"B cell receptor signaling pathway: NFKB1\", \"TNF signaling pathway: IKBKG\", \"NF-kappa B signaling pathway: CXCL8\", \"NF-kappa B signaling pathway: CFLAR\", \"NF-kappa B signaling pathway: CXCL2\", \"NF-kappa B signaling pathway: XIAP\", \"NF-kappa B signaling pathway: GADD45B\", \"NF-kappa B signaling pathway: IL1B*\", \"NF-kappa B signaling pathway: PTGS2\", \"NF-kappa B signaling pathway: TNF*\", \"NF-kappa B signaling pathway: CCL4L1\", \"NF-kappa B signaling pathway: TRAF1\", \"NF-kappa B signaling pathway: BCL2A1*\", \\n\"Toll-like receptor signaling pathway: NFKB1\")'"
      ],
      "text/plain": [
       "[1] \"c(\\\"NF-kappa B signaling pathway: BCL2L1\\\", \\\"NF-kappa B signaling pathway: NFKB2*\\\", \\\"NF-kappa B signaling pathway: NFKBIA*\\\", \\\"NF-kappa B signaling pathway: VCAM1\\\", \\\"NF-kappa B signaling pathway: BCL2\\\", \\\"NF-kappa B signaling pathway: BIRC2\\\", \\\"NOD-like receptor signaling pathway: IKBKG CHUK IKBKB\\\", \\\"RIG-I-like receptor signaling pathway: IRF7\\\", \\\"NF-kappa B signaling pathway: TNFAIP3\\\", \\\"RIG-I-like receptor signaling pathway: CHUK IKBKB IKBKG\\\", \\\"RIG-I-like receptor signaling pathway: IRF3 PIN1\\\", \\\"T cell receptor signaling pathway: NFKB1\\\", \\n\\\"B cell receptor signaling pathway: NFKB1\\\", \\\"TNF signaling pathway: IKBKG\\\", \\\"NF-kappa B signaling pathway: CXCL8\\\", \\\"NF-kappa B signaling pathway: CFLAR\\\", \\\"NF-kappa B signaling pathway: CXCL2\\\", \\\"NF-kappa B signaling pathway: XIAP\\\", \\\"NF-kappa B signaling pathway: GADD45B\\\", \\\"NF-kappa B signaling pathway: IL1B*\\\", \\\"NF-kappa B signaling pathway: PTGS2\\\", \\\"NF-kappa B signaling pathway: TNF*\\\", \\\"NF-kappa B signaling pathway: CCL4L1\\\", \\\"NF-kappa B signaling pathway: TRAF1\\\", \\\"NF-kappa B signaling pathway: BCL2A1*\\\", \\n\\\"Toll-like receptor signaling pathway: NFKB1\\\")\""
      ]
     },
     "metadata": {},
     "output_type": "display_data"
    }
   ],
   "source": [
    "x <- org.Hs.egCHR\n",
    "mapped_genes <- mappedkeys(x)\n",
    "xx <- as.list(x[mapped_genes])\n",
    "df_gen_cromosoma <- as.data.frame(do.call(rbind, xx))\n",
    "\n",
    "p <- df_gen_cromosoma[unique(all_tissue_only_one_sex$ko),]\n",
    "p[p$V1 == \"Y\" | p$V2 == \"Y\" | p$V3 == \"Y\",]  \n",
    "\n",
    "\n",
    "rd_gen_class[rd_gen_class$V1 %in% gen_enf[gen_enf$ENTREZID %in% rownames(p[p$V1 == \"X\" | p$V2 == \"X\" | p$V3 == \"X\",]),\"gene\"],]\n",
    "\n",
    "paste(unique(all_tissue_only_one_sex_save_csv[all_tissue_only_one_sex_save_csv$gene %in% paste(gen_enf[gen_enf$ENTREZID %in% rownames(p[p$V1 == \"X\" | p$V2 == \"X\" | p$V3 == \"X\",]),\"gene\"]),c(\"gene_rd\",\"circ_belong_gene_rd\")]) %>%\n",
    "filter(gene_rd == \"IKBKG\") %>% select(circ_belong_gene_rd))"
   ]
  }
 ],
 "metadata": {
  "kernelspec": {
   "display_name": "R",
   "language": "R",
   "name": "ir"
  },
  "language_info": {
   "codemirror_mode": "r",
   "file_extension": ".r",
   "mimetype": "text/x-r-source",
   "name": "R",
   "pygments_lexer": "r",
   "version": "4.3.2"
  }
 },
 "nbformat": 4,
 "nbformat_minor": 5
}
